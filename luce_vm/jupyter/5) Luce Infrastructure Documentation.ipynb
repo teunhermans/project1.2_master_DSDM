{
 "cells": [
  {
   "cell_type": "markdown",
   "metadata": {},
   "source": [
    "# Luce Infrastructure Documentation\n",
    "The aim of this notebook is to give a high-level overview of the various components the Luce infrastructure is made up of and how they interact with each other. The idea is to provide an accessible entry-point for future users/developers of Luce to gain an overall understanding of the system. \n",
    "\n",
    "With that understanding it will then be easier to work with the specific components of interest themselves. (Which could be confusing/intimidating without knowledge of the broader context.) This documentation is still under development.."
   ]
  },
  {
   "cell_type": "markdown",
   "metadata": {},
   "source": [
    "## High-Level Overview"
   ]
  },
  {
   "cell_type": "markdown",
   "metadata": {},
   "source": [
    "---"
   ]
  },
  {
   "cell_type": "markdown",
   "metadata": {},
   "source": [
    "## Different layers of abstraction\n",
    "Highest level of abstraction:\n",
    "* LuceVM: contains and encapsulates everything\n",
    "    * Luce Frontend\n",
    "    * Databases\n",
    "    * Local Blockchain\n",
    "    * Notebook Environment\n",
    "* Browser of Host Machine: Used to access and interact with all features\n",
    "\n",
    "Medium level:\n",
    "* Django\n",
    "* Jupyter\n",
    "* Ganache\n",
    "* Apache\n",
    "\n",
    "Low level:\n",
    "* Vagrant configuration\n",
    "* Shell scripts\n",
    "* Conda environments\n",
    "* Python packages\n",
    "* npm packages\n",
    "* Solidity Compiler & dependencies"
   ]
  },
  {
   "cell_type": "code",
   "execution_count": null,
   "metadata": {},
   "outputs": [],
   "source": []
  }
 ],
 "metadata": {
  "kernelspec": {
   "display_name": "Python 3",
   "language": "python",
   "name": "python3"
  },
  "language_info": {
   "codemirror_mode": {
    "name": "ipython",
    "version": 3
   },
   "file_extension": ".py",
   "mimetype": "text/x-python",
   "name": "python",
   "nbconvert_exporter": "python",
   "pygments_lexer": "ipython3",
   "version": "3.7.3"
  },
  "toc": {
   "base_numbering": 1,
   "nav_menu": {},
   "number_sections": false,
   "sideBar": true,
   "skip_h1_title": false,
   "title_cell": "Table of Contents",
   "title_sidebar": "Contents",
   "toc_cell": false,
   "toc_position": {},
   "toc_section_display": true,
   "toc_window_display": true
  },
  "varInspector": {
   "cols": {
    "lenName": 16,
    "lenType": 16,
    "lenVar": 40
   },
   "kernels_config": {
    "python": {
     "delete_cmd_postfix": "",
     "delete_cmd_prefix": "del ",
     "library": "var_list.py",
     "varRefreshCmd": "print(var_dic_list())"
    },
    "r": {
     "delete_cmd_postfix": ") ",
     "delete_cmd_prefix": "rm(",
     "library": "var_list.r",
     "varRefreshCmd": "cat(var_dic_list()) "
    }
   },
   "types_to_exclude": [
    "module",
    "function",
    "builtin_function_or_method",
    "instance",
    "_Feature"
   ],
   "window_display": false
  }
 },
 "nbformat": 4,
 "nbformat_minor": 2
}
