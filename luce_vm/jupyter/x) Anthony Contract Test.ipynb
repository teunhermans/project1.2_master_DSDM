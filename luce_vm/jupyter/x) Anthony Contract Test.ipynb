{
 "cells": [
  {
   "cell_type": "markdown",
   "metadata": {},
   "source": [
    "### Deploy and Interact with Anthony's contract\n",
    "The aim of this notebook is to compile, deploy and interact with Anthony's Smart Contract"
   ]
  },
  {
   "cell_type": "markdown",
   "metadata": {},
   "source": [
    "### Compile contract from file"
   ]
  },
  {
   "cell_type": "code",
   "execution_count": 174,
   "metadata": {
    "inputHidden": false,
    "outputHidden": false
   },
   "outputs": [],
   "source": [
    "# Import libraries\n",
    "import json\n",
    "import web3\n",
    "\n",
    "from web3 import Web3\n",
    "from solcx import compile_source\n",
    "from web3.contract import ConciseContract"
   ]
  },
  {
   "cell_type": "code",
   "execution_count": 175,
   "metadata": {},
   "outputs": [],
   "source": [
    "# Read in LUCE contract code\n",
    "with open('./data/anthony_dev.sol', 'r') as file:\n",
    "    contract_source_code = file.read()"
   ]
  },
  {
   "cell_type": "code",
   "execution_count": 176,
   "metadata": {},
   "outputs": [],
   "source": [
    "# Compile & Store Compiled source code\n",
    "compiled_sol = compile_source(contract_source_code)"
   ]
  },
  {
   "cell_type": "code",
   "execution_count": 177,
   "metadata": {},
   "outputs": [],
   "source": [
    "#compiled_sol"
   ]
  },
  {
   "cell_type": "code",
   "execution_count": 178,
   "metadata": {},
   "outputs": [],
   "source": [
    "# Extract full interface as dict from compiled contract\n",
    "contract_interface = compiled_sol['<stdin>:LinkedList']"
   ]
  },
  {
   "cell_type": "code",
   "execution_count": 179,
   "metadata": {},
   "outputs": [],
   "source": [
    "#contract_interface"
   ]
  },
  {
   "cell_type": "code",
   "execution_count": 180,
   "metadata": {},
   "outputs": [],
   "source": [
    "# Extract abi and bytecode\n",
    "abi = contract_interface['abi']\n",
    "bytecode = contract_interface['bin']"
   ]
  },
  {
   "cell_type": "markdown",
   "metadata": {},
   "source": [
    "### Deploy"
   ]
  },
  {
   "cell_type": "code",
   "execution_count": 181,
   "metadata": {},
   "outputs": [],
   "source": [
    "# Use Ganache for web3 instance\n",
    "#w3 = Web3(Web3.HTTPProvider(\"HTTP://127.0.0.1:8545\"))"
   ]
  },
  {
   "cell_type": "code",
   "execution_count": 182,
   "metadata": {},
   "outputs": [],
   "source": [
    "# Use local Ganache GUI on macOS\n",
    "w3 = Web3(Web3.HTTPProvider(\"HTTP://192.168.72.1:7545\"))"
   ]
  },
  {
   "cell_type": "code",
   "execution_count": 183,
   "metadata": {},
   "outputs": [],
   "source": [
    "# Set pre-funded ganache account #0 as sender\n",
    "w3.eth.defaultAccount = w3.eth.accounts[0]"
   ]
  },
  {
   "cell_type": "code",
   "execution_count": 184,
   "metadata": {},
   "outputs": [
    {
     "data": {
      "text/plain": [
       "'0xa23A89bc3dd4ABa9D4029e5Fde9dd3b1355Ff073'"
      ]
     },
     "execution_count": 184,
     "metadata": {},
     "output_type": "execute_result"
    }
   ],
   "source": [
    "w3.eth.accounts[0]"
   ]
  },
  {
   "cell_type": "markdown",
   "metadata": {},
   "source": [
    "The default `eth.defaultAccount` address is used as the default \"from\" property for transaction dictionaries if no other explicit \"from\" property is specified."
   ]
  },
  {
   "cell_type": "code",
   "execution_count": 185,
   "metadata": {},
   "outputs": [],
   "source": [
    "# Create contract blueprint\n",
    "Contract = w3.eth.contract(abi=abi, bytecode=bytecode)"
   ]
  },
  {
   "cell_type": "code",
   "execution_count": 186,
   "metadata": {},
   "outputs": [],
   "source": [
    "# Submit the transaction that deploys the contract\n",
    "tx_hash = Contract.constructor().transact()"
   ]
  },
  {
   "cell_type": "code",
   "execution_count": 187,
   "metadata": {},
   "outputs": [
    {
     "data": {
      "text/plain": [
       "HexBytes('0xf0acec1c3e0a0baa048455ba88d1f960b489dc93600503f104e4afd8fb64d67a')"
      ]
     },
     "execution_count": 187,
     "metadata": {},
     "output_type": "execute_result"
    }
   ],
   "source": [
    "tx_hash"
   ]
  },
  {
   "cell_type": "markdown",
   "metadata": {},
   "source": [
    "### Obtain Transcation Receipt"
   ]
  },
  {
   "cell_type": "code",
   "execution_count": 151,
   "metadata": {},
   "outputs": [],
   "source": [
    "# Wait for the transaction to be mined, and get the transaction receipt\n",
    "tx_receipt = w3.eth.waitForTransactionReceipt(tx_hash)"
   ]
  },
  {
   "cell_type": "code",
   "execution_count": 152,
   "metadata": {},
   "outputs": [
    {
     "data": {
      "text/plain": [
       "'0x213Ed0682FF060A16e88A5EB4443B77dc6171287'"
      ]
     },
     "execution_count": 152,
     "metadata": {},
     "output_type": "execute_result"
    }
   ],
   "source": [
    "# Obtain address of freshly deployed contract\n",
    "tx_receipt.contractAddress"
   ]
  },
  {
   "cell_type": "markdown",
   "metadata": {},
   "source": [
    "### Interact with contract"
   ]
  },
  {
   "cell_type": "code",
   "execution_count": 159,
   "metadata": {},
   "outputs": [],
   "source": [
    "# Create python instance of deployed contract\n",
    "anthony_contract = w3.eth.contract(\n",
    "    address=tx_receipt.contractAddress,\n",
    "    abi=contract_interface['abi'],\n",
    ")"
   ]
  },
  {
   "cell_type": "code",
   "execution_count": 160,
   "metadata": {},
   "outputs": [],
   "source": [
    "# Extract default accounts created by ganache\n",
    "accounts = w3.eth.accounts"
   ]
  },
  {
   "cell_type": "code",
   "execution_count": 161,
   "metadata": {},
   "outputs": [
    {
     "data": {
      "text/plain": [
       "['0x92D44e8579620F2Db88A12E70FE38e8CDB3541BA',\n",
       " '0xbf7ca7e607516Cd0F1b94a6C77F45fbFD936949C',\n",
       " '0x43e196C418b4b7Ebf71ba534042cC8907bd39dc9']"
      ]
     },
     "execution_count": 161,
     "metadata": {},
     "output_type": "execute_result"
    }
   ],
   "source": [
    "accounts"
   ]
  },
  {
   "cell_type": "markdown",
   "metadata": {},
   "source": [
    "**UploadData**  \n",
    "```solidity\n",
    "function UploadData(\n",
    "    address _address1,\n",
    "    bool _OpenToGeneralResearch, \n",
    "    bool _OpenToHMBResearch, \n",
    "    bool _OpenForClinicalPurpose, \n",
    "    bool _OpenToProfit\n",
    ")\n",
    "```"
   ]
  },
  {
   "cell_type": "code",
   "execution_count": 162,
   "metadata": {},
   "outputs": [],
   "source": [
    "test_address = '0x92D44e8579620F2Db88A12E70FE38e8CDB3541BA'\n",
    "test_address = accounts[0]\n",
    "\n",
    "tx_hash = anthony_contract.functions.UploadData(test_address, True, False, False, False).transact()"
   ]
  },
  {
   "cell_type": "code",
   "execution_count": 163,
   "metadata": {},
   "outputs": [
    {
     "data": {
      "text/plain": [
       "HexBytes('0xd94d776a047f2cecbcb003061d2c2069829021d57fda403f2fcad5cfd82bcaa7')"
      ]
     },
     "execution_count": 163,
     "metadata": {},
     "output_type": "execute_result"
    }
   ],
   "source": [
    "tx_hash"
   ]
  },
  {
   "cell_type": "markdown",
   "metadata": {},
   "source": [
    "**giveResearchPurpose**  \n",
    "```solidity\n",
    "function giveResearchPurpose( \n",
    "    address _address2,\n",
    "    bool _MethodsDevelopment,\n",
    "    bool _ReferenceOrControlMaterial, \n",
    "    bool _Populations,\n",
    "    bool _Ancestry )\n",
    "```"
   ]
  },
  {
   "cell_type": "code",
   "execution_count": 157,
   "metadata": {},
   "outputs": [],
   "source": [
    "test_address2 = accounts[1]\n",
    "\n",
    "tx_hash = anthony_contract.functions.giveResearchPurpose(test_address2, True, True, True, True).transact()"
   ]
  },
  {
   "cell_type": "code",
   "execution_count": null,
   "metadata": {},
   "outputs": [],
   "source": []
  }
 ],
 "metadata": {
  "hide_input": false,
  "kernel_info": {
   "name": "python3"
  },
  "kernelspec": {
   "display_name": "luce_vm",
   "language": "python",
   "name": "luce_vm"
  },
  "language_info": {
   "codemirror_mode": {
    "name": "ipython",
    "version": 3
   },
   "file_extension": ".py",
   "mimetype": "text/x-python",
   "name": "python",
   "nbconvert_exporter": "python",
   "pygments_lexer": "ipython3",
   "version": "3.7.3"
  },
  "nteract": {
   "version": "0.14.3"
  },
  "toc": {
   "base_numbering": 1,
   "nav_menu": {},
   "number_sections": false,
   "sideBar": true,
   "skip_h1_title": false,
   "title_cell": "Table of Contents",
   "title_sidebar": "Contents",
   "toc_cell": false,
   "toc_position": {},
   "toc_section_display": true,
   "toc_window_display": true
  },
  "varInspector": {
   "cols": {
    "lenName": 16,
    "lenType": 16,
    "lenVar": 40
   },
   "kernels_config": {
    "python": {
     "delete_cmd_postfix": "",
     "delete_cmd_prefix": "del ",
     "library": "var_list.py",
     "varRefreshCmd": "print(var_dic_list())"
    },
    "r": {
     "delete_cmd_postfix": ") ",
     "delete_cmd_prefix": "rm(",
     "library": "var_list.r",
     "varRefreshCmd": "cat(var_dic_list()) "
    }
   },
   "types_to_exclude": [
    "module",
    "function",
    "builtin_function_or_method",
    "instance",
    "_Feature"
   ],
   "window_display": false
  }
 },
 "nbformat": 4,
 "nbformat_minor": 2
}
