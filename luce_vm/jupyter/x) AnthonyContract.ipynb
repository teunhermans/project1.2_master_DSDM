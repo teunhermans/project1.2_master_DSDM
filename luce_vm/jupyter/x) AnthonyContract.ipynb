{
 "cells": [
  {
   "cell_type": "markdown",
   "metadata": {},
   "source": [
    "### Deploy and Interact with Anthony's contract\n",
    "The aim of this notebook is to compile, deploy and interact with Anthony's Smart Contract"
   ]
  },
  {
   "cell_type": "markdown",
   "metadata": {},
   "source": [
    "### Compile contract from file"
   ]
  },
  {
   "cell_type": "code",
   "execution_count": null,
   "metadata": {
    "inputHidden": false,
    "outputHidden": false
   },
   "outputs": [],
   "source": [
    "# Import libraries\n",
    "import json\n",
    "import web3\n",
    "\n",
    "from web3 import Web3\n",
    "from solcx import compile_source\n",
    "from web3.contract import ConciseContract"
   ]
  },
  {
   "cell_type": "code",
   "execution_count": null,
   "metadata": {},
   "outputs": [],
   "source": [
    "# Read in LUCE contract code\n",
    "with open('./data/anthony_dev.sol', 'r') as file:\n",
    "    contract_source_code = file.read()"
   ]
  },
  {
   "cell_type": "code",
   "execution_count": null,
   "metadata": {},
   "outputs": [],
   "source": [
    "# Compile & Store Compiled source code\n",
    "compiled_sol = compile_source(contract_source_code)"
   ]
  },
  {
   "cell_type": "code",
   "execution_count": null,
   "metadata": {},
   "outputs": [],
   "source": [
    "#compiled_sol"
   ]
  },
  {
   "cell_type": "code",
   "execution_count": null,
   "metadata": {},
   "outputs": [],
   "source": [
    "# Extract full interface as dict from compiled contract\n",
    "contract_interface = compiled_sol['<stdin>:LinkedList']"
   ]
  },
  {
   "cell_type": "code",
   "execution_count": null,
   "metadata": {},
   "outputs": [],
   "source": [
    "#contract_interface"
   ]
  },
  {
   "cell_type": "code",
   "execution_count": null,
   "metadata": {},
   "outputs": [],
   "source": [
    "# Extract abi and bytecode\n",
    "abi = contract_interface['abi']\n",
    "bytecode = contract_interface['bin']"
   ]
  },
  {
   "cell_type": "markdown",
   "metadata": {},
   "source": [
    "### Deploy"
   ]
  },
  {
   "cell_type": "code",
   "execution_count": null,
   "metadata": {},
   "outputs": [],
   "source": [
    "# Use Ganache for web3 instance, command line interface\n",
    "w3 = Web3(Web3.HTTPProvider(\"HTTP://127.0.0.1:8545\"))"
   ]
  },
  {
   "cell_type": "code",
   "execution_count": null,
   "metadata": {},
   "outputs": [],
   "source": [
    "# Use local Ganache GUI on macOS\n",
    "#w3 = Web3(Web3.HTTPProvider(\"HTTP://192.168.2.4:7545\"))"
   ]
  },
  {
   "cell_type": "code",
   "execution_count": null,
   "metadata": {},
   "outputs": [],
   "source": [
    "# Set pre-funded ganache account #0 as sender \n",
    "# alle transactionen werden von dieser Adresse signiert \n",
    "w3.eth.defaultAccount = w3.eth.accounts[0]"
   ]
  },
  {
   "cell_type": "markdown",
   "metadata": {},
   "source": [
    "The default `eth.defaultAccount` address is used as the default \"from\" property for transaction dictionaries if no other explicit \"from\" property is specified."
   ]
  },
  {
   "cell_type": "code",
   "execution_count": null,
   "metadata": {},
   "outputs": [],
   "source": [
    "# Create contract blueprint\n",
    "Contract = w3.eth.contract(abi=abi, bytecode=bytecode)"
   ]
  },
  {
   "cell_type": "code",
   "execution_count": null,
   "metadata": {},
   "outputs": [],
   "source": [
    "# Submit the transaction that deploys the contract\n",
    "# Create a variable to find the contract in the Blockchain \n",
    "tx_hash = Contract.constructor().transact()"
   ]
  },
  {
   "cell_type": "markdown",
   "metadata": {},
   "source": [
    "### Obtain Transcation Receipt"
   ]
  },
  {
   "cell_type": "code",
   "execution_count": null,
   "metadata": {},
   "outputs": [],
   "source": [
    "# Wait for the transaction to be mined, and get the transaction receipt\n",
    "tx_receipt = w3.eth.waitForTransactionReceipt(tx_hash)"
   ]
  },
  {
   "cell_type": "code",
   "execution_count": null,
   "metadata": {},
   "outputs": [],
   "source": [
    "# We obtain the block number under which it is deployed \n",
    "global contract_block\n",
    "contract_block = w3.eth.blockNumber\n",
    "print(\"The contract is deployed with block number\",contract_block,\".\")"
   ]
  },
  {
   "cell_type": "code",
   "execution_count": null,
   "metadata": {},
   "outputs": [],
   "source": [
    "# With obtain the final address of the contract \n",
    "global contract_address\n",
    "contract_address = tx_receipt.contractAddress\n",
    "print(\"The contract has the address\", contract_address,\".\")"
   ]
  },
  {
   "cell_type": "markdown",
   "metadata": {},
   "source": [
    "### Interact with contract"
   ]
  },
  {
   "cell_type": "code",
   "execution_count": null,
   "metadata": {},
   "outputs": [],
   "source": [
    "# Create python instance of deployed contract\n",
    "anthony_contract = w3.eth.contract(\n",
    "    address=tx_receipt.contractAddress,\n",
    "    abi=contract_interface['abi'],\n",
    ")"
   ]
  },
  {
   "cell_type": "code",
   "execution_count": null,
   "metadata": {},
   "outputs": [],
   "source": [
    "# Extract default accounts created by ganache\n",
    "accounts = w3.eth.accounts"
   ]
  },
  {
   "cell_type": "code",
   "execution_count": null,
   "metadata": {},
   "outputs": [],
   "source": [
    "accounts"
   ]
  },
  {
   "cell_type": "markdown",
   "metadata": {},
   "source": [
    "**UploadData**  \n",
    "```solidity\n",
    "function UploadData(\n",
    "    address _address1,\n",
    "    bool _OpenToGeneralResearch, \n",
    "    bool _OpenToHMBResearch, \n",
    "    bool _OpenForClinicalPurpose, \n",
    "    bool _OpenToProfit\n",
    ")\n",
    "```"
   ]
  },
  {
   "cell_type": "code",
   "execution_count": null,
   "metadata": {},
   "outputs": [],
   "source": [
    "tx_hash"
   ]
  },
  {
   "cell_type": "markdown",
   "metadata": {},
   "source": [
    "**giveResearchPurpose**  \n",
    "```solidity\n",
    "function giveResearchPurpose( \n",
    "    address _address2,\n",
    "    bool _MethodsDevelopment,\n",
    "    bool _ReferenceOrControlMaterial, \n",
    "    bool _Populations,\n",
    "    bool _Ancestry ) \n",
    "```"
   ]
  },
  {
   "cell_type": "markdown",
   "metadata": {},
   "source": [
    " function givePerson( \n",
    "        bytes32 _address2,\n",
    "        bool    _Academic,\n",
    "        bool    _Clinical,\n",
    "        bool    _ProfitMaking,\n",
    "        bool    _NonProfessional"
   ]
  },
  {
   "cell_type": "code",
   "execution_count": null,
   "metadata": {},
   "outputs": [],
   "source": [
    "#Data Requesters Account  \n",
    "test_address1 = accounts[0]\n",
    "test_address2 = accounts[1]\n",
    "test_address3 = accounts[2]\n",
    "\n",
    "\n",
    "#Data Requester 1 (HMB Profit Making)\n",
    "tx_hash = anthony_contract.functions.giveResearchPurpose(test_address3, False,False,False,False).transact()\n",
    "tx_hash = anthony_contract.functions.giveHMBPurpose(test_address3, True,True,True,True,True).transact()\n",
    "tx_hash = anthony_contract.functions.giveClinicalPurpose(test_address3, False, False).transact()\n",
    "tx_hash = anthony_contract.functions.givePerson(test_address3, False, False, True, False).transact()\n",
    "\n",
    "\n",
    "#Data Requester 2 (Clinical Care and Non Profit Making)\n",
    "tx_hash = anthony_contract.functions.giveResearchPurpose(test_address1, False,False,False,False).transact()\n",
    "tx_hash = anthony_contract.functions.giveHMBPurpose(test_address1, False, False, False, False, False).transact()\n",
    "tx_hash = anthony_contract.functions.giveClinicalPurpose(test_address1, True,True).transact()\n",
    "tx_hash = anthony_contract.functions.givePerson(test_address1, False, True,False, False).transact()\n",
    "\n",
    "\n",
    "#Data Requester 3 (General Research Profit Making)\n",
    "tx_hash = anthony_contract.functions.giveResearchPurpose(test_address2, True, True, True,True).transact()\n",
    "tx_hash = anthony_contract.functions.giveHMBPurpose(test_address2, False, False, False, False, False).transact()\n",
    "tx_hash = anthony_contract.functions.giveClinicalPurpose(test_address2, False, False).transact()\n",
    "tx_hash = anthony_contract.functions.givePerson(test_address2, True, False, True, False).transact()\n",
    "\n"
   ]
  },
  {
   "cell_type": "code",
   "execution_count": null,
   "metadata": {},
   "outputs": [],
   "source": [
    "#D-001\n",
    "\n",
    "test_address4 = accounts[4]\n",
    "## Data Subject Uploads is dataset \n",
    "tx_hash = anthony_contract.functions.UploadData(test_address4, True, True, False,True).transact()\n"
   ]
  },
  {
   "cell_type": "code",
   "execution_count": null,
   "metadata": {},
   "outputs": [],
   "source": [
    "anthony_contract.functions.AccessData(test_address4, test_address1).call()"
   ]
  },
  {
   "cell_type": "code",
   "execution_count": null,
   "metadata": {},
   "outputs": [],
   "source": [
    "anthony_contract.functions.AccessData(test_address4, test_address2).call()"
   ]
  },
  {
   "cell_type": "code",
   "execution_count": null,
   "metadata": {},
   "outputs": [],
   "source": [
    "anthony_contract.functions.AccessData(test_address4, test_address3).call()"
   ]
  },
  {
   "cell_type": "code",
   "execution_count": null,
   "metadata": {},
   "outputs": [],
   "source": [
    "#D-002\n",
    "\n",
    "test_address5 = accounts[5]\n",
    "## Data Subject Uploads is dataset \n",
    "tx_hash = anthony_contract.functions.UploadData(test_address5, True, False,False,True).transact()"
   ]
  },
  {
   "cell_type": "code",
   "execution_count": null,
   "metadata": {},
   "outputs": [],
   "source": [
    "anthony_contract.functions.AccessData(test_address5, test_address2).call()"
   ]
  },
  {
   "cell_type": "code",
   "execution_count": null,
   "metadata": {},
   "outputs": [],
   "source": [
    "anthony_contract.functions.AccessData(test_address5, test_address1).call()"
   ]
  },
  {
   "cell_type": "code",
   "execution_count": null,
   "metadata": {},
   "outputs": [],
   "source": [
    "anthony_contract.functions.AccessData(test_address5, test_address2).call()"
   ]
  },
  {
   "cell_type": "code",
   "execution_count": null,
   "metadata": {},
   "outputs": [],
   "source": [
    "#H-001\n",
    "\n",
    "test_address6 = accounts[6]\n",
    "## Data Subject Uploads is dataset \n",
    "tx_hash = anthony_contract.functions.UploadData(test_address6, True, False, False, True).transact()"
   ]
  },
  {
   "cell_type": "code",
   "execution_count": null,
   "metadata": {},
   "outputs": [],
   "source": [
    "anthony_contract.functions.AccessData(test_address6, test_address2).call()"
   ]
  },
  {
   "cell_type": "code",
   "execution_count": null,
   "metadata": {},
   "outputs": [],
   "source": [
    "anthony_contract.functions.AccessData(test_address6, test_address1).call()"
   ]
  },
  {
   "cell_type": "code",
   "execution_count": null,
   "metadata": {},
   "outputs": [],
   "source": [
    "anthony_contract.functions.AccessData(test_address6, test_address2).call()"
   ]
  },
  {
   "cell_type": "code",
   "execution_count": null,
   "metadata": {},
   "outputs": [],
   "source": [
    "#H-002\n",
    "\n",
    "test_address7 = accounts[7]\n",
    "## Data Subject Uploads is dataset \n",
    "tx_hash = anthony_contract.functions.UploadData(test_address6, True,False, False, True).transact()"
   ]
  },
  {
   "cell_type": "code",
   "execution_count": null,
   "metadata": {},
   "outputs": [],
   "source": [
    "anthony_contract.functions.AccessData(test_address7, test_address2).call()"
   ]
  },
  {
   "cell_type": "code",
   "execution_count": null,
   "metadata": {},
   "outputs": [],
   "source": [
    "anthony_contract.functions.AccessData(test_address7, test_address2).call()"
   ]
  },
  {
   "cell_type": "code",
   "execution_count": null,
   "metadata": {},
   "outputs": [],
   "source": [
    "anthony_contract.functions.AccessData(test_address7, test_address3).call()"
   ]
  },
  {
   "cell_type": "code",
   "execution_count": null,
   "metadata": {},
   "outputs": [],
   "source": [
    "#D-003\n",
    "\n",
    "test_address8 = accounts[8]\n",
    "## Data Subject Uploads is dataset \n",
    "tx_hash = anthony_contract.functions.UploadData(test_address8, False,True,False, False).transact()"
   ]
  },
  {
   "cell_type": "code",
   "execution_count": null,
   "metadata": {},
   "outputs": [],
   "source": [
    "anthony_contract.functions.AccessData(test_address8, test_address3).call()"
   ]
  },
  {
   "cell_type": "code",
   "execution_count": null,
   "metadata": {},
   "outputs": [],
   "source": [
    "anthony_contract.functions.AccessData(test_address8, test_address2).call()"
   ]
  },
  {
   "cell_type": "code",
   "execution_count": null,
   "metadata": {},
   "outputs": [],
   "source": [
    "anthony_contract.functions.AccessData(test_address8, test_address3).call()"
   ]
  },
  {
   "cell_type": "code",
   "execution_count": null,
   "metadata": {},
   "outputs": [],
   "source": [
    "#D-004\n",
    "\n",
    "test_address9 = accounts[9]\n",
    "## Data Subject Uploads is dataset \n",
    "tx_hash = anthony_contract.functions.UploadData(test_address7, False,True,False,True).transact()"
   ]
  },
  {
   "cell_type": "code",
   "execution_count": null,
   "metadata": {},
   "outputs": [],
   "source": [
    "anthony_contract.functions.AccessData(test_address9, test_address1).call()"
   ]
  },
  {
   "cell_type": "code",
   "execution_count": null,
   "metadata": {},
   "outputs": [],
   "source": [
    "anthony_contract.functions.AccessData(test_address9, test_address2).call()"
   ]
  },
  {
   "cell_type": "code",
   "execution_count": null,
   "metadata": {},
   "outputs": [],
   "source": [
    "anthony_contract.functions.AccessData(test_address9, test_address3).call()"
   ]
  },
  {
   "cell_type": "code",
   "execution_count": null,
   "metadata": {},
   "outputs": [],
   "source": [
    "#H-003\n",
    "\n",
    "test_address10 = accounts[10]\n",
    "## Data Subject Uploads is dataset \n",
    "tx_hash = anthony_contract.functions.UploadData(test_address10, False,True,False,True).transact()"
   ]
  },
  {
   "cell_type": "code",
   "execution_count": null,
   "metadata": {},
   "outputs": [],
   "source": [
    "anthony_contract.functions.AccessData(test_address9, test_address1).call()"
   ]
  },
  {
   "cell_type": "code",
   "execution_count": null,
   "metadata": {},
   "outputs": [],
   "source": [
    "anthony_contract.functions.AccessData(test_address10, test_address3).call()"
   ]
  },
  {
   "cell_type": "code",
   "execution_count": null,
   "metadata": {},
   "outputs": [],
   "source": [
    "anthony_contract.functions.AccessData(test_address10, test_address1).call()"
   ]
  },
  {
   "cell_type": "code",
   "execution_count": null,
   "metadata": {},
   "outputs": [],
   "source": [
    "#H-004\n",
    "\n",
    "test_address11 = accounts[11]\n",
    "## Data Subject Uploads is dataset \n",
    "tx_hash = anthony_contract.functions.UploadData(test_address10, False,True,False,False).transact()"
   ]
  },
  {
   "cell_type": "code",
   "execution_count": null,
   "metadata": {},
   "outputs": [],
   "source": [
    "anthony_contract.functions.AccessData(test_address11, test_address2).call()"
   ]
  },
  {
   "cell_type": "code",
   "execution_count": null,
   "metadata": {},
   "outputs": [],
   "source": [
    "anthony_contract.functions.AccessData(test_address11, test_address3).call()"
   ]
  },
  {
   "cell_type": "code",
   "execution_count": null,
   "metadata": {},
   "outputs": [],
   "source": [
    "anthony_contract.functions.AccessData(test_address11, test_address3).call()"
   ]
  },
  {
   "cell_type": "code",
   "execution_count": null,
   "metadata": {},
   "outputs": [],
   "source": [
    "#D-005\n",
    "\n",
    "test_address12 = accounts[12]\n",
    "## Data Subject Uploads is dataset \n",
    "tx_hash = anthony_contract.functions.UploadData(test_address10, False,False,True,False).transact()"
   ]
  },
  {
   "cell_type": "code",
   "execution_count": null,
   "metadata": {},
   "outputs": [],
   "source": [
    "anthony_contract.functions.AccessData(test_address12, test_address2).call()"
   ]
  },
  {
   "cell_type": "code",
   "execution_count": null,
   "metadata": {},
   "outputs": [],
   "source": [
    "anthony_contract.functions.AccessData(test_address12, test_address1).call()"
   ]
  },
  {
   "cell_type": "code",
   "execution_count": null,
   "metadata": {},
   "outputs": [],
   "source": [
    "anthony_contract.functions.AccessData(test_address12, test_address3).call()"
   ]
  },
  {
   "cell_type": "code",
   "execution_count": null,
   "metadata": {},
   "outputs": [],
   "source": [
    "#D-006\n",
    "\n",
    "test_address13 = accounts[13]\n",
    "## Data Subject Uploads is dataset \n",
    "tx_hash = anthony_contract.functions.UploadData(test_address13, False,False,True,True).transact()"
   ]
  },
  {
   "cell_type": "code",
   "execution_count": null,
   "metadata": {},
   "outputs": [],
   "source": [
    "anthony_contract.functions.AccessData(test_address13, test_address2).call()"
   ]
  },
  {
   "cell_type": "code",
   "execution_count": null,
   "metadata": {},
   "outputs": [],
   "source": [
    "anthony_contract.functions.AccessData(test_address13, test_address3).call()"
   ]
  },
  {
   "cell_type": "code",
   "execution_count": null,
   "metadata": {},
   "outputs": [],
   "source": [
    "anthony_contract.functions.AccessData(test_address13, test_address2).call()"
   ]
  },
  {
   "cell_type": "code",
   "execution_count": null,
   "metadata": {},
   "outputs": [],
   "source": [
    "#H-005\n",
    "\n",
    "test_address14 = accounts[14]\n",
    "## Data Subject Uploads is dataset \n",
    "tx_hash = anthony_contract.functions.UploadData(test_address13, False,False,True,True).transact()"
   ]
  },
  {
   "cell_type": "code",
   "execution_count": null,
   "metadata": {},
   "outputs": [],
   "source": [
    "anthony_contract.functions.AccessData(test_address14, test_address1).call()"
   ]
  },
  {
   "cell_type": "code",
   "execution_count": null,
   "metadata": {},
   "outputs": [],
   "source": [
    "anthony_contract.functions.AccessData(test_address14, test_address2).call()"
   ]
  },
  {
   "cell_type": "code",
   "execution_count": null,
   "metadata": {},
   "outputs": [],
   "source": [
    "anthony_contract.functions.AccessData(test_address14, test_address3).call()"
   ]
  },
  {
   "cell_type": "code",
   "execution_count": null,
   "metadata": {},
   "outputs": [],
   "source": [
    "#H-006\n",
    "\n",
    "test_address15 = accounts[15]\n",
    "## Data Subject Uploads is dataset \n",
    "tx_hash = anthony_contract.functions.UploadData(test_address15, False,False,True,False).transact()"
   ]
  },
  {
   "cell_type": "code",
   "execution_count": null,
   "metadata": {},
   "outputs": [],
   "source": [
    "anthony_contract.functions.AccessData(test_address15, test_address2).call()"
   ]
  },
  {
   "cell_type": "code",
   "execution_count": null,
   "metadata": {},
   "outputs": [],
   "source": [
    "anthony_contract.functions.AccessData(test_address15, test_address1).call()"
   ]
  },
  {
   "cell_type": "code",
   "execution_count": null,
   "metadata": {},
   "outputs": [],
   "source": [
    "anthony_contract.functions.AccessData(test_address15, test_address3).call()"
   ]
  },
  {
   "cell_type": "code",
   "execution_count": null,
   "metadata": {},
   "outputs": [],
   "source": [
    "#Data Requesters Account  \n",
    "test_address20 = accounts[20]\n",
    "test_address21 = accounts[21]\n",
    "test_address22 = accounts[22]\n",
    "\n",
    "\n",
    "#Data Requester 4 (HMB Non-Profit-Making)\n",
    "tx_hash = anthony_contract.functions.giveResearchPurpose(test_address20, False,False,False,False).transact()\n",
    "tx_hash = anthony_contract.functions.giveHMBPurpose(test_address20, True,True,True,True,True).transact()\n",
    "tx_hash = anthony_contract.functions.giveClinicalPurpose(test_address20, False, False).transact()\n",
    "tx_hash = anthony_contract.functions.givePerson(test_address20, True, True, False, True).transact()\n",
    "\n",
    "\n",
    "#Data Requester 5 (Clinical Care and Profit Making)\n",
    "tx_hash = anthony_contract.functions.giveResearchPurpose(test_address21, False,False,False,False).transact()\n",
    "tx_hash = anthony_contract.functions.giveHMBPurpose(test_address21, False, False, False, False, False).transact()\n",
    "tx_hash = anthony_contract.functions.giveClinicalPurpose(test_address21, True,True).transact()\n",
    "tx_hash = anthony_contract.functions.givePerson(test_address21, False, True, True, False).transact()\n",
    "\n",
    "\n",
    "#Data Requester 6 (General Research and Non-Profit-Making)\n",
    "tx_hash = anthony_contract.functions.giveResearchPurpose(test_address22, True, True, True,True).transact()\n",
    "tx_hash = anthony_contract.functions.giveHMBPurpose(test_address22, False, False, False, False, False).transact()\n",
    "tx_hash = anthony_contract.functions.giveClinicalPurpose(test_address22, False, False).transact()\n",
    "tx_hash = anthony_contract.functions.givePerson(test_address22, True, False, False, False).transact()\n"
   ]
  },
  {
   "cell_type": "code",
   "execution_count": null,
   "metadata": {},
   "outputs": [],
   "source": []
  },
  {
   "cell_type": "code",
   "execution_count": null,
   "metadata": {},
   "outputs": [],
   "source": []
  },
  {
   "cell_type": "code",
   "execution_count": null,
   "metadata": {},
   "outputs": [],
   "source": []
  },
  {
   "cell_type": "code",
   "execution_count": null,
   "metadata": {},
   "outputs": [],
   "source": []
  }
 ],
 "metadata": {
  "hide_input": false,
  "kernel_info": {
   "name": "python3"
  },
  "kernelspec": {
   "display_name": "luce_vm",
   "language": "python",
   "name": "luce_vm"
  },
  "language_info": {
   "codemirror_mode": {
    "name": "ipython",
    "version": 3
   },
   "file_extension": ".py",
   "mimetype": "text/x-python",
   "name": "python",
   "nbconvert_exporter": "python",
   "pygments_lexer": "ipython3",
   "version": "3.7.3"
  },
  "nteract": {
   "version": "0.14.3"
  },
  "toc": {
   "base_numbering": 1,
   "nav_menu": {
    "height": "12px",
    "width": "275px"
   },
   "number_sections": false,
   "sideBar": true,
   "skip_h1_title": false,
   "title_cell": "Table of Contents",
   "title_sidebar": "Contents",
   "toc_cell": false,
   "toc_position": {},
   "toc_section_display": true,
   "toc_window_display": true
  },
  "varInspector": {
   "cols": {
    "lenName": 16,
    "lenType": 16,
    "lenVar": 40
   },
   "kernels_config": {
    "python": {
     "delete_cmd_postfix": "",
     "delete_cmd_prefix": "del ",
     "library": "var_list.py",
     "varRefreshCmd": "print(var_dic_list())"
    },
    "r": {
     "delete_cmd_postfix": ") ",
     "delete_cmd_prefix": "rm(",
     "library": "var_list.r",
     "varRefreshCmd": "cat(var_dic_list()) "
    }
   },
   "types_to_exclude": [
    "module",
    "function",
    "builtin_function_or_method",
    "instance",
    "_Feature"
   ],
   "window_display": false
  }
 },
 "nbformat": 4,
 "nbformat_minor": 2
}
