{
 "cells": [
  {
   "cell_type": "markdown",
   "metadata": {},
   "source": [
    "# Web3 for Django"
   ]
  },
  {
   "cell_type": "markdown",
   "metadata": {},
   "source": [
    "**FIRST STEP:**  \n",
    "Run the code cells in the \"Prepare Environment\" section.  \n",
    "Then proceed from here.\n",
    "\n",
    "```\n",
    "Variables:\n",
    "u: Test User\n",
    "d: Test Dataset\n",
    "c: Test Contract\n",
    "```"
   ]
  },
  {
   "cell_type": "markdown",
   "metadata": {},
   "source": [
    "## Assign Address (& Pre-Fund Account)"
   ]
  },
  {
   "cell_type": "code",
   "execution_count": 8,
   "metadata": {},
   "outputs": [],
   "source": [
    "# requires create_wallet, fund_wallet and send_ether to be defined\n",
    "def assign_address_v3(user):\n",
    "    from web3 import Web3\n",
    "    import time\n",
    "    from hexbytes import HexBytes\n",
    "    # Establish web3 connection\n",
    "    w3 = Web3(Web3.HTTPProvider(\"HTTP://127.0.0.1:8545\"))\n",
    "    accounts = w3.eth.accounts\n",
    "    current_user = user\n",
    "    \n",
    "    # Create new web3 account\n",
    "    eth_account = create_wallet()\n",
    "    \n",
    "    # Store public key and private key in user model\n",
    "    current_user.ethereum_public_key = eth_account.address\n",
    "    current_user.ethereum_private_key = eth_account.privateKey.hex()\n",
    "    current_user.save()\n",
    "    \n",
    "    # Fund wallet\n",
    "    fund_wallet(recipient = eth_account.address, amount = 100)\n",
    "    \n",
    "    # Return user, now with wallet associated\n",
    "    return current_user"
   ]
  },
  {
   "cell_type": "markdown",
   "metadata": {},
   "source": [
    "**Test**"
   ]
  },
  {
   "cell_type": "code",
   "execution_count": 12,
   "metadata": {},
   "outputs": [
    {
     "data": {
      "text/plain": [
       "<User: test@luce.com>"
      ]
     },
     "execution_count": 12,
     "metadata": {},
     "output_type": "execute_result"
    }
   ],
   "source": [
    "assign_address_v3(u)"
   ]
  },
  {
   "cell_type": "code",
   "execution_count": 23,
   "metadata": {},
   "outputs": [
    {
     "name": "stdout",
     "output_type": "stream",
     "text": [
      "0x0e31171C0BEd83361De2e984e5A520C2abb40F22\n",
      "0x7687047edbf735a5acd777af390f6f84048ef39959f4735fa7e91d8c5c9e6fdb\n",
      "Ether: 100\n"
     ]
    }
   ],
   "source": [
    "print(u.ethereum_public_key)\n",
    "print(u.ethereum_private_key)\n",
    "print(\"Ether:\", w3.fromWei(w3.eth.getBalance(u.ethereum_public_key),'ether'))"
   ]
  },
  {
   "cell_type": "markdown",
   "metadata": {},
   "source": [
    "## Deploy Contract"
   ]
  },
  {
   "cell_type": "code",
   "execution_count": 24,
   "metadata": {},
   "outputs": [],
   "source": [
    "def deploy_contract_v3(private_key):\n",
    "    from solcx import compile_source\n",
    "    from web3 import Web3\n",
    "    \n",
    "    # Read in LUCE contract code\n",
    "    with open('./data/luce.sol', 'r') as file: # Adjust file_path for use in Jupyter/Django\n",
    "        contract_source_code = file.read()\n",
    "    \n",
    "    # Compile & Store Compiled source code\n",
    "    compiled_sol = compile_source(contract_source_code)\n",
    "\n",
    "    # Extract full interface as dict from compiled contract\n",
    "    contract_interface = compiled_sol['<stdin>:Dataset']\n",
    "\n",
    "    # Extract abi and bytecode\n",
    "    abi = contract_interface['abi']\n",
    "    bytecode = contract_interface['bin']\n",
    "    \n",
    "    # Establish web3 connection\n",
    "    w3 = Web3(Web3.HTTPProvider(\"HTTP://127.0.0.1:8545\"))\n",
    "    \n",
    "    #Obtain user so we know his address for the 'from' field\n",
    "    user = w3.eth.account.privateKeyToAccount(private_key)\n",
    "    \n",
    "    # Construct raw transaction\n",
    "    nonce = w3.eth.getTransactionCount(user.address)\n",
    "    \n",
    "    transaction = {\n",
    "    'from': user.address,\n",
    "    'gas': 2000000,\n",
    "    'data': bytecode,\n",
    "    'chainId': 3,\n",
    "    'gasPrice': w3.toWei('40', 'gwei'),\n",
    "    'nonce': nonce,\n",
    "    }\n",
    "    \n",
    "    # Sign transaction\n",
    "    signed_txn = w3.eth.account.signTransaction(transaction, private_key)\n",
    "    \n",
    "    # Deploy\n",
    "    tx_hash = w3.eth.sendRawTransaction(signed_txn.rawTransaction)\n",
    "    \n",
    "    # Wait for the transaction to be mined, and get the transaction receipt\n",
    "    tx_receipt = w3.eth.waitForTransactionReceipt(tx_hash)\n",
    "    \n",
    "    # Obtain address of freshly deployed contract\n",
    "    contractAddress = tx_receipt.contractAddress\n",
    "    \n",
    "    return contractAddress"
   ]
  },
  {
   "cell_type": "markdown",
   "metadata": {},
   "source": [
    "**Test**"
   ]
  },
  {
   "cell_type": "code",
   "execution_count": 28,
   "metadata": {},
   "outputs": [],
   "source": [
    "c = deploy_contract_v3(u.ethereum_private_key)"
   ]
  },
  {
   "cell_type": "code",
   "execution_count": 35,
   "metadata": {},
   "outputs": [
    {
     "name": "stdout",
     "output_type": "stream",
     "text": [
      "Contract address for Test Dataset:\n",
      "0x928e9A49b5fcFaAEf2b8E1C3F3DcBeE12a12E2a6\n"
     ]
    }
   ],
   "source": [
    "print(\"Contract address for Test Dataset:\\n\", c, sep=\"\")"
   ]
  },
  {
   "cell_type": "markdown",
   "metadata": {},
   "source": [
    "## Publish Data to Contract"
   ]
  },
  {
   "cell_type": "code",
   "execution_count": 37,
   "metadata": {},
   "outputs": [],
   "source": [
    "def publish_data_v3(provider_private_key, contract_address, description=\"Description\", license=3, link=\"void\"):\n",
    "    from web3 import Web3\n",
    "    \n",
    "    # Compile Luce contract and obtain interface\n",
    "    d = compile_and_extract_interface()\n",
    "    \n",
    "    # Establish web3 connection\n",
    "    w3 = Web3(Web3.HTTPProvider(\"HTTP://127.0.0.1:8545\"))\n",
    "    \n",
    "    # Obtain user so we know his address for the 'from' field\n",
    "    private_key = provider_private_key\n",
    "    user = w3.eth.account.privateKeyToAccount(private_key)\n",
    "    \n",
    "    # Obtain contract address & instantiate contract\n",
    "    contract_address = contract_address\n",
    "    luce = w3.eth.contract(address=contract_address, abi=d['abi'])\n",
    "    \n",
    "    # Construct raw transaction\n",
    "    nonce = w3.eth.getTransactionCount(user.address)\n",
    "    txn_dict = {\n",
    "    'gas': 2000000,\n",
    "    'chainId': 3,\n",
    "    'gasPrice': w3.toWei('40', 'gwei'),\n",
    "    'nonce': nonce,\n",
    "    }\n",
    "    \n",
    "    luce_txn = luce.functions.publishData(description,link,license).buildTransaction(txn_dict)\n",
    "    \n",
    "    # Sign transaction\n",
    "    signed_txn = w3.eth.account.signTransaction(luce_txn, private_key)\n",
    "    \n",
    "    # Deploy\n",
    "    tx_hash = w3.eth.sendRawTransaction(signed_txn.rawTransaction)\n",
    "    \n",
    "    # Wait for the transaction to be mined, and get the transaction receipt\n",
    "    tx_receipt = w3.eth.waitForTransactionReceipt(tx_hash)\n",
    "    \n",
    "    return tx_receipt"
   ]
  },
  {
   "cell_type": "markdown",
   "metadata": {},
   "source": [
    "**Test**"
   ]
  },
  {
   "cell_type": "code",
   "execution_count": 38,
   "metadata": {},
   "outputs": [],
   "source": [
    "publish_data_v3(u.ethereum_private_key,c)"
   ]
  },
  {
   "cell_type": "markdown",
   "metadata": {},
   "source": [
    "## Add Data Requester"
   ]
  },
  {
   "cell_type": "code",
   "execution_count": 39,
   "metadata": {},
   "outputs": [],
   "source": [
    "def add_requester_v3(requester_private_key, contract_address, license=3, purpose_code=3):\n",
    "    from web3 import Web3\n",
    "    \n",
    "    # Compile Luce contract and obtain interface\n",
    "    d = compile_and_extract_interface()\n",
    "    \n",
    "    # Establish web3 connection\n",
    "    w3 = Web3(Web3.HTTPProvider(\"HTTP://127.0.0.1:8545\"))\n",
    "    \n",
    "    # Obtain user so we know his address for the 'from' field\n",
    "    private_key = requester_private_key\n",
    "    user = w3.eth.account.privateKeyToAccount(private_key)\n",
    "    \n",
    "    # Obtain contract address & instantiate contract\n",
    "    contract_address = contract_address\n",
    "    luce = w3.eth.contract(address=contract_address, abi=d['abi'])\n",
    "    \n",
    "    # Construct raw transaction\n",
    "    nonce = w3.eth.getTransactionCount(user.address)\n",
    "    txn_dict = {\n",
    "    'gas': 2000000,\n",
    "    'chainId': 3,\n",
    "    'gasPrice': w3.toWei('40', 'gwei'),\n",
    "    'nonce': nonce,\n",
    "    }\n",
    "    \n",
    "    license_type = license\n",
    "    luce_txn = luce.functions.addDataRequester(purpose_code,license_type).buildTransaction(txn_dict)\n",
    "    \n",
    "    # Sign transaction\n",
    "    signed_txn = w3.eth.account.signTransaction(luce_txn, private_key)\n",
    "    \n",
    "    # Deploy\n",
    "    tx_hash = w3.eth.sendRawTransaction(signed_txn.rawTransaction)\n",
    "    \n",
    "    # Wait for the transaction to be mined, and get the transaction receipt\n",
    "    tx_receipt = w3.eth.waitForTransactionReceipt(tx_hash)\n",
    "    \n",
    "    return tx_receipt"
   ]
  },
  {
   "cell_type": "markdown",
   "metadata": {},
   "source": [
    "**Test**"
   ]
  },
  {
   "cell_type": "code",
   "execution_count": 41,
   "metadata": {},
   "outputs": [],
   "source": [
    "add_requester_v3(u.ethereum_private_key,c)"
   ]
  },
  {
   "cell_type": "markdown",
   "metadata": {},
   "source": [
    "## Update Contract"
   ]
  },
  {
   "cell_type": "code",
   "execution_count": 42,
   "metadata": {},
   "outputs": [],
   "source": [
    "def update_contract_v3(provider_private_key, contract_address, description=\"Updated Description\", link=\"void\"):\n",
    "    from web3 import Web3\n",
    "    \n",
    "    # Compile Luce contract and obtain interface\n",
    "    d = compile_and_extract_interface()\n",
    "    \n",
    "    # Establish web3 connection\n",
    "    w3 = Web3(Web3.HTTPProvider(\"HTTP://127.0.0.1:8545\"))\n",
    "    \n",
    "    # Obtain user so we know his address for the 'from' field\n",
    "    private_key = provider_private_key\n",
    "    user = w3.eth.account.privateKeyToAccount(private_key)\n",
    "    \n",
    "    # Obtain contract address & instantiate contract\n",
    "    contract_address = contract_address\n",
    "    luce = w3.eth.contract(address=contract_address, abi=d['abi'])\n",
    "    \n",
    "    # Construct raw transaction\n",
    "    nonce = w3.eth.getTransactionCount(user.address)\n",
    "    txn_dict = {\n",
    "    'gas': 2000000,\n",
    "    'chainId': 3,\n",
    "    'gasPrice': w3.toWei('40', 'gwei'),\n",
    "    'nonce': nonce,\n",
    "    }\n",
    "    \n",
    "    luce_txn = luce.functions.updateData(description,link).buildTransaction(txn_dict)\n",
    "    \n",
    "    # Sign transaction\n",
    "    signed_txn = w3.eth.account.signTransaction(luce_txn, private_key)\n",
    "    \n",
    "    # Deploy\n",
    "    tx_hash = w3.eth.sendRawTransaction(signed_txn.rawTransaction)\n",
    "    \n",
    "    # Wait for the transaction to be mined, and get the transaction receipt\n",
    "    tx_receipt = w3.eth.waitForTransactionReceipt(tx_hash)\n",
    "    \n",
    "    return tx_receipt"
   ]
  },
  {
   "cell_type": "markdown",
   "metadata": {},
   "source": [
    "**Test**"
   ]
  },
  {
   "cell_type": "code",
   "execution_count": 43,
   "metadata": {},
   "outputs": [],
   "source": [
    "update_contract_v3(u.ethereum_private_key,c)"
   ]
  },
  {
   "cell_type": "markdown",
   "metadata": {},
   "source": [
    "## Prepare Environment"
   ]
  },
  {
   "cell_type": "markdown",
   "metadata": {},
   "source": [
    "### Prepare Facuet & Web3 Connection"
   ]
  },
  {
   "cell_type": "code",
   "execution_count": 2,
   "metadata": {},
   "outputs": [],
   "source": [
    "from web3 import Web3\n",
    "w3 = Web3(Web3.HTTPProvider(\"HTTP://127.0.0.1:8545\"))\n",
    "# Private key (from Ganache interface)\n",
    "faucet_privateKey   = \"0x4a2cb86c7d3663abebf7ab86a6ddc3900aee399750f35e65a44ecf843ec39116\"\n",
    "faucet = w3.eth.account.privateKeyToAccount(faucet_privateKey)"
   ]
  },
  {
   "cell_type": "markdown",
   "metadata": {},
   "source": [
    "### Import Django Context for Testing"
   ]
  },
  {
   "cell_type": "code",
   "execution_count": 3,
   "metadata": {},
   "outputs": [
    {
     "ename": "ImproperlyConfigured",
     "evalue": "Requested setting LOGGING_CONFIG, but settings are not configured. You must either define the environment variable DJANGO_SETTINGS_MODULE or call settings.configure() before accessing settings.",
     "output_type": "error",
     "traceback": [
      "\u001b[0;31m---------------------------------------------------------------------------\u001b[0m",
      "\u001b[0;31mImproperlyConfigured\u001b[0m                      Traceback (most recent call last)",
      "\u001b[0;32m<ipython-input-3-8dbbaf4aea55>\u001b[0m in \u001b[0;36m<module>\u001b[0;34m\u001b[0m\n\u001b[1;32m      1\u001b[0m \u001b[0;31m# Initialise Django context\u001b[0m\u001b[0;34m\u001b[0m\u001b[0;34m\u001b[0m\u001b[0;34m\u001b[0m\u001b[0m\n\u001b[1;32m      2\u001b[0m \u001b[0;32mimport\u001b[0m \u001b[0mdjango\u001b[0m\u001b[0;34m\u001b[0m\u001b[0;34m\u001b[0m\u001b[0m\n\u001b[0;32m----> 3\u001b[0;31m \u001b[0mdjango\u001b[0m\u001b[0;34m.\u001b[0m\u001b[0msetup\u001b[0m\u001b[0;34m(\u001b[0m\u001b[0;34m)\u001b[0m\u001b[0;34m\u001b[0m\u001b[0;34m\u001b[0m\u001b[0m\n\u001b[0m\u001b[1;32m      4\u001b[0m \u001b[0;34m\u001b[0m\u001b[0m\n\u001b[1;32m      5\u001b[0m \u001b[0;31m# Obtain user model\u001b[0m\u001b[0;34m\u001b[0m\u001b[0;34m\u001b[0m\u001b[0;34m\u001b[0m\u001b[0m\n",
      "\u001b[0;32m~/miniconda/envs/luce_vm/lib/python3.7/site-packages/django/__init__.py\u001b[0m in \u001b[0;36msetup\u001b[0;34m(set_prefix)\u001b[0m\n\u001b[1;32m     17\u001b[0m     \u001b[0;32mfrom\u001b[0m \u001b[0mdjango\u001b[0m\u001b[0;34m.\u001b[0m\u001b[0mutils\u001b[0m\u001b[0;34m.\u001b[0m\u001b[0mlog\u001b[0m \u001b[0;32mimport\u001b[0m \u001b[0mconfigure_logging\u001b[0m\u001b[0;34m\u001b[0m\u001b[0;34m\u001b[0m\u001b[0m\n\u001b[1;32m     18\u001b[0m \u001b[0;34m\u001b[0m\u001b[0m\n\u001b[0;32m---> 19\u001b[0;31m     \u001b[0mconfigure_logging\u001b[0m\u001b[0;34m(\u001b[0m\u001b[0msettings\u001b[0m\u001b[0;34m.\u001b[0m\u001b[0mLOGGING_CONFIG\u001b[0m\u001b[0;34m,\u001b[0m \u001b[0msettings\u001b[0m\u001b[0;34m.\u001b[0m\u001b[0mLOGGING\u001b[0m\u001b[0;34m)\u001b[0m\u001b[0;34m\u001b[0m\u001b[0;34m\u001b[0m\u001b[0m\n\u001b[0m\u001b[1;32m     20\u001b[0m     \u001b[0;32mif\u001b[0m \u001b[0mset_prefix\u001b[0m\u001b[0;34m:\u001b[0m\u001b[0;34m\u001b[0m\u001b[0;34m\u001b[0m\u001b[0m\n\u001b[1;32m     21\u001b[0m         set_script_prefix(\n",
      "\u001b[0;32m~/miniconda/envs/luce_vm/lib/python3.7/site-packages/django/conf/__init__.py\u001b[0m in \u001b[0;36m__getattr__\u001b[0;34m(self, name)\u001b[0m\n\u001b[1;32m     77\u001b[0m         \u001b[0;34m\"\"\"Return the value of a setting and cache it in self.__dict__.\"\"\"\u001b[0m\u001b[0;34m\u001b[0m\u001b[0;34m\u001b[0m\u001b[0m\n\u001b[1;32m     78\u001b[0m         \u001b[0;32mif\u001b[0m \u001b[0mself\u001b[0m\u001b[0;34m.\u001b[0m\u001b[0m_wrapped\u001b[0m \u001b[0;32mis\u001b[0m \u001b[0mempty\u001b[0m\u001b[0;34m:\u001b[0m\u001b[0;34m\u001b[0m\u001b[0;34m\u001b[0m\u001b[0m\n\u001b[0;32m---> 79\u001b[0;31m             \u001b[0mself\u001b[0m\u001b[0;34m.\u001b[0m\u001b[0m_setup\u001b[0m\u001b[0;34m(\u001b[0m\u001b[0mname\u001b[0m\u001b[0;34m)\u001b[0m\u001b[0;34m\u001b[0m\u001b[0;34m\u001b[0m\u001b[0m\n\u001b[0m\u001b[1;32m     80\u001b[0m         \u001b[0mval\u001b[0m \u001b[0;34m=\u001b[0m \u001b[0mgetattr\u001b[0m\u001b[0;34m(\u001b[0m\u001b[0mself\u001b[0m\u001b[0;34m.\u001b[0m\u001b[0m_wrapped\u001b[0m\u001b[0;34m,\u001b[0m \u001b[0mname\u001b[0m\u001b[0;34m)\u001b[0m\u001b[0;34m\u001b[0m\u001b[0;34m\u001b[0m\u001b[0m\n\u001b[1;32m     81\u001b[0m         \u001b[0mself\u001b[0m\u001b[0;34m.\u001b[0m\u001b[0m__dict__\u001b[0m\u001b[0;34m[\u001b[0m\u001b[0mname\u001b[0m\u001b[0;34m]\u001b[0m \u001b[0;34m=\u001b[0m \u001b[0mval\u001b[0m\u001b[0;34m\u001b[0m\u001b[0;34m\u001b[0m\u001b[0m\n",
      "\u001b[0;32m~/miniconda/envs/luce_vm/lib/python3.7/site-packages/django/conf/__init__.py\u001b[0m in \u001b[0;36m_setup\u001b[0;34m(self, name)\u001b[0m\n\u001b[1;32m     62\u001b[0m                 \u001b[0;34m\"You must either define the environment variable %s \"\u001b[0m\u001b[0;34m\u001b[0m\u001b[0;34m\u001b[0m\u001b[0m\n\u001b[1;32m     63\u001b[0m                 \u001b[0;34m\"or call settings.configure() before accessing settings.\"\u001b[0m\u001b[0;34m\u001b[0m\u001b[0;34m\u001b[0m\u001b[0m\n\u001b[0;32m---> 64\u001b[0;31m                 % (desc, ENVIRONMENT_VARIABLE))\n\u001b[0m\u001b[1;32m     65\u001b[0m \u001b[0;34m\u001b[0m\u001b[0m\n\u001b[1;32m     66\u001b[0m         \u001b[0mself\u001b[0m\u001b[0;34m.\u001b[0m\u001b[0m_wrapped\u001b[0m \u001b[0;34m=\u001b[0m \u001b[0mSettings\u001b[0m\u001b[0;34m(\u001b[0m\u001b[0msettings_module\u001b[0m\u001b[0;34m)\u001b[0m\u001b[0;34m\u001b[0m\u001b[0;34m\u001b[0m\u001b[0m\n",
      "\u001b[0;31mImproperlyConfigured\u001b[0m: Requested setting LOGGING_CONFIG, but settings are not configured. You must either define the environment variable DJANGO_SETTINGS_MODULE or call settings.configure() before accessing settings."
     ]
    }
   ],
   "source": [
    "# Initialise Django context\n",
    "import django\n",
    "django.setup()\n",
    "\n",
    "# Obtain user model\n",
    "from django.contrib.auth import get_user_model\n",
    "User = get_user_model()\n",
    "\n",
    "# Obtain dataset model\n",
    "from datastore.models import Dataset"
   ]
  },
  {
   "cell_type": "code",
   "execution_count": 4,
   "metadata": {},
   "outputs": [
    {
     "ename": "NameError",
     "evalue": "name 'User' is not defined",
     "output_type": "error",
     "traceback": [
      "\u001b[0;31m---------------------------------------------------------------------------\u001b[0m",
      "\u001b[0;31mNameError\u001b[0m                                 Traceback (most recent call last)",
      "\u001b[0;32m<ipython-input-4-3783a03ea348>\u001b[0m in \u001b[0;36m<module>\u001b[0;34m\u001b[0m\n\u001b[1;32m      1\u001b[0m \u001b[0;31m# Obtain Django test user object\u001b[0m\u001b[0;34m\u001b[0m\u001b[0;34m\u001b[0m\u001b[0;34m\u001b[0m\u001b[0m\n\u001b[0;32m----> 2\u001b[0;31m \u001b[0mu\u001b[0m \u001b[0;34m=\u001b[0m \u001b[0mUser\u001b[0m\u001b[0;34m.\u001b[0m\u001b[0mobjects\u001b[0m\u001b[0;34m.\u001b[0m\u001b[0mall\u001b[0m\u001b[0;34m(\u001b[0m\u001b[0;34m)\u001b[0m\u001b[0;34m[\u001b[0m\u001b[0;36m1\u001b[0m\u001b[0;34m]\u001b[0m\u001b[0;34m\u001b[0m\u001b[0;34m\u001b[0m\u001b[0m\n\u001b[0m\u001b[1;32m      3\u001b[0m \u001b[0mu\u001b[0m\u001b[0;34m\u001b[0m\u001b[0;34m\u001b[0m\u001b[0m\n",
      "\u001b[0;31mNameError\u001b[0m: name 'User' is not defined"
     ]
    }
   ],
   "source": [
    "# Obtain Django test user object\n",
    "u = User.objects.all()[1]\n",
    "u"
   ]
  },
  {
   "cell_type": "code",
   "execution_count": 44,
   "metadata": {},
   "outputs": [
    {
     "name": "stdout",
     "output_type": "stream",
     "text": [
      "Dataset object (10)\n",
      "Test User Dataset\n",
      "files/test_cdsbAxG.txt\n"
     ]
    }
   ],
   "source": [
    "# Obtain Django test dataset object\n",
    "d = Dataset.objects.all()[0]\n",
    "print(d)\n",
    "print(d.title)\n",
    "print(d.file)"
   ]
  },
  {
   "cell_type": "code",
   "execution_count": 55,
   "metadata": {},
   "outputs": [
    {
     "data": {
      "text/plain": [
       "'Test Dataset'"
      ]
     },
     "execution_count": 55,
     "metadata": {},
     "output_type": "execute_result"
    }
   ],
   "source": [
    "Dataset.objects.get(id=1).title"
   ]
  },
  {
   "cell_type": "markdown",
   "metadata": {},
   "source": [
    "### Load Auxillary Functions"
   ]
  },
  {
   "cell_type": "code",
   "execution_count": 5,
   "metadata": {},
   "outputs": [],
   "source": [
    "# Define function to send ether\n",
    "import time\n",
    "def send_ether(amount_in_ether, recipient_address, sender_pkey=faucet.privateKey):\n",
    "    amount_in_wei = w3.toWei(amount_in_ether,'ether');\n",
    "    \n",
    "    # Obtain sender address from private key\n",
    "    sender_address = w3.eth.account.privateKeyToAccount(sender_pkey).address\n",
    "\n",
    "    # How many transactions have been made by wallet?\n",
    "    # This is required and prevents double-spending.\n",
    "    # Same name but different from nonce in block mining.\n",
    "    nonce = w3.eth.getTransactionCount(sender_address)\n",
    "    \n",
    "    # Specify transcation dictionary\n",
    "    txn_dict = {\n",
    "            'to': recipient_address,\n",
    "            'value': amount_in_wei,\n",
    "            'gas': 2000000,\n",
    "            'gasPrice': w3.toWei('40', 'gwei'),\n",
    "            'nonce': nonce,\n",
    "            'chainId': 3\n",
    "    }\n",
    "    \n",
    "    # IN THIS STEP THE PRIVATE KEY OF THE SENDER IS USED\n",
    "    # Sign transaction\n",
    "    def sign_transaction(txn_dict, sender_pkey):\n",
    "        signed_txn = w3.eth.account.signTransaction(txn_dict, sender_pkey)\n",
    "        return signed_txn\n",
    "    signed_txn      = sign_transaction(txn_dict, sender_pkey)\n",
    "    signed_txn_raw = signed_txn.rawTransaction\n",
    "    \n",
    "    \n",
    "    # Send transaction & store transaction hash\n",
    "    def send_raw_transaction(raw_transaction):\n",
    "        txn_hash = w3.eth.sendRawTransaction(raw_transaction)\n",
    "        return txn_hash\n",
    "    txn_hash = send_raw_transaction(signed_txn_raw)\n",
    "\n",
    "    # Check if transaction was added to blockchain \n",
    "    # time.sleep(5)     # Not needed on Ganache since our transactions are instantaneous\n",
    "    txn_receipt = w3.eth.getTransactionReceipt(txn_hash)\n",
    "    \n",
    "#     if txn_receipt:\n",
    "#         return True # The transaction was successful\n",
    "    return txn_hash"
   ]
  },
  {
   "cell_type": "code",
   "execution_count": 6,
   "metadata": {},
   "outputs": [],
   "source": [
    "def create_wallet():\n",
    "    eth_account = w3.eth.account.create()\n",
    "    return (eth_account)"
   ]
  },
  {
   "cell_type": "code",
   "execution_count": 7,
   "metadata": {},
   "outputs": [],
   "source": [
    "# Requires send_ether to be defined\n",
    "def fund_wallet(recipient, amount = 100):\n",
    "    send_ether(amount,recipient)"
   ]
  },
  {
   "cell_type": "code",
   "execution_count": 36,
   "metadata": {},
   "outputs": [],
   "source": [
    "def compile_and_extract_interface():\n",
    "    from solcx import compile_source\n",
    "    \n",
    "    # Read in LUCE contract code\n",
    "    with open('./data/luce.sol', 'r') as file: # Adjust file_path for use in Jupyter/Django\n",
    "        contract_source_code = file.read()\n",
    "        \n",
    "    # Compile & Store Compiled source code\n",
    "    compiled_sol = compile_source(contract_source_code)\n",
    "\n",
    "    # Extract full interface as dict from compiled contract\n",
    "    contract_interface = compiled_sol['<stdin>:Dataset']\n",
    "\n",
    "    # Extract abi and bytecode\n",
    "    abi = contract_interface['abi']\n",
    "    bytecode = contract_interface['bin']\n",
    "    \n",
    "    # Create dictionary with interface\n",
    "    d = dict()\n",
    "    d['abi']      = abi\n",
    "    d['bytecode'] = bytecode\n",
    "    d['full_interface'] = contract_interface\n",
    "    return(d)"
   ]
  }
 ],
 "metadata": {
  "hide_input": false,
  "kernelspec": {
   "display_name": "luce_vm",
   "language": "python",
   "name": "luce_vm"
  },
  "language_info": {
   "codemirror_mode": {
    "name": "ipython",
    "version": 3
   },
   "file_extension": ".py",
   "mimetype": "text/x-python",
   "name": "python",
   "nbconvert_exporter": "python",
   "pygments_lexer": "ipython3",
   "version": "3.7.3"
  },
  "toc": {
   "base_numbering": 1,
   "nav_menu": {},
   "number_sections": false,
   "sideBar": true,
   "skip_h1_title": false,
   "title_cell": "Table of Contents",
   "title_sidebar": "Contents",
   "toc_cell": false,
   "toc_position": {},
   "toc_section_display": true,
   "toc_window_display": true
  },
  "varInspector": {
   "cols": {
    "lenName": 16,
    "lenType": 16,
    "lenVar": 40
   },
   "kernels_config": {
    "python": {
     "delete_cmd_postfix": "",
     "delete_cmd_prefix": "del ",
     "library": "var_list.py",
     "varRefreshCmd": "print(var_dic_list())"
    },
    "r": {
     "delete_cmd_postfix": ") ",
     "delete_cmd_prefix": "rm(",
     "library": "var_list.r",
     "varRefreshCmd": "cat(var_dic_list()) "
    }
   },
   "types_to_exclude": [
    "module",
    "function",
    "builtin_function_or_method",
    "instance",
    "_Feature"
   ],
   "window_display": false
  }
 },
 "nbformat": 4,
 "nbformat_minor": 2
}
