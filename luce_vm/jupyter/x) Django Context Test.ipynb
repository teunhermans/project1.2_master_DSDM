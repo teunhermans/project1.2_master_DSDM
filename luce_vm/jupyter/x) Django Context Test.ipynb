{
 "cells": [
  {
   "cell_type": "markdown",
   "metadata": {},
   "source": [
    "# Custom Jupyter Kernel for Django\n",
    "The goal is to be able to access the Django context of a specific project from within the Jupyter environment. We can do this by installing a custom jupyter kernel into the same virtual environment in which the Django project lives.\n",
    "\n",
    "Steps:\n",
    "* Activate environment in which luce project lives\n",
    "    * `conda activate luce_vm`\n",
    "* Install jupyter kernel in that environment\n",
    "    * `pip install ipykernel`\n",
    "    * `python -m ipykernel install --user --name=luce_vm`\n",
    "* Configure the `kernel.json` file to include environment variables:\n",
    "```json\n",
    " \"env\": {\n",
    "    \"DJANGO_SETTINGS_MODULE\": \"lucehome.settings\",\n",
    "    \"PYTHONPATH\": \"$PYTHONPATH:/vagrant/luce_django/luce\"\n",
    " }\n",
    "```\n",
    "* In notebook, with correct kernel selected, do\n",
    "```python\n",
    "import django\n",
    "django.setup()\n",
    "```\n",
    "\n",
    "\n",
    "This way we can directly access the kernel injected into the corresponding Django python environment from the Jupyter interface. To enable access to the full Django context we first need to modify the `kernel.json` file and make some environment variables available. This kernel configuration file is located inside `/home/vagrant/.local/share/jupyter/kernels/luce_vm/`.\n",
    "\n",
    "\n",
    "Refer to [this](https://stackoverflow.com/questions/35483328/how-to-setup-jupyter-ipython-notebook-for-django) Stackoverflow post for more context."
   ]
  },
  {
   "cell_type": "code",
   "execution_count": 1,
   "metadata": {},
   "outputs": [],
   "source": [
    "# Initialise Django context\n",
    "import django\n",
    "django.setup()"
   ]
  },
  {
   "cell_type": "markdown",
   "metadata": {},
   "source": [
    "**Programmatic access to datasets**"
   ]
  },
  {
   "cell_type": "code",
   "execution_count": 2,
   "metadata": {},
   "outputs": [],
   "source": [
    "from datastore.models import Dataset"
   ]
  },
  {
   "cell_type": "code",
   "execution_count": 3,
   "metadata": {},
   "outputs": [
    {
     "data": {
      "text/plain": [
       "<DatasetQuerySet [<Dataset: Dataset object (5)>, <Dataset: Dataset object (7)>, <Dataset: Dataset object (6)>, <Dataset: Dataset object (4)>, <Dataset: Dataset object (3)>, <Dataset: Dataset object (1)>]>"
      ]
     },
     "execution_count": 3,
     "metadata": {},
     "output_type": "execute_result"
    }
   ],
   "source": [
    "Dataset.objects.all()"
   ]
  },
  {
   "cell_type": "code",
   "execution_count": 19,
   "metadata": {},
   "outputs": [],
   "source": [
    "d = Dataset.objects.all()"
   ]
  },
  {
   "cell_type": "code",
   "execution_count": 21,
   "metadata": {},
   "outputs": [],
   "source": [
    "d = d[0]"
   ]
  },
  {
   "cell_type": "code",
   "execution_count": 26,
   "metadata": {},
   "outputs": [
    {
     "data": {
      "text/plain": [
       "'vagrant@luce.com'"
      ]
     },
     "execution_count": 26,
     "metadata": {},
     "output_type": "execute_result"
    }
   ],
   "source": [
    "d.owner"
   ]
  },
  {
   "cell_type": "code",
   "execution_count": 28,
   "metadata": {},
   "outputs": [
    {
     "data": {
      "text/plain": [
       "<User: vagrant@luce.com>"
      ]
     },
     "execution_count": 28,
     "metadata": {},
     "output_type": "execute_result"
    }
   ],
   "source": [
    "d.created_by"
   ]
  },
  {
   "cell_type": "markdown",
   "metadata": {},
   "source": [
    "**Programmatic access to user model**"
   ]
  },
  {
   "cell_type": "code",
   "execution_count": 4,
   "metadata": {},
   "outputs": [],
   "source": [
    "from django.contrib.auth import get_user_model"
   ]
  },
  {
   "cell_type": "code",
   "execution_count": 5,
   "metadata": {},
   "outputs": [],
   "source": [
    "User = get_user_model()"
   ]
  },
  {
   "cell_type": "code",
   "execution_count": 6,
   "metadata": {},
   "outputs": [
    {
     "data": {
      "text/plain": [
       "<QuerySet [<User: vagrant@luce.com>, <User: test@luce.com>, <User: test5@luce.com>, <User: test6@luce.com>, <User: test7@luce.com>, <User: test8@luce.com>, <User: test9@luce.com>]>"
      ]
     },
     "execution_count": 6,
     "metadata": {},
     "output_type": "execute_result"
    }
   ],
   "source": [
    "User.objects.all()"
   ]
  },
  {
   "cell_type": "code",
   "execution_count": 12,
   "metadata": {},
   "outputs": [],
   "source": [
    "u = User.objects.all().get(pk=1)"
   ]
  },
  {
   "cell_type": "code",
   "execution_count": 13,
   "metadata": {},
   "outputs": [
    {
     "data": {
      "text/plain": [
       "<User: vagrant@luce.com>"
      ]
     },
     "execution_count": 13,
     "metadata": {},
     "output_type": "execute_result"
    }
   ],
   "source": [
    "u"
   ]
  },
  {
   "cell_type": "code",
   "execution_count": null,
   "metadata": {},
   "outputs": [],
   "source": []
  }
 ],
 "metadata": {
  "kernelspec": {
   "display_name": "luce_vm",
   "language": "python",
   "name": "luce_vm"
  },
  "language_info": {
   "codemirror_mode": {
    "name": "ipython",
    "version": 3
   },
   "file_extension": ".py",
   "mimetype": "text/x-python",
   "name": "python",
   "nbconvert_exporter": "python",
   "pygments_lexer": "ipython3",
   "version": "3.7.3"
  },
  "toc": {
   "base_numbering": 1,
   "nav_menu": {},
   "number_sections": false,
   "sideBar": true,
   "skip_h1_title": false,
   "title_cell": "Table of Contents",
   "title_sidebar": "Contents",
   "toc_cell": false,
   "toc_position": {},
   "toc_section_display": true,
   "toc_window_display": true
  }
 },
 "nbformat": 4,
 "nbformat_minor": 2
}
