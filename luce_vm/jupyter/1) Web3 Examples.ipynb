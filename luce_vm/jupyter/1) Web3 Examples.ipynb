{
 "cells": [
  {
   "cell_type": "markdown",
   "metadata": {},
   "source": [
    "# Gaining familiarity with web3py"
   ]
  },
  {
   "cell_type": "markdown",
   "metadata": {},
   "source": [
    "In this notebook I will work through the examples provided in the [web3py documentation](https://web3py.readthedocs.io/en/stable/examples.html) to get a better feeling for the functionality. The goal is to be able to compile, deploy and interact with Solidity contracts directly from within Python. This is important since we need this functionality to be able to dynamically dispatch and interact with contracts from within the server backend of the LUCE technical prototype.  \n",
    "\n",
    "**Update:** Since the old way to deploy contracts via `w3.eth.contract.deploy()` is deprecated this notebook also contains experiments with the new contract creation methods as outlined in the contract section of the web3.py documentation [here](https://web3py.readthedocs.io/en/stable/contracts.html?highlight=abi)."
   ]
  },
  {
   "cell_type": "markdown",
   "metadata": {},
   "source": [
    "### Software used"
   ]
  },
  {
   "cell_type": "markdown",
   "metadata": {},
   "source": [
    "Over the last weeks I developed LuceVM, an Ubuntu 16.04 virtual machine that contains all required software and servers. Using the VM allows for a reproducible development environment and abstracts away the layer of managing dependencies for the different packages. It also makes it easier to ensure all components interact correctly with each other.  \n",
    "\n",
    "The most important tools for us at this stage are:\n",
    "* Python 3.7\n",
    "    * web3\n",
    "    * solc-py-x\n",
    "* Jupyter Notebook Server for interaction and documentation\n",
    "* Virtual Environments via conda to handle dependencies\n",
    "* Solidity Compiler\n",
    "* Node.js\n",
    "* Ganache"
   ]
  },
  {
   "cell_type": "markdown",
   "metadata": {},
   "source": [
    "### Preparation: Connect Python to local Ganache Node"
   ]
  },
  {
   "cell_type": "markdown",
   "metadata": {},
   "source": [
    "First we start an instance of Ganache, either via GUI or the  ```run_ganache.sh``` script in LuceVM.  \n",
    "Update: Running Ganache is handled via `run_servers_tmux.sh` directly as part of the VM setup process now."
   ]
  },
  {
   "cell_type": "code",
   "execution_count": 1,
   "metadata": {},
   "outputs": [],
   "source": [
    "from web3 import Web3, HTTPProvider\n",
    "\n",
    "# Ganache Connection\n",
    "w3 = Web3(Web3.WebsocketProvider(\"wss://rinkeby.infura.io/ws/v3/839112f3db884bde86889ebbac153ced\"))\n",
    "from web3.middleware import geth_poa_middleware\n",
    "w3.middleware_stack.inject(geth_poa_middleware, layer=0)"
   ]
  },
  {
   "cell_type": "markdown",
   "metadata": {},
   "source": [
    "Alternatively we can also connect to Ganache running on the host machine:  \n",
    "(Change settings to allow incoming connections from 192.168.72.1 or 0.0.0.0)"
   ]
  },
  {
   "cell_type": "code",
   "execution_count": 2,
   "metadata": {},
   "outputs": [
    {
     "data": {
      "text/plain": [
       "True"
      ]
     },
     "execution_count": 2,
     "metadata": {},
     "output_type": "execute_result"
    }
   ],
   "source": [
    "w3.isConnected()"
   ]
  },
  {
   "cell_type": "markdown",
   "metadata": {},
   "source": [
    "### Obtain Accounts"
   ]
  },
  {
   "cell_type": "code",
   "execution_count": null,
   "metadata": {},
   "outputs": [],
   "source": [
    "# Extract default accounts created by ganache\n",
    "accounts = w3.eth.accounts"
   ]
  },
  {
   "cell_type": "code",
   "execution_count": null,
   "metadata": {},
   "outputs": [],
   "source": [
    "# Display all 10 default accounts\n",
    "accounts"
   ]
  },
  {
   "cell_type": "code",
   "execution_count": null,
   "metadata": {},
   "outputs": [],
   "source": [
    "# Display address of first account\n",
    "accounts[0]"
   ]
  },
  {
   "cell_type": "markdown",
   "metadata": {},
   "source": [
    "Store credentials of first account for testing:"
   ]
  },
  {
   "cell_type": "code",
   "execution_count": null,
   "metadata": {},
   "outputs": [],
   "source": [
    "# Wallet address\n",
    "wallet_address       = \"0x92D44e8579620F2Db88A12E70FE38e8CDB3541BA\"\n",
    "\n",
    "# Private key (from Ganache interface)\n",
    "wallet_private_key   = \"0x4a2cb86c7d3663abebf7ab86a6ddc3900aee399750f35e65a44ecf843ec39116\""
   ]
  },
  {
   "cell_type": "markdown",
   "metadata": {},
   "source": [
    "### Send ether"
   ]
  },
  {
   "cell_type": "code",
   "execution_count": null,
   "metadata": {},
   "outputs": [],
   "source": [
    "# Define a function to conveniently send ether\n",
    "import time\n",
    "def send_ether(amount_in_ether, recipient_address):\n",
    "    amount_in_wei = w3.toWei(amount_in_ether,'ether');\n",
    "\n",
    "    # How many transactions have been made by wallet?\n",
    "    nonce = w3.eth.getTransactionCount(wallet_address)\n",
    "    \n",
    "    # Specify transcation details\n",
    "    txn_dict = {\n",
    "            'to': recipient_address,\n",
    "            'value': amount_in_wei,\n",
    "            'gas': 2000000,\n",
    "            'gasPrice': w3.toWei('40', 'gwei'),\n",
    "            'nonce': nonce,\n",
    "            'chainId': 3\n",
    "    }\n",
    "    \n",
    "    # Sign transaction\n",
    "    signed_txn = w3.eth.account.signTransaction(txn_dict, wallet_private_key)\n",
    "\n",
    "    # Send transaction & store transaction hash\n",
    "    txn_hash = w3.eth.sendRawTransaction(signed_txn.rawTransaction)\n",
    "\n",
    "    # Check if transaction was added to blockchain\n",
    "    time.sleep(0.5)\n",
    "    txn_receipt = w3.eth.getTransactionReceipt(txn_hash)\n",
    "    return txn_hash"
   ]
  },
  {
   "cell_type": "code",
   "execution_count": null,
   "metadata": {},
   "outputs": [],
   "source": [
    "# Set recipient\n",
    "recipient = accounts[1]"
   ]
  },
  {
   "cell_type": "code",
   "execution_count": null,
   "metadata": {},
   "outputs": [],
   "source": [
    "# Send ether and store transaction hash\n",
    "txn_hash = send_ether(1.5,recipient)"
   ]
  },
  {
   "cell_type": "code",
   "execution_count": null,
   "metadata": {},
   "outputs": [],
   "source": [
    "# Count transactions performed by a given address\n",
    "w3.eth.getTransactionCount(wallet_address)"
   ]
  },
  {
   "cell_type": "markdown",
   "metadata": {},
   "source": [
    "### Check Balance"
   ]
  },
  {
   "cell_type": "markdown",
   "metadata": {},
   "source": [
    "There are two accounts we are interested in:  \n",
    "The sender: `wallet_address`  \n",
    "And the recipient: `recpient`"
   ]
  },
  {
   "cell_type": "code",
   "execution_count": null,
   "metadata": {},
   "outputs": [],
   "source": [
    "# Check balance\n",
    "w3.eth.getBalance(recipient)"
   ]
  },
  {
   "cell_type": "code",
   "execution_count": null,
   "metadata": {},
   "outputs": [],
   "source": [
    "# Balance in ether\n",
    "w3.fromWei(w3.eth.getBalance(recipient), 'ether')"
   ]
  },
  {
   "cell_type": "code",
   "execution_count": null,
   "metadata": {},
   "outputs": [],
   "source": [
    "# Balance of our primary account\n",
    "w3.fromWei(w3.eth.getBalance(wallet_address), 'ether')"
   ]
  },
  {
   "cell_type": "code",
   "execution_count": null,
   "metadata": {},
   "outputs": [],
   "source": [
    "tx_hash = send_ether(1, \"0x9B3da536bfFf54974AE3D9151D7C6F5dBE81990E\")"
   ]
  },
  {
   "cell_type": "code",
   "execution_count": null,
   "metadata": {},
   "outputs": [],
   "source": [
    "w3.fromWei(w3.eth.getBalance(\"0x9B3da536bfFf54974AE3D9151D7C6F5dBE81990E\"), 'ether')"
   ]
  },
  {
   "cell_type": "markdown",
   "metadata": {},
   "source": [
    "### Look up a block"
   ]
  },
  {
   "cell_type": "code",
   "execution_count": null,
   "metadata": {},
   "outputs": [],
   "source": [
    "w3.eth.getBlock(1)"
   ]
  },
  {
   "cell_type": "code",
   "execution_count": null,
   "metadata": {},
   "outputs": [],
   "source": [
    "# Retrieve the last block\n",
    "w3.eth.getBlock('latest')"
   ]
  },
  {
   "cell_type": "code",
   "execution_count": null,
   "metadata": {},
   "outputs": [],
   "source": [
    "# Directly obtain the current block number\n",
    "w3.eth.blockNumber"
   ]
  },
  {
   "cell_type": "markdown",
   "metadata": {},
   "source": [
    "### Loop up a transaction via hash"
   ]
  },
  {
   "cell_type": "code",
   "execution_count": null,
   "metadata": {},
   "outputs": [],
   "source": [
    "w3.eth.getTransaction(txn_hash)"
   ]
  },
  {
   "cell_type": "code",
   "execution_count": null,
   "metadata": {},
   "outputs": [],
   "source": [
    "# Transaction receipt\n",
    "w3.eth.getTransactionReceipt(txn_hash)"
   ]
  },
  {
   "cell_type": "markdown",
   "metadata": {},
   "source": [
    "### Compile contract"
   ]
  },
  {
   "cell_type": "markdown",
   "metadata": {},
   "source": [
    "Important that py-solc is installed for code to execute.  \n",
    "Update: No need to worry anymore -> LuceVM has all correct dependencies installed"
   ]
  },
  {
   "cell_type": "code",
   "execution_count": null,
   "metadata": {},
   "outputs": [],
   "source": [
    "#!{sys.executable} -m pip install py-solc"
   ]
  },
  {
   "cell_type": "code",
   "execution_count": 12,
   "metadata": {},
   "outputs": [
    {
     "data": {
      "text/plain": [
       "Version('0.6.12')"
      ]
     },
     "execution_count": 12,
     "metadata": {},
     "output_type": "execute_result"
    }
   ],
   "source": [
    "#!{sys.executable} -m pip install py-solc-x\n",
    "solcx.install_solc('0.6.12')"
   ]
  },
  {
   "cell_type": "code",
   "execution_count": 6,
   "metadata": {},
   "outputs": [],
   "source": [
    "import sys\n",
    "import time\n",
    "import pprint\n",
    "\n",
    "from web3.providers.eth_tester import EthereumTesterProvider\n",
    "from web3 import Web3\n",
    "import solcx\n",
    "from solcx import compile_source\n",
    "\n",
    "def compile_source_file(file_path):\n",
    "    with open(file_path, 'r') as f:\n",
    "        source = f.read()\n",
    "\n",
    "    return compile_source(source, solc_version=\"0.6.2\")"
   ]
  },
  {
   "cell_type": "code",
   "execution_count": 7,
   "metadata": {},
   "outputs": [],
   "source": [
    "contract_source_path = './data/ConsentCode.sol'"
   ]
  },
  {
   "cell_type": "code",
   "execution_count": 8,
   "metadata": {},
   "outputs": [],
   "source": [
    "compiled_sol = compile_source_file('./data/ConsentCode.sol')"
   ]
  },
  {
   "cell_type": "code",
   "execution_count": 9,
   "metadata": {},
   "outputs": [],
   "source": [
    "contract_id, contract_interface = compiled_sol.popitem()"
   ]
  },
  {
   "cell_type": "markdown",
   "metadata": {},
   "source": [
    "Up to this point everything is working. We can compile the contract and also have the abi and binary code conveniently stored in our ```contract_interface```."
   ]
  },
  {
   "cell_type": "markdown",
   "metadata": {},
   "source": [
    "### Deploy Contract"
   ]
  },
  {
   "cell_type": "markdown",
   "metadata": {},
   "source": [
    "Method 1:"
   ]
  },
  {
   "cell_type": "code",
   "execution_count": 10,
   "metadata": {},
   "outputs": [],
   "source": [
    "DEBUG = True\n",
    "# Define default account (used as default for 'from' property in transaction dictionary)\n",
    "private_key = \"52417fb192c8cb46bf2b76e814992a803910d42cd19ca0ae0a83c5de97c6dbd6\"\n",
    "public_key = w3.eth.account.privateKeyToAccount(private_key).address\n",
    "CHAIN_ID = 4\n"
   ]
  },
  {
   "cell_type": "code",
   "execution_count": 11,
   "metadata": {},
   "outputs": [],
   "source": [
    "def sign_and_send(contract_txn, private_key, name):\n",
    "    try:\n",
    "        signed_txn = w3.eth.account.signTransaction(contract_txn, private_key)\n",
    "      \n",
    "        tx_hash = w3.eth.sendRawTransaction(signed_txn.rawTransaction)\n",
    "      \n",
    "    \n",
    "        tx_receipt = w3.eth.waitForTransactionReceipt(tx_hash)\n",
    "        transaction = receipt_to_dict(tx_receipt, name)\n",
    "        \n",
    "    except ValueError as e:\n",
    "        if DEBUG:\n",
    "            print()\n",
    "            print(e)\n",
    "        return [e,name]\n",
    "    return transaction\n",
    "\n",
    "def receipt_to_dict(tx_receipt, name):\n",
    "    receipt = {}\n",
    "    receipt[\"blockHash\"] = tx_receipt.blockHash.hex()\n",
    "    receipt[\"blockNumber\"] = tx_receipt.blockNumber\n",
    "    receipt[\"contractAddress\"] = tx_receipt.contractAddress\n",
    "    receipt[\"cumulativeGasUsed\"] = tx_receipt.cumulativeGasUsed\n",
    "    receipt[\"effectiveGasPrice\"] = w3.toInt(hexstr = tx_receipt.effectiveGasPrice)\n",
    "    receipt[\"from\"] = tx_receipt[\"from\"]\n",
    "    receipt[\"gasUsed\"] = tx_receipt.gasUsed\n",
    "    receipt[\"logsBloom\"] = tx_receipt.logsBloom.hex()\n",
    "    receipt[\"status\"] = tx_receipt.status\n",
    "    receipt[\"to\"] = tx_receipt.to\n",
    "    receipt[\"transactionHash\"] = tx_receipt.transactionHash.hex()\n",
    "    receipt[\"transactionIndex\"] = tx_receipt.transactionIndex\n",
    "    receipt[\"type\"] = tx_receipt.type\n",
    "    receipt[\"fees\"] =  receipt[\"effectiveGasPrice\"] * receipt[\"gasUsed\"]\n",
    "    receipt[\"transaction name\"] = name\n",
    "\n",
    "    return receipt"
   ]
  },
  {
   "cell_type": "code",
   "execution_count": 12,
   "metadata": {},
   "outputs": [],
   "source": [
    "# Store abi and bytecode of contract\n",
    "abi = contract_interface['abi']\n",
    "bytecode = contract_interface['bin']"
   ]
  },
  {
   "cell_type": "code",
   "execution_count": 20,
   "metadata": {
    "scrolled": false
   },
   "outputs": [
    {
     "name": "stdout",
     "output_type": "stream",
     "text": [
      "192\n"
     ]
    }
   ],
   "source": [
    "# Create contract object\n",
    "my_contract = w3.eth.contract(abi=abi,bytecode=bytecode)\n",
    "nonce = w3.eth.getTransactionCount(public_key)\n",
    "txn_dict = {\n",
    "        'from': public_key,\n",
    "        'chainId': CHAIN_ID,\n",
    "        'gasPrice': w3.toWei('20', 'gwei'),\n",
    "        'nonce': nonce,\n",
    "        }\n",
    "#gas = w3.eth.estimateGas(contract_txn)ù\n",
    "gas = my_contract.constructor().estimateGas()\n",
    "\n",
    "txn_dict[\"gas\"]=gas*2\n",
    "\n",
    "contract_txn = my_contract.constructor().buildTransaction(txn_dict)\n",
    "\n",
    "tx_receipt = sign_and_send(contract_txn, private_key, \"deployment of Test\")\n"
   ]
  },
  {
   "cell_type": "code",
   "execution_count": 58,
   "metadata": {},
   "outputs": [],
   "source": [
    "#contract_address = tx_receipt[\"contractAddress\"]\n",
    "contract_address =  \"0x9495Fad019Ab2566de987ce20bEC0626532C5325\""
   ]
  },
  {
   "cell_type": "code",
   "execution_count": 60,
   "metadata": {},
   "outputs": [
    {
     "name": "stdout",
     "output_type": "stream",
     "text": [
      "<web3.utils.datatypes.Contract object at 0x7fe77a568b38>\n",
      "False\n"
     ]
    }
   ],
   "source": [
    "contract_instance = w3.eth.contract(address=contract_address, abi=abi)\n",
    "print(contract_instance)\n",
    "bollarray = []\n",
    "\n",
    "for i in range(0,49):\n",
    "    bollarray.append(False)\n",
    "    \n",
    "contract_txn =  contract_instance.functions.CheckAccess(bollarray).call()\n",
    "print(contract_txn)\n",
    "#tx_receipt = sign_and_send(contract_txn, private_key, \"change number\")"
   ]
  },
  {
   "cell_type": "code",
   "execution_count": 84,
   "metadata": {},
   "outputs": [
    {
     "data": {
      "text/plain": [
       "False"
      ]
     },
     "execution_count": 84,
     "metadata": {},
     "output_type": "execute_result"
    }
   ],
   "source": [
    "contract_txn"
   ]
  },
  {
   "cell_type": "code",
   "execution_count": null,
   "metadata": {},
   "outputs": [],
   "source": [
    "contract_instance = w3.eth.contract(address=\"0xd79Ee34C7d0DF71AFE54F59455BB25F3675A57ba\", abi=abi)\n",
    "\n",
    "contract_instance.functions.getNumber().call()"
   ]
  },
  {
   "cell_type": "code",
   "execution_count": null,
   "metadata": {},
   "outputs": [],
   "source": []
  },
  {
   "cell_type": "code",
   "execution_count": null,
   "metadata": {},
   "outputs": [],
   "source": [
    "# Deploy contract and obtain transaction hash\n",
    "tx_hash = my_contract.deploy()"
   ]
  },
  {
   "cell_type": "markdown",
   "metadata": {},
   "source": [
    "This does work however this approach is deprecated..  \n",
    "Even though the web3.py documentation itself still uses this approach in their examples section."
   ]
  },
  {
   "cell_type": "markdown",
   "metadata": {},
   "source": [
    "Method 2:"
   ]
  },
  {
   "cell_type": "code",
   "execution_count": null,
   "metadata": {},
   "outputs": [],
   "source": [
    "def deploy_contract(w3, contract_interface):\n",
    "    tx_hash = w3.eth.contract(\n",
    "        abi=contract_interface['abi'],\n",
    "        bytecode=contract_interface['bin']).deploy()\n",
    "\n",
    "    address = w3.eth.getTransactionReceipt(tx_hash)['contractAddress']\n",
    "    return address"
   ]
  },
  {
   "cell_type": "code",
   "execution_count": null,
   "metadata": {},
   "outputs": [],
   "source": [
    "address = deploy_contract(w3, contract_interface)"
   ]
  },
  {
   "cell_type": "code",
   "execution_count": null,
   "metadata": {},
   "outputs": [],
   "source": [
    "print(\"Deployed {0} to: {1}\\n\".format(contract_id, address))"
   ]
  },
  {
   "cell_type": "markdown",
   "metadata": {},
   "source": [
    "This also works but again with deprecation warning."
   ]
  },
  {
   "cell_type": "markdown",
   "metadata": {},
   "source": [
    "### Interact with Contract"
   ]
  },
  {
   "cell_type": "code",
   "execution_count": null,
   "metadata": {},
   "outputs": [],
   "source": [
    "# Create interface to deployed contract\n",
    "deployed_contract = w3.eth.contract(\n",
    "   address=address,\n",
    "   abi=contract_interface['abi'])"
   ]
  },
  {
   "cell_type": "markdown",
   "metadata": {},
   "source": [
    "**Estimate gas usage**"
   ]
  },
  {
   "cell_type": "code",
   "execution_count": null,
   "metadata": {},
   "outputs": [],
   "source": [
    "# Estimate gas usage for function call\n",
    "gas_estimate = deployed_contract.functions.setVar(255).estimateGas()\n",
    "print(\"Gas estimate to transact with setVar: {0}\\n\".format(gas_estimate))"
   ]
  },
  {
   "cell_type": "code",
   "execution_count": null,
   "metadata": {},
   "outputs": [],
   "source": [
    "def wait_for_receipt(w3, tx_hash, poll_interval):\n",
    "    while True:\n",
    "        tx_receipt = w3.eth.getTransactionReceipt(tx_hash)\n",
    "        if tx_receipt:\n",
    "            return tx_receipt\n",
    "        time.sleep(poll_interval)"
   ]
  },
  {
   "cell_type": "code",
   "execution_count": null,
   "metadata": {},
   "outputs": [],
   "source": [
    "# Execute function call to smart contract\n",
    "if gas_estimate < 100000:\n",
    "    print(\"Sending transaction to setVar(255)\\n\")\n",
    "    tx_hash = deployed_contract.functions.setVar(255).transact()\n",
    "    receipt = wait_for_receipt(w3, tx_hash, 1)\n",
    "    print(\"Transaction receipt mined: \\n\")\n",
    "    pprint.pprint(dict(receipt))\n",
    "else:\n",
    "    print(\"Gas cost exceeds 100000\")"
   ]
  },
  {
   "cell_type": "code",
   "execution_count": null,
   "metadata": {},
   "outputs": [],
   "source": [
    "# Call setVar on contract\n",
    "deployed_contract.functions.setVar(4).transact()"
   ]
  },
  {
   "cell_type": "code",
   "execution_count": null,
   "metadata": {},
   "outputs": [],
   "source": [
    "# Obtain value from getVar on contract\n",
    "deployed_contract.functions.getVar().call()"
   ]
  },
  {
   "cell_type": "markdown",
   "metadata": {},
   "source": [
    "### New Contract Deployment Approach\n",
    "Since the old way to deploy contracts via `w3.eth.contract.deploy()` is deprecated I also try out another pathway, as outlined in the contract section of the web3.py documentation [here](https://web3py.readthedocs.io/en/stable/contracts.html?highlight=abi).\n",
    "\n",
    "Note: I replace solc with solcx since solc is throwing errors during compilation. solcx can compile the contract.  \n",
    "Update: I am still using solcx instead of solc but LuceVM now already has all required packages installed"
   ]
  },
  {
   "cell_type": "code",
   "execution_count": null,
   "metadata": {},
   "outputs": [],
   "source": [
    "#!{sys.executable} -m pip install -U web3[tester]"
   ]
  },
  {
   "cell_type": "markdown",
   "metadata": {},
   "source": [
    "There is a requirement conflict with eth-abi when trying to install web3tester. See if we can use ganache as sandbox instead."
   ]
  },
  {
   "cell_type": "code",
   "execution_count": null,
   "metadata": {},
   "outputs": [],
   "source": [
    "import json\n",
    "import web3\n",
    "\n",
    "from web3 import Web3\n",
    "from solcx import compile_source\n",
    "from web3.contract import ConciseContract"
   ]
  },
  {
   "cell_type": "code",
   "execution_count": null,
   "metadata": {},
   "outputs": [],
   "source": [
    "# Solidity source code\n",
    "contract_source_code = '''\n",
    "pragma solidity ^0.4.21;\n",
    "\n",
    "contract Greeter {\n",
    "    string public greeting;\n",
    "\n",
    "    function Greeter() public {\n",
    "        greeting = 'Hello';\n",
    "    }\n",
    "\n",
    "    function setGreeting(string _greeting) public {\n",
    "        greeting = _greeting;\n",
    "    }\n",
    "\n",
    "    function greet() view public returns (string) {\n",
    "        return greeting;\n",
    "    }\n",
    "}\n",
    "'''"
   ]
  },
  {
   "cell_type": "code",
   "execution_count": null,
   "metadata": {},
   "outputs": [],
   "source": [
    "compiled_sol = compile_source(contract_source_code) # Compiled source code\n",
    "contract_interface = compiled_sol['<stdin>:Greeter']"
   ]
  },
  {
   "cell_type": "markdown",
   "metadata": {},
   "source": [
    "The compilation works fine when using solcx instead of solc."
   ]
  },
  {
   "cell_type": "code",
   "execution_count": null,
   "metadata": {},
   "outputs": [],
   "source": [
    "# web3.py instance\n",
    "# w3 = Web3(Web3.EthereumTesterProvider())\n",
    "# This causes a requirement conflix with eth-abi.. Use Ganache instead"
   ]
  },
  {
   "cell_type": "code",
   "execution_count": null,
   "metadata": {},
   "outputs": [],
   "source": [
    "# Use Ganache for web3 instance\n",
    "w3 = Web3(Web3.HTTPProvider(\"HTTP://127.0.0.1:8545\"))"
   ]
  },
  {
   "cell_type": "code",
   "execution_count": null,
   "metadata": {},
   "outputs": [],
   "source": [
    "# set pre-funded account as sender\n",
    "w3.eth.defaultAccount = w3.eth.accounts[0]"
   ]
  },
  {
   "cell_type": "markdown",
   "metadata": {},
   "source": [
    "**Instantiate Contract Object**"
   ]
  },
  {
   "cell_type": "code",
   "execution_count": null,
   "metadata": {},
   "outputs": [],
   "source": [
    "# Instantiate contract\n",
    "Greeter = w3.eth.contract(abi=contract_interface['abi'], bytecode=contract_interface['bin'])"
   ]
  },
  {
   "cell_type": "markdown",
   "metadata": {},
   "source": [
    "**Deploy Contract**"
   ]
  },
  {
   "cell_type": "code",
   "execution_count": null,
   "metadata": {},
   "outputs": [],
   "source": [
    "# Submit the transaction that deploys the contract\n",
    "tx_hash = Greeter.constructor().transact()"
   ]
  },
  {
   "cell_type": "markdown",
   "metadata": {},
   "source": [
    "Halleluhjah! This worked :D  \n",
    "The contract is deployed.  \n",
    "And this time without a deprecation warning.  \n",
    "So this is the new recommended approach of deployment."
   ]
  },
  {
   "cell_type": "code",
   "execution_count": null,
   "metadata": {},
   "outputs": [],
   "source": [
    "# Wait for the transaction to be mined, and get the transaction receipt\n",
    "tx_receipt = w3.eth.waitForTransactionReceipt(tx_hash)"
   ]
  },
  {
   "cell_type": "code",
   "execution_count": null,
   "metadata": {},
   "outputs": [],
   "source": [
    "tx_receipt"
   ]
  },
  {
   "cell_type": "code",
   "execution_count": null,
   "metadata": {},
   "outputs": [],
   "source": [
    "# Create the contract instance with the newly-deployed address\n",
    "greeter = w3.eth.contract(\n",
    "    address=tx_receipt.contractAddress,\n",
    "    abi=contract_interface['abi'],\n",
    ")"
   ]
  },
  {
   "cell_type": "markdown",
   "metadata": {},
   "source": [
    "**Read contract state**"
   ]
  },
  {
   "cell_type": "code",
   "execution_count": null,
   "metadata": {},
   "outputs": [],
   "source": [
    "# Display the default greeting from the contract\n",
    "print('Default contract greeting: {}'.format(\n",
    "    greeter.functions.greet().call()\n",
    "))"
   ]
  },
  {
   "cell_type": "code",
   "execution_count": null,
   "metadata": {},
   "outputs": [],
   "source": [
    "greeter.functions.abi"
   ]
  },
  {
   "cell_type": "code",
   "execution_count": null,
   "metadata": {},
   "outputs": [],
   "source": [
    "greeter.functions.greet().call()"
   ]
  },
  {
   "cell_type": "markdown",
   "metadata": {},
   "source": [
    "**Change contract state**"
   ]
  },
  {
   "cell_type": "code",
   "execution_count": null,
   "metadata": {},
   "outputs": [],
   "source": [
    "tx_hash = greeter.functions.setGreeting('new greeting').transact()"
   ]
  },
  {
   "cell_type": "code",
   "execution_count": null,
   "metadata": {},
   "outputs": [],
   "source": [
    "# Wait for transaction to be mined...\n",
    "w3.eth.waitForTransactionReceipt(tx_hash)"
   ]
  },
  {
   "cell_type": "code",
   "execution_count": null,
   "metadata": {},
   "outputs": [],
   "source": [
    "greeter.functions.greet().call()"
   ]
  },
  {
   "cell_type": "markdown",
   "metadata": {},
   "source": [
    "All is working as intended! I am very happy. This gives enough foundation. The examples here can be used as reference for how to interact with LUCE contract functions."
   ]
  },
  {
   "cell_type": "markdown",
   "metadata": {},
   "source": [
    "### Other Useful Snippets from web3 documentation"
   ]
  },
  {
   "cell_type": "markdown",
   "metadata": {},
   "source": [
    "**web3.eth.*account* object**"
   ]
  },
  {
   "cell_type": "code",
   "execution_count": null,
   "metadata": {},
   "outputs": [],
   "source": [
    "# Create a new account\n",
    "test_account = w3.eth.account.create()"
   ]
  },
  {
   "cell_type": "code",
   "execution_count": null,
   "metadata": {},
   "outputs": [],
   "source": [
    "# Display address\n",
    "test_account.address"
   ]
  },
  {
   "cell_type": "code",
   "execution_count": null,
   "metadata": {},
   "outputs": [],
   "source": [
    "# Show private key\n",
    "test_account.privateKey"
   ]
  },
  {
   "cell_type": "code",
   "execution_count": null,
   "metadata": {},
   "outputs": [],
   "source": [
    "# Restore account from private key\n",
    "test_account_restored = w3.eth.account.privateKeyToAccount(\"0xd6d5a9f687f225d069c80a3da11aadfd4b3b937dba40c9a4343b7eab0b69d35d\")"
   ]
  },
  {
   "cell_type": "code",
   "execution_count": null,
   "metadata": {
    "scrolled": true
   },
   "outputs": [],
   "source": [
    "# Check if indeed address of restored account is the same\n",
    "test_account_restored.address == test_account.address"
   ]
  },
  {
   "cell_type": "code",
   "execution_count": null,
   "metadata": {},
   "outputs": [],
   "source": [
    "type(test_account)"
   ]
  },
  {
   "cell_type": "markdown",
   "metadata": {},
   "source": [
    "**Sign a transaction**"
   ]
  },
  {
   "cell_type": "code",
   "execution_count": null,
   "metadata": {},
   "outputs": [],
   "source": [
    "# 1) First define a transaction dictionary\n",
    "tx_dic ={\n",
    "    'to': '0xF0109fC8DF283027b6285cc889F5aA624EaC1F55',\n",
    "    'value': 1000000000,\n",
    "    'gas': 2000000,\n",
    "    'gasPrice': w3.toWei('40', 'gwei'),\n",
    "    'nonce': w3.eth.getTransactionCount(test_account.address)\n",
    "    \n",
    "}"
   ]
  },
  {
   "cell_type": "code",
   "execution_count": null,
   "metadata": {},
   "outputs": [],
   "source": [
    "# 2) Then sign\n",
    "test_account.signTransaction(tx_dic)"
   ]
  },
  {
   "cell_type": "markdown",
   "metadata": {},
   "source": [
    "---"
   ]
  },
  {
   "cell_type": "markdown",
   "metadata": {},
   "source": [
    "**web3.eth.*contract* object**"
   ]
  },
  {
   "cell_type": "code",
   "execution_count": null,
   "metadata": {},
   "outputs": [],
   "source": [
    "test_contract = w3.eth.contract()"
   ]
  },
  {
   "cell_type": "code",
   "execution_count": null,
   "metadata": {},
   "outputs": [],
   "source": [
    "type(test_contract)"
   ]
  },
  {
   "cell_type": "code",
   "execution_count": null,
   "metadata": {},
   "outputs": [],
   "source": [
    "test_contract.address"
   ]
  },
  {
   "cell_type": "code",
   "execution_count": null,
   "metadata": {},
   "outputs": [],
   "source": [
    "test_contract.abi"
   ]
  },
  {
   "cell_type": "code",
   "execution_count": null,
   "metadata": {},
   "outputs": [],
   "source": [
    "test_contract.bytecode"
   ]
  },
  {
   "cell_type": "code",
   "execution_count": null,
   "metadata": {},
   "outputs": [],
   "source": [
    "test_contract.deploy"
   ]
  },
  {
   "cell_type": "code",
   "execution_count": null,
   "metadata": {},
   "outputs": [],
   "source": [
    "test_function = test_contract.functions"
   ]
  },
  {
   "cell_type": "code",
   "execution_count": null,
   "metadata": {},
   "outputs": [],
   "source": [
    "test_function"
   ]
  },
  {
   "cell_type": "markdown",
   "metadata": {},
   "source": [
    "### Drop Things Here"
   ]
  },
  {
   "cell_type": "code",
   "execution_count": null,
   "metadata": {},
   "outputs": [],
   "source": [
    "# Contract address from Ganache\n",
    "contract_address     = \"0x9B3da536bfFf54974AE3D9151D7C6F5dBE81990E\""
   ]
  }
 ],
 "metadata": {
  "hide_input": false,
  "kernelspec": {
   "display_name": "Python 3",
   "language": "python",
   "name": "python3"
  },
  "language_info": {
   "codemirror_mode": {
    "name": "ipython",
    "version": 3
   },
   "file_extension": ".py",
   "mimetype": "text/x-python",
   "name": "python",
   "nbconvert_exporter": "python",
   "pygments_lexer": "ipython3",
   "version": "3.7.3"
  },
  "toc": {
   "base_numbering": 1,
   "nav_menu": {},
   "number_sections": false,
   "sideBar": true,
   "skip_h1_title": false,
   "title_cell": "Table of Contents",
   "title_sidebar": "Contents",
   "toc_cell": false,
   "toc_position": {},
   "toc_section_display": true,
   "toc_window_display": true
  },
  "varInspector": {
   "cols": {
    "lenName": 16,
    "lenType": 16,
    "lenVar": 40
   },
   "kernels_config": {
    "python": {
     "delete_cmd_postfix": "",
     "delete_cmd_prefix": "del ",
     "library": "var_list.py",
     "varRefreshCmd": "print(var_dic_list())"
    },
    "r": {
     "delete_cmd_postfix": ") ",
     "delete_cmd_prefix": "rm(",
     "library": "var_list.r",
     "varRefreshCmd": "cat(var_dic_list()) "
    }
   },
   "types_to_exclude": [
    "module",
    "function",
    "builtin_function_or_method",
    "instance",
    "_Feature"
   ],
   "window_display": false
  }
 },
 "nbformat": 4,
 "nbformat_minor": 2
}
