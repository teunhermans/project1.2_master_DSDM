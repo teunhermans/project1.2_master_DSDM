{
 "cells": [
  {
   "cell_type": "markdown",
   "metadata": {},
   "source": [
    "### Deploy and Interact with Consent based Smart Contract\n",
    "The aim of this notebook is to compile, deploy and interact with consent based smart contract"
   ]
  },
  {
   "cell_type": "markdown",
   "metadata": {},
   "source": [
    "### Compile contract from file"
   ]
  },
  {
   "cell_type": "code",
   "execution_count": 1,
   "metadata": {
    "inputHidden": false,
    "outputHidden": false
   },
   "outputs": [],
   "source": [
    "# Import libraries\n",
    "\n",
    "import json\n",
    "import web3\n",
    "from datetime import datetime\n",
    "from web3 import Web3\n",
    "from solcx import compile_source\n",
    "import solcx\n",
    "#from web3.contract import ConciseContract"
   ]
  },
  {
   "cell_type": "code",
   "execution_count": 2,
   "metadata": {},
   "outputs": [],
   "source": [
    "# Read in LUCE contract code\n",
    "with open('./data/ConsentCode.sol', 'r') as file:\n",
    "    contract_source_code = file.read()"
   ]
  },
  {
   "cell_type": "code",
   "execution_count": 3,
   "metadata": {},
   "outputs": [],
   "source": [
    "# Compile & Store Compiled source code\n",
    "solcx.install_solc('0.6.2')\n",
    "compiled_sol = compile_source(contract_source_code,solc_version='0.6.2')"
   ]
  },
  {
   "cell_type": "code",
   "execution_count": 4,
   "metadata": {},
   "outputs": [],
   "source": [
    "#compiled_sol"
   ]
  },
  {
   "cell_type": "code",
   "execution_count": 5,
   "metadata": {},
   "outputs": [],
   "source": [
    "# Extract full interface as dict from compiled contract\n",
    "contract_interface = compiled_sol['<stdin>:ConsentCode']"
   ]
  },
  {
   "cell_type": "code",
   "execution_count": 6,
   "metadata": {},
   "outputs": [],
   "source": [
    "#contract_interface"
   ]
  },
  {
   "cell_type": "code",
   "execution_count": 7,
   "metadata": {},
   "outputs": [],
   "source": [
    "# Extract abi and bytecode\n",
    "abi = contract_interface['abi']\n",
    "bytecode = contract_interface['bin']"
   ]
  },
  {
   "cell_type": "markdown",
   "metadata": {},
   "source": [
    "### Deploy"
   ]
  },
  {
   "cell_type": "code",
   "execution_count": 8,
   "metadata": {},
   "outputs": [],
   "source": [
    "startTime = datetime.now()"
   ]
  },
  {
   "cell_type": "code",
   "execution_count": 9,
   "metadata": {},
   "outputs": [],
   "source": [
    "# Use Ganache for web3 instance\n",
    "url = 'http://localhost:8545'\n",
    "\n",
    "w3 = Web3(Web3.HTTPProvider(url))"
   ]
  },
  {
   "cell_type": "code",
   "execution_count": 10,
   "metadata": {},
   "outputs": [],
   "source": [
    "# Use local Ganache GUI on macOS\n",
    "#w3 = Web3(Web3.HTTPProvider(\"HTTP://192.168.72.1:7545\"))"
   ]
  },
  {
   "cell_type": "code",
   "execution_count": 11,
   "metadata": {},
   "outputs": [],
   "source": [
    "# Set pre-funded ganache account #0 as sender\n",
    "w3.eth.defaultAccount = w3.eth.accounts[0]"
   ]
  },
  {
   "cell_type": "code",
   "execution_count": 12,
   "metadata": {},
   "outputs": [
    {
     "data": {
      "text/plain": [
       "'0x84dF8A457982333C0893b968872F57b963243307'"
      ]
     },
     "execution_count": 12,
     "metadata": {},
     "output_type": "execute_result"
    }
   ],
   "source": [
    "w3.eth.accounts[0]"
   ]
  },
  {
   "cell_type": "markdown",
   "metadata": {},
   "source": [
    "The default `eth.defaultAccount` address is used as the default \"from\" property for transaction dictionaries if no other explicit \"from\" property is specified."
   ]
  },
  {
   "cell_type": "code",
   "execution_count": 13,
   "metadata": {},
   "outputs": [],
   "source": [
    "# Create contract blueprint\n",
    "# from contract_abi_bytecode import abi, bytecode\n",
    "Contract = w3.eth.contract(abi=abi, bytecode=bytecode)"
   ]
  },
  {
   "cell_type": "code",
   "execution_count": 14,
   "metadata": {},
   "outputs": [],
   "source": [
    "# Submit the transaction that deploys the contract\n",
    "tx_hash = Contract.constructor().transact({\"from\": w3.eth.accounts[0]})"
   ]
  },
  {
   "cell_type": "code",
   "execution_count": 15,
   "metadata": {},
   "outputs": [
    {
     "data": {
      "text/plain": [
       "HexBytes('0x355ae20ead2292db3cec36a4296bd941e6bc157238ce04a24758c52d11ba28fb')"
      ]
     },
     "execution_count": 15,
     "metadata": {},
     "output_type": "execute_result"
    }
   ],
   "source": [
    "tx_hash"
   ]
  },
  {
   "cell_type": "markdown",
   "metadata": {},
   "source": [
    "### Obtain Transcation Receipt"
   ]
  },
  {
   "cell_type": "code",
   "execution_count": 16,
   "metadata": {},
   "outputs": [],
   "source": [
    "# Wait for the transaction to be mined, and get the transaction receipt\n",
    "# tx_receipt = w3.eth.waitForTransactionReceipt(tx_hash)\n",
    "import time\n",
    "\n",
    "while True:\n",
    "    try:\n",
    "        tx_receipt = w3.eth.get_transaction_receipt(tx_hash)\n",
    "        if tx_receipt is not None:\n",
    "            break  # Exit the loop if the receipt is available\n",
    "    except ValueError:\n",
    "        pass  # Handle the case when the transaction is not yet mined\n",
    "\n",
    "    time.sleep(1)  # Wait for 1 second before checking again\n",
    "\n",
    "# Now you can use tx_receipt in your further processing"
   ]
  },
  {
   "cell_type": "code",
   "execution_count": 17,
   "metadata": {},
   "outputs": [
    {
     "name": "stdout",
     "output_type": "stream",
     "text": [
      "Available accounts: ['0x84dF8A457982333C0893b968872F57b963243307', '0x159f33a7b5a9fB939b8AC6f8CE2E54e7eaE13bE0', '0x68C0eC5c56f0EDe43affA748e5D4aFd87f31513d']\n"
     ]
    }
   ],
   "source": [
    "accounts = w3.eth.accounts\n",
    "print(\"Available accounts:\", accounts)"
   ]
  },
  {
   "cell_type": "code",
   "execution_count": 18,
   "metadata": {},
   "outputs": [
    {
     "name": "stdout",
     "output_type": "stream",
     "text": [
      "The contract is deployed with block number 2 .\n"
     ]
    }
   ],
   "source": [
    "# We obtain the block number under which it is deployed \n",
    "global contract_block\n",
    "contract_block = w3.eth.block_number\n",
    "print(\"The contract is deployed with block number\",contract_block,\".\")"
   ]
  },
  {
   "cell_type": "code",
   "execution_count": 19,
   "metadata": {},
   "outputs": [
    {
     "name": "stdout",
     "output_type": "stream",
     "text": [
      "The contract has the address 0xea36d1D59772835aD60A8adef0BE54e2cB6d5889 .\n"
     ]
    }
   ],
   "source": [
    "# With obtain the final address of the contract \n",
    "global contract_address\n",
    "contract_address = tx_receipt.contractAddress\n",
    "print(\"The contract has the address\", contract_address,\".\")"
   ]
  },
  {
   "cell_type": "markdown",
   "metadata": {},
   "source": [
    "### Interact with contract"
   ]
  },
  {
   "cell_type": "code",
   "execution_count": 20,
   "metadata": {},
   "outputs": [],
   "source": [
    "# Create python instance of deployed contract\n",
    "Contract = w3.eth.contract(\n",
    "    address=tx_receipt.contractAddress,\n",
    "    abi=contract_interface['abi'],\n",
    ")"
   ]
  },
  {
   "cell_type": "code",
   "execution_count": 21,
   "metadata": {},
   "outputs": [
    {
     "name": "stdout",
     "output_type": "stream",
     "text": [
      "Additional Account 1 Address: 0x19008b4F18BBf5E5F3f238b302e784f67067A0AD\n",
      "Additional Account 2 Address: 0x52D01d08F7D429c653c6Ffd27901FB30a3fd0295\n",
      "Additional Account 3 Address: 0xd8F91BfDC7500681e001A8dFeab97dbC8D437208\n",
      "Additional Account 4 Address: 0xf22532C47B211C4cAc573d23bBA12Ba1d659aD06\n",
      "Additional Account 5 Address: 0x835f70863c50D4448BA50929FA294e9D8c27737c\n",
      "Additional Account 6 Address: 0x1f522A705f34b0641762E42D8907268243ef67bB\n",
      "Additional Account 7 Address: 0xb741E7fE0Ef5F448CbBe678405e3db47681CF466\n",
      "Additional Account 8 Address: 0xcfe70f12af906A1f57DDdaA39a66053889509bf3\n",
      "Additional Account 9 Address: 0x5054Fc6Fe675445de3514c3e86a4A62F8ba3D815\n",
      "Additional Account 10 Address: 0x0B4594518D8fB92242365a63e65bb4F434F84169\n",
      "Additional Account 11 Address: 0x3531751f370e58f422356ce500C481C59Ae9e3eA\n",
      "Additional Account 12 Address: 0x73f811E62164e69eaf046Ed5e4D5307A58049585\n",
      "Additional Account 13 Address: 0x401555425c908B1fB5EA74C1e5ab721dc2F71CB5\n",
      "Updated List of Accounts: ['0x84dF8A457982333C0893b968872F57b963243307', '0x159f33a7b5a9fB939b8AC6f8CE2E54e7eaE13bE0', '0x68C0eC5c56f0EDe43affA748e5D4aFd87f31513d', '0x19008b4F18BBf5E5F3f238b302e784f67067A0AD', '0x52D01d08F7D429c653c6Ffd27901FB30a3fd0295', '0xd8F91BfDC7500681e001A8dFeab97dbC8D437208', '0xf22532C47B211C4cAc573d23bBA12Ba1d659aD06', '0x835f70863c50D4448BA50929FA294e9D8c27737c', '0x1f522A705f34b0641762E42D8907268243ef67bB', '0xb741E7fE0Ef5F448CbBe678405e3db47681CF466', '0xcfe70f12af906A1f57DDdaA39a66053889509bf3', '0x5054Fc6Fe675445de3514c3e86a4A62F8ba3D815', '0x0B4594518D8fB92242365a63e65bb4F434F84169', '0x3531751f370e58f422356ce500C481C59Ae9e3eA', '0x73f811E62164e69eaf046Ed5e4D5307A58049585', '0x401555425c908B1fB5EA74C1e5ab721dc2F71CB5']\n"
     ]
    }
   ],
   "source": [
    "# Create additional accounts\n",
    "num_additional_accounts = 13\n",
    "additional_accounts = [w3.eth.account.create() for _ in range(num_additional_accounts)]\n",
    "\n",
    "# Print the addresses of additional accounts\n",
    "for i, account in enumerate(additional_accounts, start=1):\n",
    "    print(f\"Additional Account {i} Address:\", account.address)\n",
    "\n",
    "# Add the addresses of additional accounts to the accounts variable\n",
    "accounts += [account.address for account in additional_accounts]\n",
    "\n",
    "print(\"Updated List of Accounts:\", accounts)\n",
    "\n",
    "# Now you can use the updated list of accounts for interacting with the contract"
   ]
  },
  {
   "cell_type": "code",
   "execution_count": 22,
   "metadata": {},
   "outputs": [],
   "source": [
    "# Extract default accounts created by ganache\n",
    "# accounts = w3.eth.accounts"
   ]
  },
  {
   "cell_type": "code",
   "execution_count": 23,
   "metadata": {},
   "outputs": [
    {
     "data": {
      "text/plain": [
       "['0x84dF8A457982333C0893b968872F57b963243307',\n",
       " '0x159f33a7b5a9fB939b8AC6f8CE2E54e7eaE13bE0',\n",
       " '0x68C0eC5c56f0EDe43affA748e5D4aFd87f31513d',\n",
       " '0x19008b4F18BBf5E5F3f238b302e784f67067A0AD',\n",
       " '0x52D01d08F7D429c653c6Ffd27901FB30a3fd0295',\n",
       " '0xd8F91BfDC7500681e001A8dFeab97dbC8D437208',\n",
       " '0xf22532C47B211C4cAc573d23bBA12Ba1d659aD06',\n",
       " '0x835f70863c50D4448BA50929FA294e9D8c27737c',\n",
       " '0x1f522A705f34b0641762E42D8907268243ef67bB',\n",
       " '0xb741E7fE0Ef5F448CbBe678405e3db47681CF466',\n",
       " '0xcfe70f12af906A1f57DDdaA39a66053889509bf3',\n",
       " '0x5054Fc6Fe675445de3514c3e86a4A62F8ba3D815',\n",
       " '0x0B4594518D8fB92242365a63e65bb4F434F84169',\n",
       " '0x3531751f370e58f422356ce500C481C59Ae9e3eA',\n",
       " '0x73f811E62164e69eaf046Ed5e4D5307A58049585',\n",
       " '0x401555425c908B1fB5EA74C1e5ab721dc2F71CB5']"
      ]
     },
     "execution_count": 23,
     "metadata": {},
     "output_type": "execute_result"
    }
   ],
   "source": [
    "accounts"
   ]
  },
  {
   "cell_type": "markdown",
   "metadata": {},
   "source": [
    "**UploadData**  \n",
    "```solidity\n",
    "   function UploadDataPrimaryCategory(\n",
    "        address _address1,\n",
    "        bool _NoRestrictions,\n",
    "        bool _OpenToGeneralResearchAndClinicalCare,\n",
    "        bool _OpenToHMBResearch,\n",
    "        bool _OpenToPopulationAndAncestryResearch,\n",
    "        bool _OpenToDiseaseSpecific)\n",
    "```\n",
    "```solidity\n",
    "    function UploadDataSecondaryCategory(\n",
    "        address _address1, \n",
    "        bool _OpenToGeneticStudiesOnly,\n",
    "        bool _ResearchSpecificRestrictions,\n",
    "        bool _OpenToResearchUseOnly,\n",
    "        bool _NoGeneralMethodResearch)\n",
    "```\n",
    "\n",
    "```solidity\n",
    "   function UploadDataRequirements(\n",
    "        address _address1,\n",
    "        bool _GeographicSpecificRestriction,\n",
    "        bool _OpenToNonProfitUseOnly,\n",
    "        bool _PublicationRequired,\n",
    "        bool _CollaborationRequired,\n",
    "        bool _EthicsApprovalrequired,\n",
    "        bool _TimeLimitOnUse,\n",
    "        bool _CostOnUse,\n",
    "        bool _DataSecurityMeasuresRequired)\n",
    "```"
   ]
  },
  {
   "cell_type": "code",
   "execution_count": 28,
   "metadata": {},
   "outputs": [],
   "source": [
    "# Assuming you have already defined the Contract and test_address0 variables\n",
    "upload_data_function = Contract.functions.UploadDataPrimaryCategory(test_address0, False, True, True, True, True)\n",
    "\n",
    "# Set a custom gas limit (you may need to adjust this based on your contract's complexity)\n",
    "custom_gas_limit = 200000\n",
    "\n",
    "# Get the gas price\n",
    "gas_price = w3.eth.gas_price\n",
    "\n",
    "# Now you can execute the function call\n",
    "tx_hash_upload = upload_data_function.transact({\"from\": w3.eth.accounts[0], \"gas\": custom_gas_limit, \"gasPrice\": gas_price})"
   ]
  },
  {
   "cell_type": "code",
   "execution_count": 26,
   "metadata": {},
   "outputs": [],
   "source": [
    "#for i in range(100):\n",
    "#    test_address0 = accounts[0]\n",
    "#    tx_hash = Contract.functions.UploadDataPrimaryCategory(test_address0, False, True, True, True, True).transact()\n",
    "#    tx_hash = Contract.functions.UploadDataRequirements(test_address0, False, True, False, False, False, False, False, False).transact()"
   ]
  },
  {
   "cell_type": "code",
   "execution_count": 25,
   "metadata": {},
   "outputs": [],
   "source": [
    "#endTimeDataProvider10 = datetime.now()\n",
    "#elapsedTimeDataProvider10 = endTimeDataProvider10 - startTime0\n",
    "#print(\"elapsedTimeDataProvider10\", elapsedTimeDataProvider10)"
   ]
  },
  {
   "cell_type": "code",
   "execution_count": 27,
   "metadata": {},
   "outputs": [],
   "source": [
    "# Assuming you have already defined the Contract and accounts variables\n",
    "test_address0 = accounts[0]\n",
    "\n",
    "# Set custom gas limit (you may need to adjust this based on your contract's complexity)\n",
    "custom_gas_limit = 200000\n",
    "\n",
    "# Get the gas price\n",
    "gas_price = w3.eth.gas_price\n",
    "\n",
    "# Execute UploadDataPrimaryCategory function\n",
    "tx_hash_primary_category = Contract.functions.UploadDataPrimaryCategory(test_address0, False, True, True, True, True).transact({\"from\": test_address0, \"gas\": custom_gas_limit, \"gasPrice\": gas_price})\n",
    "\n",
    "# Execute UploadDataRequirements function\n",
    "tx_hash_requirements = Contract.functions.UploadDataRequirements(test_address0, False, True, False, False, False, False, False, False).transact({\"from\": test_address0, \"gas\": custom_gas_limit, \"gasPrice\": gas_price})"
   ]
  },
  {
   "cell_type": "code",
   "execution_count": 2496,
   "metadata": {},
   "outputs": [],
   "source": [
    "#print(w3.eth.getBlock('latest'))"
   ]
  },
  {
   "cell_type": "code",
   "execution_count": 2497,
   "metadata": {},
   "outputs": [],
   "source": [
    "#endTimeDataProvider0 = datetime.now()\n",
    "#elapsedTimeDataProvider0 = endTimeDataProvider0 - startTime0\n",
    "#print(\"elapsedTimeDataProvider0\", elapsedTimeDataProvider0)"
   ]
  },
  {
   "cell_type": "code",
   "execution_count": 2498,
   "metadata": {},
   "outputs": [],
   "source": [
    "#tx_hash"
   ]
  },
  {
   "cell_type": "markdown",
   "metadata": {},
   "source": [
    "**giveResearchPurpose**  \n",
    "```solidity\n",
    " function giveResearchPurpose(\n",
    "        address _address2,\n",
    "        bool _UseForMethodsDevelopment,\n",
    "        bool _UseForReferenceOrControlMaterial,\n",
    "        bool _UseForPopulationsResearch,\n",
    "        bool _UseForAncestryResearch,\n",
    "        bool _UseForHMBResearch)\n",
    "```\n",
    "\n",
    "**giveHMBPurpose**  \n",
    "```solidity\n",
    " function giveHMBPurpose( \n",
    "        address _address2, \n",
    "        bool _UseForFundamentalBioResearch,\n",
    "        bool _UseForGeneticsResearch,\n",
    "        bool _UseForDrugDevelopmentResearch, \n",
    "        bool _UseForAnyDiseaseResearch,\n",
    "        bool _UseForAgeCategoriesResearch,\n",
    "        bool _UseForGenderCategoriesResearch)\n",
    "```\n",
    "\n",
    "**giveClinicalPurpose**  \n",
    "```solidity\n",
    " function giveClinicalPurpose( \n",
    "        address _address2, \n",
    "        bool _UseForDecisionSupport, \n",
    "        bool _UseForDiseaseSupport)\n",
    "```\n",
    "\n",
    "**givePerson**  \n",
    "```solidity\n",
    " function givePerson( \n",
    "        address _address2,\n",
    "        bool _UseByAcademicProfessionals,\n",
    "        bool _UseByClinicalProfessionals,\n",
    "        bool _UseByProfitMakingProfessionals, \n",
    "        bool _UseByNonProfessionals)\n",
    "```\n",
    "\n",
    "**giveGeographicSpecificRestriction**  \n",
    "```solidity\n",
    " function giveGeographicSpecificRestriction( \n",
    "        address _address2, \n",
    "        bool _UseBySpecifiedCountries)\n",
    "```\n",
    "**giveProfit**  \n",
    "```solidity\n",
    " function giveProfit( \n",
    "        address _address2, \n",
    "        bool _UseForProfitPurpose,\n",
    "        bool _UseForNonProfitPurpose)\n",
    "```\n",
    "**giveDataRequester_Terms**  \n",
    "```solidity\n",
    " function giveDataRequester_Terms( \n",
    "        address _address2, \n",
    "        bool _NoTimelineRestrictions,\n",
    "        bool _NoFormalApprovalRequired,\n",
    "        bool _NoCollaborationRequired,\n",
    "        bool _NoPublicationRequired,\n",
    "        bool _NoDataSecurityMeasures,\n",
    "        bool _NoDataDestructionRequired,\n",
    "        bool _NoLinkingOfAccessedRecords,\n",
    "        bool _NoRecontactingDataSubjects,\n",
    "        bool _NoIntellectualPropertyClaims,\n",
    "        bool _NoUseOfAccessedResources,\n",
    "        bool _NoFeesForAccess)\n",
    "```"
   ]
  },
  {
   "cell_type": "code",
   "execution_count": 29,
   "metadata": {},
   "outputs": [],
   "source": [
    "startTime13 = datetime.now()"
   ]
  },
  {
   "cell_type": "code",
   "execution_count": 30,
   "metadata": {},
   "outputs": [],
   "source": [
    "#Data Requesters Account  \n",
    "test_address13 = accounts[2]\n",
    "\n",
    "#Data Requester 1 (General Research and Profit-Making)\n",
    "tx_hash = Contract.functions.giveResearchPurpose(test_address13, True, True, False, False, False).transact({\"from\": w3.eth.accounts[2]})\n",
    "tx_hash = Contract.functions.givePerson(test_address13, True, False, True, False).transact({\"from\": w3.eth.accounts[2]})\n",
    "tx_hash = Contract.functions.giveProfit(test_address13, True, False).transact({\"from\": w3.eth.accounts[2]})"
   ]
  },
  {
   "cell_type": "code",
   "execution_count": 31,
   "metadata": {},
   "outputs": [
    {
     "name": "stdout",
     "output_type": "stream",
     "text": [
      "elapsedTimeDataRequester13 0:00:07.630836\n"
     ]
    }
   ],
   "source": [
    "endTimeDataRequester13 = datetime.now()\n",
    "elapsedTimeDataRequester13 = endTimeDataRequester13 - startTime13\n",
    "print(\"elapsedTimeDataRequester13\", elapsedTimeDataRequester13)"
   ]
  },
  {
   "cell_type": "code",
   "execution_count": 32,
   "metadata": {},
   "outputs": [
    {
     "data": {
      "text/plain": [
       "False"
      ]
     },
     "execution_count": 32,
     "metadata": {},
     "output_type": "execute_result"
    }
   ],
   "source": [
    "Contract.functions.AccessData(test_address0, test_address13).call()"
   ]
  },
  {
   "cell_type": "code",
   "execution_count": 33,
   "metadata": {},
   "outputs": [],
   "source": [
    "#endTimeDataRequesterAccessData13 = datetime.now()\n",
    "#elapsedTimeDataRequesterAccessData13 = endTimeDataRequesterAccessData13 - startTime13\n",
    "#print(\"elapsedTimeDataRequesterAccessData13\", elapsedTimeDataRequesterAccessData13)"
   ]
  },
  {
   "cell_type": "code",
   "execution_count": 34,
   "metadata": {},
   "outputs": [],
   "source": [
    "startTime14 = datetime.now()"
   ]
  },
  {
   "cell_type": "code",
   "execution_count": 37,
   "metadata": {},
   "outputs": [
    {
     "ename": "ValueError",
     "evalue": "{'message': 'from not found; is required', 'stack': 'Error: from not found; is required\\n    at EthereumApi.eth_sendTransaction (/app/dist/node/1.js:2:87278)\\n    at EthereumApi.n.value (/app/dist/node/1.js:2:238968)\\n    at Object.execute (/app/dist/node/1.js:2:165607)\\n    at RequestCoordinator.<anonymous> (/app/dist/node/1.js:2:165421)\\n    at /app/dist/node/1.js:2:165687\\n    at new Promise (<anonymous>)\\n    at RequestCoordinator.queue (/app/dist/node/1.js:2:165529)\\n    at Executor.execute (/app/dist/node/1.js:2:164094)\\n    at EthereumProvider._requestRaw (/app/dist/node/1.js:2:130922)\\n    at Connector.<anonymous> (/app/dist/node/1.js:2:125410)', 'code': -32700}",
     "output_type": "error",
     "traceback": [
      "\u001b[1;31m---------------------------------------------------------------------------\u001b[0m",
      "\u001b[1;31mValueError\u001b[0m                                Traceback (most recent call last)",
      "\u001b[1;32mc:\\Users\\teunh\\Documents\\year 5\\project 2-1\\DecentralizedHealthcareBackend-master\\luce_vm\\jupyter\\VikasContractTest.ipynb Cell 45\u001b[0m line \u001b[0;36m4\n\u001b[0;32m      <a href='vscode-notebook-cell:/c%3A/Users/teunh/Documents/year%205/project%202-1/DecentralizedHealthcareBackend-master/luce_vm/jupyter/VikasContractTest.ipynb#X62sZmlsZQ%3D%3D?line=1'>2</a>\u001b[0m test_address14 \u001b[39m=\u001b[39m accounts[\u001b[39m14\u001b[39m]\n\u001b[0;32m      <a href='vscode-notebook-cell:/c%3A/Users/teunh/Documents/year%205/project%202-1/DecentralizedHealthcareBackend-master/luce_vm/jupyter/VikasContractTest.ipynb#X62sZmlsZQ%3D%3D?line=2'>3</a>\u001b[0m \u001b[39m#Data Requester 2 (HMB and Profit Making)\u001b[39;00m\n\u001b[1;32m----> <a href='vscode-notebook-cell:/c%3A/Users/teunh/Documents/year%205/project%202-1/DecentralizedHealthcareBackend-master/luce_vm/jupyter/VikasContractTest.ipynb#X62sZmlsZQ%3D%3D?line=3'>4</a>\u001b[0m tx_hash \u001b[39m=\u001b[39m Contract\u001b[39m.\u001b[39mfunctions\u001b[39m.\u001b[39mgiveHMBPurpose(test_address14, \u001b[39mTrue\u001b[39;00m, \u001b[39mTrue\u001b[39;00m, \u001b[39mTrue\u001b[39;00m, \u001b[39mFalse\u001b[39;00m, \u001b[39mTrue\u001b[39;00m, \u001b[39mTrue\u001b[39;00m)\u001b[39m.\u001b[39mtransact()\n\u001b[0;32m      <a href='vscode-notebook-cell:/c%3A/Users/teunh/Documents/year%205/project%202-1/DecentralizedHealthcareBackend-master/luce_vm/jupyter/VikasContractTest.ipynb#X62sZmlsZQ%3D%3D?line=4'>5</a>\u001b[0m tx_hash \u001b[39m=\u001b[39m Contract\u001b[39m.\u001b[39mfunctions\u001b[39m.\u001b[39mgivePerson(test_address14, \u001b[39mFalse\u001b[39;00m, \u001b[39mTrue\u001b[39;00m, \u001b[39mTrue\u001b[39;00m, \u001b[39mFalse\u001b[39;00m)\u001b[39m.\u001b[39mtransact()\n\u001b[0;32m      <a href='vscode-notebook-cell:/c%3A/Users/teunh/Documents/year%205/project%202-1/DecentralizedHealthcareBackend-master/luce_vm/jupyter/VikasContractTest.ipynb#X62sZmlsZQ%3D%3D?line=5'>6</a>\u001b[0m tx_hash \u001b[39m=\u001b[39m Contract\u001b[39m.\u001b[39mfunctions\u001b[39m.\u001b[39mgiveProfit(test_address14, \u001b[39mTrue\u001b[39;00m, \u001b[39mFalse\u001b[39;00m)\u001b[39m.\u001b[39mtransact()\n",
      "File \u001b[1;32mc:\\Users\\teunh\\Anaconda3\\Lib\\site-packages\\web3\\contract\\contract.py:323\u001b[0m, in \u001b[0;36mContractFunction.transact\u001b[1;34m(self, transaction)\u001b[0m\n\u001b[0;32m    321\u001b[0m \u001b[39mdef\u001b[39;00m \u001b[39mtransact\u001b[39m(\u001b[39mself\u001b[39m, transaction: Optional[TxParams] \u001b[39m=\u001b[39m \u001b[39mNone\u001b[39;00m) \u001b[39m-\u001b[39m\u001b[39m>\u001b[39m HexBytes:\n\u001b[0;32m    322\u001b[0m     setup_transaction \u001b[39m=\u001b[39m \u001b[39mself\u001b[39m\u001b[39m.\u001b[39m_transact(transaction)\n\u001b[1;32m--> 323\u001b[0m     \u001b[39mreturn\u001b[39;00m transact_with_contract_function(\n\u001b[0;32m    324\u001b[0m         \u001b[39mself\u001b[39m\u001b[39m.\u001b[39maddress,\n\u001b[0;32m    325\u001b[0m         \u001b[39mself\u001b[39m\u001b[39m.\u001b[39mw3,\n\u001b[0;32m    326\u001b[0m         \u001b[39mself\u001b[39m\u001b[39m.\u001b[39mfunction_identifier,\n\u001b[0;32m    327\u001b[0m         setup_transaction,\n\u001b[0;32m    328\u001b[0m         \u001b[39mself\u001b[39m\u001b[39m.\u001b[39mcontract_abi,\n\u001b[0;32m    329\u001b[0m         \u001b[39mself\u001b[39m\u001b[39m.\u001b[39mabi,\n\u001b[0;32m    330\u001b[0m         \u001b[39m*\u001b[39m\u001b[39mself\u001b[39m\u001b[39m.\u001b[39margs,\n\u001b[0;32m    331\u001b[0m         \u001b[39m*\u001b[39m\u001b[39m*\u001b[39m\u001b[39mself\u001b[39m\u001b[39m.\u001b[39mkwargs,\n\u001b[0;32m    332\u001b[0m     )\n",
      "File \u001b[1;32mc:\\Users\\teunh\\Anaconda3\\Lib\\site-packages\\web3\\contract\\utils.py:172\u001b[0m, in \u001b[0;36mtransact_with_contract_function\u001b[1;34m(address, w3, function_name, transaction, contract_abi, fn_abi, *args, **kwargs)\u001b[0m\n\u001b[0;32m    157\u001b[0m \u001b[39m\u001b[39m\u001b[39m\"\"\"\u001b[39;00m\n\u001b[0;32m    158\u001b[0m \u001b[39mHelper function for interacting with a contract function by sending a\u001b[39;00m\n\u001b[0;32m    159\u001b[0m \u001b[39mtransaction.\u001b[39;00m\n\u001b[0;32m    160\u001b[0m \u001b[39m\"\"\"\u001b[39;00m\n\u001b[0;32m    161\u001b[0m transact_transaction \u001b[39m=\u001b[39m prepare_transaction(\n\u001b[0;32m    162\u001b[0m     address,\n\u001b[0;32m    163\u001b[0m     w3,\n\u001b[1;32m   (...)\u001b[0m\n\u001b[0;32m    169\u001b[0m     fn_kwargs\u001b[39m=\u001b[39mkwargs,\n\u001b[0;32m    170\u001b[0m )\n\u001b[1;32m--> 172\u001b[0m txn_hash \u001b[39m=\u001b[39m w3\u001b[39m.\u001b[39meth\u001b[39m.\u001b[39msend_transaction(transact_transaction)\n\u001b[0;32m    173\u001b[0m \u001b[39mreturn\u001b[39;00m txn_hash\n",
      "File \u001b[1;32mc:\\Users\\teunh\\Anaconda3\\Lib\\site-packages\\web3\\eth\\eth.py:363\u001b[0m, in \u001b[0;36mEth.send_transaction\u001b[1;34m(self, transaction)\u001b[0m\n\u001b[0;32m    362\u001b[0m \u001b[39mdef\u001b[39;00m \u001b[39msend_transaction\u001b[39m(\u001b[39mself\u001b[39m, transaction: TxParams) \u001b[39m-\u001b[39m\u001b[39m>\u001b[39m HexBytes:\n\u001b[1;32m--> 363\u001b[0m     \u001b[39mreturn\u001b[39;00m \u001b[39mself\u001b[39m\u001b[39m.\u001b[39m_send_transaction(transaction)\n",
      "File \u001b[1;32mc:\\Users\\teunh\\Anaconda3\\Lib\\site-packages\\web3\\module.py:75\u001b[0m, in \u001b[0;36mretrieve_blocking_method_call_fn.<locals>.caller\u001b[1;34m(*args, **kwargs)\u001b[0m\n\u001b[0;32m     68\u001b[0m     \u001b[39mreturn\u001b[39;00m LogFilter(eth_module\u001b[39m=\u001b[39mmodule, filter_id\u001b[39m=\u001b[39merr\u001b[39m.\u001b[39mfilter_id)\n\u001b[0;32m     70\u001b[0m (\n\u001b[0;32m     71\u001b[0m     result_formatters,\n\u001b[0;32m     72\u001b[0m     error_formatters,\n\u001b[0;32m     73\u001b[0m     null_result_formatters,\n\u001b[0;32m     74\u001b[0m ) \u001b[39m=\u001b[39m response_formatters\n\u001b[1;32m---> 75\u001b[0m result \u001b[39m=\u001b[39m w3\u001b[39m.\u001b[39mmanager\u001b[39m.\u001b[39mrequest_blocking(\n\u001b[0;32m     76\u001b[0m     method_str, params, error_formatters, null_result_formatters\n\u001b[0;32m     77\u001b[0m )\n\u001b[0;32m     78\u001b[0m \u001b[39mreturn\u001b[39;00m apply_result_formatters(result_formatters, result)\n",
      "File \u001b[1;32mc:\\Users\\teunh\\Anaconda3\\Lib\\site-packages\\web3\\manager.py:325\u001b[0m, in \u001b[0;36mRequestManager.request_blocking\u001b[1;34m(self, method, params, error_formatters, null_result_formatters)\u001b[0m\n\u001b[0;32m    321\u001b[0m \u001b[39m\u001b[39m\u001b[39m\"\"\"\u001b[39;00m\n\u001b[0;32m    322\u001b[0m \u001b[39mMake a synchronous request using the provider\u001b[39;00m\n\u001b[0;32m    323\u001b[0m \u001b[39m\"\"\"\u001b[39;00m\n\u001b[0;32m    324\u001b[0m response \u001b[39m=\u001b[39m \u001b[39mself\u001b[39m\u001b[39m.\u001b[39m_make_request(method, params)\n\u001b[1;32m--> 325\u001b[0m \u001b[39mreturn\u001b[39;00m \u001b[39mself\u001b[39m\u001b[39m.\u001b[39mformatted_response(\n\u001b[0;32m    326\u001b[0m     response, params, error_formatters, null_result_formatters\n\u001b[0;32m    327\u001b[0m )\n",
      "File \u001b[1;32mc:\\Users\\teunh\\Anaconda3\\Lib\\site-packages\\web3\\manager.py:288\u001b[0m, in \u001b[0;36mRequestManager.formatted_response\u001b[1;34m(response, params, error_formatters, null_result_formatters)\u001b[0m\n\u001b[0;32m    282\u001b[0m         _raise_bad_response_format(\n\u001b[0;32m    283\u001b[0m             response, \u001b[39m\"\u001b[39m\u001b[39merror[\u001b[39m\u001b[39m'\u001b[39m\u001b[39mmessage\u001b[39m\u001b[39m'\u001b[39m\u001b[39m] must be a string\u001b[39m\u001b[39m\"\u001b[39m\n\u001b[0;32m    284\u001b[0m         )\n\u001b[0;32m    286\u001b[0m     apply_error_formatters(error_formatters, response)\n\u001b[1;32m--> 288\u001b[0m     \u001b[39mraise\u001b[39;00m \u001b[39mValueError\u001b[39;00m(error)\n\u001b[0;32m    290\u001b[0m \u001b[39m# Format and validate results\u001b[39;00m\n\u001b[0;32m    291\u001b[0m \u001b[39melif\u001b[39;00m \u001b[39m\"\u001b[39m\u001b[39mresult\u001b[39m\u001b[39m\"\u001b[39m \u001b[39min\u001b[39;00m response:\n\u001b[0;32m    292\u001b[0m     \u001b[39m# Null values for result should apply null_result_formatters\u001b[39;00m\n\u001b[0;32m    293\u001b[0m     \u001b[39m# Skip when result not present in the response (fallback to False)\u001b[39;00m\n",
      "\u001b[1;31mValueError\u001b[0m: {'message': 'from not found; is required', 'stack': 'Error: from not found; is required\\n    at EthereumApi.eth_sendTransaction (/app/dist/node/1.js:2:87278)\\n    at EthereumApi.n.value (/app/dist/node/1.js:2:238968)\\n    at Object.execute (/app/dist/node/1.js:2:165607)\\n    at RequestCoordinator.<anonymous> (/app/dist/node/1.js:2:165421)\\n    at /app/dist/node/1.js:2:165687\\n    at new Promise (<anonymous>)\\n    at RequestCoordinator.queue (/app/dist/node/1.js:2:165529)\\n    at Executor.execute (/app/dist/node/1.js:2:164094)\\n    at EthereumProvider._requestRaw (/app/dist/node/1.js:2:130922)\\n    at Connector.<anonymous> (/app/dist/node/1.js:2:125410)', 'code': -32700}"
     ]
    }
   ],
   "source": [
    "#Data Requesters Account\n",
    "test_address14 = accounts[14]\n",
    "#Data Requester 2 (HMB and Profit Making)\n",
    "tx_hash = Contract.functions.giveHMBPurpose(test_address14, True, True, True, False, True, True).transact()\n",
    "tx_hash = Contract.functions.givePerson(test_address14, False, True, True, False).transact()\n",
    "tx_hash = Contract.functions.giveProfit(test_address14, True, False).transact()"
   ]
  },
  {
   "cell_type": "code",
   "execution_count": 36,
   "metadata": {},
   "outputs": [
    {
     "name": "stdout",
     "output_type": "stream",
     "text": [
      "elapsedTimeDataRequester14 0:00:10.963842\n"
     ]
    }
   ],
   "source": [
    "endTimeDataRequester14 = datetime.now()\n",
    "elapsedTimeDataRequester14 = endTimeDataRequester14 - startTime14\n",
    "print(\"elapsedTimeDataRequester14\", elapsedTimeDataRequester14)"
   ]
  },
  {
   "cell_type": "code",
   "execution_count": 38,
   "metadata": {},
   "outputs": [
    {
     "data": {
      "text/plain": [
       "False"
      ]
     },
     "execution_count": 38,
     "metadata": {},
     "output_type": "execute_result"
    }
   ],
   "source": [
    "Contract.functions.AccessData(test_address0, test_address14).call()"
   ]
  },
  {
   "cell_type": "code",
   "execution_count": 39,
   "metadata": {},
   "outputs": [],
   "source": [
    "#endTimeDataRequesterAccessData14 = datetime.now()\n",
    "#elapsedTimeDataRequesterAccessData14 = endTimeDataRequesterAccessData14 - startTime14\n",
    "#print(\"elapsedTimeDataRequesterAccessData14\", elapsedTimeDataRequesterAccessData14)"
   ]
  },
  {
   "cell_type": "code",
   "execution_count": 40,
   "metadata": {},
   "outputs": [],
   "source": [
    "startTime15 = datetime.now()"
   ]
  },
  {
   "cell_type": "code",
   "execution_count": 41,
   "metadata": {},
   "outputs": [
    {
     "ename": "ValueError",
     "evalue": "{'message': 'from not found; is required', 'stack': 'Error: from not found; is required\\n    at EthereumApi.eth_sendTransaction (/app/dist/node/1.js:2:87278)\\n    at EthereumApi.n.value (/app/dist/node/1.js:2:238968)\\n    at Object.execute (/app/dist/node/1.js:2:165607)\\n    at RequestCoordinator.<anonymous> (/app/dist/node/1.js:2:165421)\\n    at /app/dist/node/1.js:2:165687\\n    at new Promise (<anonymous>)\\n    at RequestCoordinator.queue (/app/dist/node/1.js:2:165529)\\n    at Executor.execute (/app/dist/node/1.js:2:164094)\\n    at EthereumProvider._requestRaw (/app/dist/node/1.js:2:130922)\\n    at Connector.<anonymous> (/app/dist/node/1.js:2:125410)', 'code': -32700}",
     "output_type": "error",
     "traceback": [
      "\u001b[1;31m---------------------------------------------------------------------------\u001b[0m",
      "\u001b[1;31mValueError\u001b[0m                                Traceback (most recent call last)",
      "\u001b[1;32mc:\\Users\\teunh\\Documents\\year 5\\project 2-1\\DecentralizedHealthcareBackend-master\\luce_vm\\jupyter\\VikasContractTest.ipynb Cell 50\u001b[0m line \u001b[0;36m4\n\u001b[0;32m      <a href='vscode-notebook-cell:/c%3A/Users/teunh/Documents/year%205/project%202-1/DecentralizedHealthcareBackend-master/luce_vm/jupyter/VikasContractTest.ipynb#Y100sZmlsZQ%3D%3D?line=1'>2</a>\u001b[0m test_address15 \u001b[39m=\u001b[39m accounts[\u001b[39m15\u001b[39m]\n\u001b[0;32m      <a href='vscode-notebook-cell:/c%3A/Users/teunh/Documents/year%205/project%202-1/DecentralizedHealthcareBackend-master/luce_vm/jupyter/VikasContractTest.ipynb#Y100sZmlsZQ%3D%3D?line=2'>3</a>\u001b[0m \u001b[39m#Data Requester 3 (Disease Specific and Non-Profit-Making)\u001b[39;00m\n\u001b[1;32m----> <a href='vscode-notebook-cell:/c%3A/Users/teunh/Documents/year%205/project%202-1/DecentralizedHealthcareBackend-master/luce_vm/jupyter/VikasContractTest.ipynb#Y100sZmlsZQ%3D%3D?line=3'>4</a>\u001b[0m tx_hash \u001b[39m=\u001b[39m Contract\u001b[39m.\u001b[39mfunctions\u001b[39m.\u001b[39mgiveHMBPurpose(test_address15, \u001b[39mFalse\u001b[39;00m, \u001b[39mFalse\u001b[39;00m, \u001b[39mFalse\u001b[39;00m, \u001b[39mTrue\u001b[39;00m, \u001b[39mFalse\u001b[39;00m, \u001b[39mFalse\u001b[39;00m)\u001b[39m.\u001b[39mtransact()\n\u001b[0;32m      <a href='vscode-notebook-cell:/c%3A/Users/teunh/Documents/year%205/project%202-1/DecentralizedHealthcareBackend-master/luce_vm/jupyter/VikasContractTest.ipynb#Y100sZmlsZQ%3D%3D?line=4'>5</a>\u001b[0m tx_hash \u001b[39m=\u001b[39m Contract\u001b[39m.\u001b[39mfunctions\u001b[39m.\u001b[39mgivePerson(test_address15, \u001b[39mFalse\u001b[39;00m, \u001b[39mTrue\u001b[39;00m, \u001b[39mFalse\u001b[39;00m, \u001b[39mFalse\u001b[39;00m)\u001b[39m.\u001b[39mtransact()\n\u001b[0;32m      <a href='vscode-notebook-cell:/c%3A/Users/teunh/Documents/year%205/project%202-1/DecentralizedHealthcareBackend-master/luce_vm/jupyter/VikasContractTest.ipynb#Y100sZmlsZQ%3D%3D?line=5'>6</a>\u001b[0m tx_hash \u001b[39m=\u001b[39m Contract\u001b[39m.\u001b[39mfunctions\u001b[39m.\u001b[39mgiveProfit(test_address15, \u001b[39mFalse\u001b[39;00m, \u001b[39mTrue\u001b[39;00m)\u001b[39m.\u001b[39mtransact()\n",
      "File \u001b[1;32mc:\\Users\\teunh\\Anaconda3\\Lib\\site-packages\\web3\\contract\\contract.py:323\u001b[0m, in \u001b[0;36mContractFunction.transact\u001b[1;34m(self, transaction)\u001b[0m\n\u001b[0;32m    321\u001b[0m \u001b[39mdef\u001b[39;00m \u001b[39mtransact\u001b[39m(\u001b[39mself\u001b[39m, transaction: Optional[TxParams] \u001b[39m=\u001b[39m \u001b[39mNone\u001b[39;00m) \u001b[39m-\u001b[39m\u001b[39m>\u001b[39m HexBytes:\n\u001b[0;32m    322\u001b[0m     setup_transaction \u001b[39m=\u001b[39m \u001b[39mself\u001b[39m\u001b[39m.\u001b[39m_transact(transaction)\n\u001b[1;32m--> 323\u001b[0m     \u001b[39mreturn\u001b[39;00m transact_with_contract_function(\n\u001b[0;32m    324\u001b[0m         \u001b[39mself\u001b[39m\u001b[39m.\u001b[39maddress,\n\u001b[0;32m    325\u001b[0m         \u001b[39mself\u001b[39m\u001b[39m.\u001b[39mw3,\n\u001b[0;32m    326\u001b[0m         \u001b[39mself\u001b[39m\u001b[39m.\u001b[39mfunction_identifier,\n\u001b[0;32m    327\u001b[0m         setup_transaction,\n\u001b[0;32m    328\u001b[0m         \u001b[39mself\u001b[39m\u001b[39m.\u001b[39mcontract_abi,\n\u001b[0;32m    329\u001b[0m         \u001b[39mself\u001b[39m\u001b[39m.\u001b[39mabi,\n\u001b[0;32m    330\u001b[0m         \u001b[39m*\u001b[39m\u001b[39mself\u001b[39m\u001b[39m.\u001b[39margs,\n\u001b[0;32m    331\u001b[0m         \u001b[39m*\u001b[39m\u001b[39m*\u001b[39m\u001b[39mself\u001b[39m\u001b[39m.\u001b[39mkwargs,\n\u001b[0;32m    332\u001b[0m     )\n",
      "File \u001b[1;32mc:\\Users\\teunh\\Anaconda3\\Lib\\site-packages\\web3\\contract\\utils.py:172\u001b[0m, in \u001b[0;36mtransact_with_contract_function\u001b[1;34m(address, w3, function_name, transaction, contract_abi, fn_abi, *args, **kwargs)\u001b[0m\n\u001b[0;32m    157\u001b[0m \u001b[39m\u001b[39m\u001b[39m\"\"\"\u001b[39;00m\n\u001b[0;32m    158\u001b[0m \u001b[39mHelper function for interacting with a contract function by sending a\u001b[39;00m\n\u001b[0;32m    159\u001b[0m \u001b[39mtransaction.\u001b[39;00m\n\u001b[0;32m    160\u001b[0m \u001b[39m\"\"\"\u001b[39;00m\n\u001b[0;32m    161\u001b[0m transact_transaction \u001b[39m=\u001b[39m prepare_transaction(\n\u001b[0;32m    162\u001b[0m     address,\n\u001b[0;32m    163\u001b[0m     w3,\n\u001b[1;32m   (...)\u001b[0m\n\u001b[0;32m    169\u001b[0m     fn_kwargs\u001b[39m=\u001b[39mkwargs,\n\u001b[0;32m    170\u001b[0m )\n\u001b[1;32m--> 172\u001b[0m txn_hash \u001b[39m=\u001b[39m w3\u001b[39m.\u001b[39meth\u001b[39m.\u001b[39msend_transaction(transact_transaction)\n\u001b[0;32m    173\u001b[0m \u001b[39mreturn\u001b[39;00m txn_hash\n",
      "File \u001b[1;32mc:\\Users\\teunh\\Anaconda3\\Lib\\site-packages\\web3\\eth\\eth.py:363\u001b[0m, in \u001b[0;36mEth.send_transaction\u001b[1;34m(self, transaction)\u001b[0m\n\u001b[0;32m    362\u001b[0m \u001b[39mdef\u001b[39;00m \u001b[39msend_transaction\u001b[39m(\u001b[39mself\u001b[39m, transaction: TxParams) \u001b[39m-\u001b[39m\u001b[39m>\u001b[39m HexBytes:\n\u001b[1;32m--> 363\u001b[0m     \u001b[39mreturn\u001b[39;00m \u001b[39mself\u001b[39m\u001b[39m.\u001b[39m_send_transaction(transaction)\n",
      "File \u001b[1;32mc:\\Users\\teunh\\Anaconda3\\Lib\\site-packages\\web3\\module.py:75\u001b[0m, in \u001b[0;36mretrieve_blocking_method_call_fn.<locals>.caller\u001b[1;34m(*args, **kwargs)\u001b[0m\n\u001b[0;32m     68\u001b[0m     \u001b[39mreturn\u001b[39;00m LogFilter(eth_module\u001b[39m=\u001b[39mmodule, filter_id\u001b[39m=\u001b[39merr\u001b[39m.\u001b[39mfilter_id)\n\u001b[0;32m     70\u001b[0m (\n\u001b[0;32m     71\u001b[0m     result_formatters,\n\u001b[0;32m     72\u001b[0m     error_formatters,\n\u001b[0;32m     73\u001b[0m     null_result_formatters,\n\u001b[0;32m     74\u001b[0m ) \u001b[39m=\u001b[39m response_formatters\n\u001b[1;32m---> 75\u001b[0m result \u001b[39m=\u001b[39m w3\u001b[39m.\u001b[39mmanager\u001b[39m.\u001b[39mrequest_blocking(\n\u001b[0;32m     76\u001b[0m     method_str, params, error_formatters, null_result_formatters\n\u001b[0;32m     77\u001b[0m )\n\u001b[0;32m     78\u001b[0m \u001b[39mreturn\u001b[39;00m apply_result_formatters(result_formatters, result)\n",
      "File \u001b[1;32mc:\\Users\\teunh\\Anaconda3\\Lib\\site-packages\\web3\\manager.py:325\u001b[0m, in \u001b[0;36mRequestManager.request_blocking\u001b[1;34m(self, method, params, error_formatters, null_result_formatters)\u001b[0m\n\u001b[0;32m    321\u001b[0m \u001b[39m\u001b[39m\u001b[39m\"\"\"\u001b[39;00m\n\u001b[0;32m    322\u001b[0m \u001b[39mMake a synchronous request using the provider\u001b[39;00m\n\u001b[0;32m    323\u001b[0m \u001b[39m\"\"\"\u001b[39;00m\n\u001b[0;32m    324\u001b[0m response \u001b[39m=\u001b[39m \u001b[39mself\u001b[39m\u001b[39m.\u001b[39m_make_request(method, params)\n\u001b[1;32m--> 325\u001b[0m \u001b[39mreturn\u001b[39;00m \u001b[39mself\u001b[39m\u001b[39m.\u001b[39mformatted_response(\n\u001b[0;32m    326\u001b[0m     response, params, error_formatters, null_result_formatters\n\u001b[0;32m    327\u001b[0m )\n",
      "File \u001b[1;32mc:\\Users\\teunh\\Anaconda3\\Lib\\site-packages\\web3\\manager.py:288\u001b[0m, in \u001b[0;36mRequestManager.formatted_response\u001b[1;34m(response, params, error_formatters, null_result_formatters)\u001b[0m\n\u001b[0;32m    282\u001b[0m         _raise_bad_response_format(\n\u001b[0;32m    283\u001b[0m             response, \u001b[39m\"\u001b[39m\u001b[39merror[\u001b[39m\u001b[39m'\u001b[39m\u001b[39mmessage\u001b[39m\u001b[39m'\u001b[39m\u001b[39m] must be a string\u001b[39m\u001b[39m\"\u001b[39m\n\u001b[0;32m    284\u001b[0m         )\n\u001b[0;32m    286\u001b[0m     apply_error_formatters(error_formatters, response)\n\u001b[1;32m--> 288\u001b[0m     \u001b[39mraise\u001b[39;00m \u001b[39mValueError\u001b[39;00m(error)\n\u001b[0;32m    290\u001b[0m \u001b[39m# Format and validate results\u001b[39;00m\n\u001b[0;32m    291\u001b[0m \u001b[39melif\u001b[39;00m \u001b[39m\"\u001b[39m\u001b[39mresult\u001b[39m\u001b[39m\"\u001b[39m \u001b[39min\u001b[39;00m response:\n\u001b[0;32m    292\u001b[0m     \u001b[39m# Null values for result should apply null_result_formatters\u001b[39;00m\n\u001b[0;32m    293\u001b[0m     \u001b[39m# Skip when result not present in the response (fallback to False)\u001b[39;00m\n",
      "\u001b[1;31mValueError\u001b[0m: {'message': 'from not found; is required', 'stack': 'Error: from not found; is required\\n    at EthereumApi.eth_sendTransaction (/app/dist/node/1.js:2:87278)\\n    at EthereumApi.n.value (/app/dist/node/1.js:2:238968)\\n    at Object.execute (/app/dist/node/1.js:2:165607)\\n    at RequestCoordinator.<anonymous> (/app/dist/node/1.js:2:165421)\\n    at /app/dist/node/1.js:2:165687\\n    at new Promise (<anonymous>)\\n    at RequestCoordinator.queue (/app/dist/node/1.js:2:165529)\\n    at Executor.execute (/app/dist/node/1.js:2:164094)\\n    at EthereumProvider._requestRaw (/app/dist/node/1.js:2:130922)\\n    at Connector.<anonymous> (/app/dist/node/1.js:2:125410)', 'code': -32700}"
     ]
    }
   ],
   "source": [
    "#Data Requesters Account  \n",
    "test_address15 = accounts[15]\n",
    "#Data Requester 3 (Disease Specific and Non-Profit-Making)\n",
    "tx_hash = Contract.functions.giveHMBPurpose(test_address15, False, False, False, True, False, False).transact()\n",
    "tx_hash = Contract.functions.givePerson(test_address15, False, True, False, False).transact()\n",
    "tx_hash = Contract.functions.giveProfit(test_address15, False, True).transact()"
   ]
  },
  {
   "cell_type": "code",
   "execution_count": 2511,
   "metadata": {},
   "outputs": [
    {
     "name": "stdout",
     "output_type": "stream",
     "text": [
      "elapsedTimeDataRequester15 0:00:00.223179\n"
     ]
    }
   ],
   "source": [
    "endTimeDataRequester15 = datetime.now()\n",
    "elapsedTimeDataRequester15 = endTimeDataRequester15 - startTime15\n",
    "print(\"elapsedTimeDataRequester15\", elapsedTimeDataRequester15)"
   ]
  },
  {
   "cell_type": "code",
   "execution_count": 2512,
   "metadata": {},
   "outputs": [
    {
     "data": {
      "text/plain": [
       "True"
      ]
     },
     "execution_count": 2512,
     "metadata": {},
     "output_type": "execute_result"
    }
   ],
   "source": [
    "Contract.functions.AccessData(test_address0, test_address15).call()"
   ]
  },
  {
   "cell_type": "code",
   "execution_count": 2513,
   "metadata": {},
   "outputs": [
    {
     "name": "stdout",
     "output_type": "stream",
     "text": [
      "elapsedTimeDataRequesterAccessData15 0:00:00.286072\n"
     ]
    }
   ],
   "source": [
    "endTimeDataRequesterAccessData15 = datetime.now()\n",
    "elapsedTimeDataRequesterAccessData15 = endTimeDataRequesterAccessData15 - startTime15\n",
    "print(\"elapsedTimeDataRequesterAccessData15\", elapsedTimeDataRequesterAccessData15)"
   ]
  },
  {
   "cell_type": "code",
   "execution_count": 2514,
   "metadata": {},
   "outputs": [],
   "source": [
    "startTime1 = datetime.now()"
   ]
  },
  {
   "cell_type": "code",
   "execution_count": 2515,
   "metadata": {},
   "outputs": [],
   "source": [
    "#Data provider consent (General research & profit making)\n",
    "#D-002\n",
    "test_address1 = accounts[1]\n",
    "tx_hash = Contract.functions.UploadDataPrimaryCategory(test_address1, False, True, True, True, True).transact()"
   ]
  },
  {
   "cell_type": "code",
   "execution_count": 2516,
   "metadata": {},
   "outputs": [
    {
     "name": "stdout",
     "output_type": "stream",
     "text": [
      "elapsedTimeDataProvider1 0:00:00.083038\n"
     ]
    }
   ],
   "source": [
    "endTimeDataProvider1 = datetime.now()\n",
    "elapsedTimeDataProvider1 = endTimeDataProvider1 - startTime1\n",
    "print(\"elapsedTimeDataProvider1\", elapsedTimeDataProvider1)"
   ]
  },
  {
   "cell_type": "code",
   "execution_count": 2517,
   "metadata": {},
   "outputs": [],
   "source": [
    "startTime1_13 = datetime.now()"
   ]
  },
  {
   "cell_type": "code",
   "execution_count": 2518,
   "metadata": {},
   "outputs": [
    {
     "data": {
      "text/plain": [
       "True"
      ]
     },
     "execution_count": 2518,
     "metadata": {},
     "output_type": "execute_result"
    }
   ],
   "source": [
    "Contract.functions.AccessData(test_address1, test_address13).call()"
   ]
  },
  {
   "cell_type": "code",
   "execution_count": 2519,
   "metadata": {},
   "outputs": [
    {
     "name": "stdout",
     "output_type": "stream",
     "text": [
      "elapsedTimeDataRequesterAccessData1_13 0:00:00.053825\n"
     ]
    }
   ],
   "source": [
    "endTimeDataRequesterAccessData1_13 = datetime.now()\n",
    "elapsedTimeDataRequesterAccessData1_13 = endTimeDataRequesterAccessData1_13 - startTime1_13\n",
    "print(\"elapsedTimeDataRequesterAccessData1_13\", elapsedTimeDataRequesterAccessData1_13)"
   ]
  },
  {
   "cell_type": "code",
   "execution_count": 2520,
   "metadata": {},
   "outputs": [],
   "source": [
    "startTime1_14 = datetime.now()"
   ]
  },
  {
   "cell_type": "code",
   "execution_count": 2521,
   "metadata": {},
   "outputs": [
    {
     "data": {
      "text/plain": [
       "True"
      ]
     },
     "execution_count": 2521,
     "metadata": {},
     "output_type": "execute_result"
    }
   ],
   "source": [
    "Contract.functions.AccessData(test_address1, test_address14).call()"
   ]
  },
  {
   "cell_type": "code",
   "execution_count": 2522,
   "metadata": {},
   "outputs": [
    {
     "name": "stdout",
     "output_type": "stream",
     "text": [
      "elapsedTimeDataRequesterAccessData1_14 0:00:00.044319\n"
     ]
    }
   ],
   "source": [
    "endTimeDataRequesterAccessData1_14 = datetime.now()\n",
    "elapsedTimeDataRequesterAccessData1_14 = endTimeDataRequesterAccessData1_14 - startTime1_14\n",
    "print(\"elapsedTimeDataRequesterAccessData1_14\", elapsedTimeDataRequesterAccessData1_14)"
   ]
  },
  {
   "cell_type": "code",
   "execution_count": 2523,
   "metadata": {},
   "outputs": [],
   "source": [
    "startTime1_15 = datetime.now()"
   ]
  },
  {
   "cell_type": "code",
   "execution_count": 2524,
   "metadata": {},
   "outputs": [
    {
     "data": {
      "text/plain": [
       "True"
      ]
     },
     "execution_count": 2524,
     "metadata": {},
     "output_type": "execute_result"
    }
   ],
   "source": [
    "Contract.functions.AccessData(test_address1, test_address15).call()"
   ]
  },
  {
   "cell_type": "code",
   "execution_count": 2525,
   "metadata": {},
   "outputs": [
    {
     "name": "stdout",
     "output_type": "stream",
     "text": [
      "elapsedTimeDataRequesterAccessData1_15 0:00:00.049678\n"
     ]
    }
   ],
   "source": [
    "endTimeDataRequesterAccessData1_15 = datetime.now()\n",
    "elapsedTimeDataRequesterAccessData1_15 = endTimeDataRequesterAccessData1_15 - startTime1_15\n",
    "print(\"elapsedTimeDataRequesterAccessData1_15\", elapsedTimeDataRequesterAccessData1_15)"
   ]
  },
  {
   "cell_type": "code",
   "execution_count": 2526,
   "metadata": {},
   "outputs": [],
   "source": [
    "#startTime2 = datetime.now()"
   ]
  },
  {
   "cell_type": "code",
   "execution_count": 2527,
   "metadata": {},
   "outputs": [],
   "source": [
    "#Data provider consent (General research & non-profit making)\n",
    "#H-001 \n",
    "test_address2 = accounts[2]\n",
    "\n",
    "tx_hash = Contract.functions.UploadDataPrimaryCategory(test_address2, False, True, False, False, False).transact()\n",
    "tx_hash = Contract.functions.UploadDataRequirements(test_address2, False, True, False, False, False, False, False, False).transact()"
   ]
  },
  {
   "cell_type": "code",
   "execution_count": 2528,
   "metadata": {},
   "outputs": [],
   "source": [
    "#endTimeDataProvider2 = datetime.now()\n",
    "#elapsedTimeDataProvider2 = endTimeDataProvider2 - startTime2\n",
    "#print(\"elapsedTimeDataProvider2\", elapsedTimeDataProvider2)"
   ]
  },
  {
   "cell_type": "code",
   "execution_count": 2529,
   "metadata": {},
   "outputs": [],
   "source": [
    "#startTime2_13 = datetime.now()"
   ]
  },
  {
   "cell_type": "code",
   "execution_count": 2530,
   "metadata": {},
   "outputs": [
    {
     "data": {
      "text/plain": [
       "False"
      ]
     },
     "execution_count": 2530,
     "metadata": {},
     "output_type": "execute_result"
    }
   ],
   "source": [
    "Contract.functions.AccessData(test_address2, test_address13).call()"
   ]
  },
  {
   "cell_type": "code",
   "execution_count": 2531,
   "metadata": {},
   "outputs": [],
   "source": [
    "#endTimeDataRequesterAccessData2_13 = datetime.now()\n",
    "#elapsedTimeDataRequesterAccessData2_13 = endTimeDataRequesterAccessData2_13 - startTime2_13\n",
    "#print(\"elapsedTimeDataRequesterAccessData2_13\", elapsedTimeDataRequesterAccessData2_13)"
   ]
  },
  {
   "cell_type": "code",
   "execution_count": 2532,
   "metadata": {},
   "outputs": [],
   "source": [
    "#startTime2_14 = datetime.now()"
   ]
  },
  {
   "cell_type": "code",
   "execution_count": 2533,
   "metadata": {},
   "outputs": [
    {
     "data": {
      "text/plain": [
       "False"
      ]
     },
     "execution_count": 2533,
     "metadata": {},
     "output_type": "execute_result"
    }
   ],
   "source": [
    "Contract.functions.AccessData(test_address2, test_address14).call()"
   ]
  },
  {
   "cell_type": "code",
   "execution_count": 2534,
   "metadata": {},
   "outputs": [],
   "source": [
    "#endTimeDataRequesterAccessData2_14 = datetime.now()\n",
    "#elapsedTimeDataRequesterAccessData2_14 = endTimeDataRequesterAccessData2_14 - startTime2_14\n",
    "#print(\"elapsedTimeDataRequesterAccessData2_14\", elapsedTimeDataRequesterAccessData2_14)"
   ]
  },
  {
   "cell_type": "code",
   "execution_count": 2535,
   "metadata": {},
   "outputs": [],
   "source": [
    "#startTime2_15 = datetime.now()"
   ]
  },
  {
   "cell_type": "code",
   "execution_count": 2536,
   "metadata": {},
   "outputs": [
    {
     "data": {
      "text/plain": [
       "False"
      ]
     },
     "execution_count": 2536,
     "metadata": {},
     "output_type": "execute_result"
    }
   ],
   "source": [
    "Contract.functions.AccessData(test_address2, test_address15).call()"
   ]
  },
  {
   "cell_type": "code",
   "execution_count": 2537,
   "metadata": {},
   "outputs": [],
   "source": [
    "#endTimeDataRequesterAccessData2_15 = datetime.now()\n",
    "#elapsedTimeDataRequesterAccessData2_15 = endTimeDataRequesterAccessData2_15 - startTime2_15\n",
    "#print(\"elapsedTimeDataRequesterAccessData2_15\", elapsedTimeDataRequesterAccessData2_15)#"
   ]
  },
  {
   "cell_type": "code",
   "execution_count": 2538,
   "metadata": {},
   "outputs": [],
   "source": [
    "#startTime3 = datetime.now()"
   ]
  },
  {
   "cell_type": "code",
   "execution_count": 2539,
   "metadata": {},
   "outputs": [],
   "source": [
    "#Data provider consent (General research & profit making)\n",
    "#H-002 \n",
    "test_address3 = accounts[3]\n",
    "\n",
    "tx_hash = Contract.functions.UploadDataPrimaryCategory(test_address3, False, True, False, False, False).transact()"
   ]
  },
  {
   "cell_type": "code",
   "execution_count": 2540,
   "metadata": {},
   "outputs": [],
   "source": [
    "#endTimeDataProvider3 = datetime.now()\n",
    "#elapsedTimeDataProvider3 = endTimeDataProvider3 - startTime3\n",
    "#print(\"elapsedTimeDataProvider3\", elapsedTimeDataProvider3)"
   ]
  },
  {
   "cell_type": "code",
   "execution_count": 2541,
   "metadata": {},
   "outputs": [],
   "source": [
    "#startTime3_13 = datetime.now()"
   ]
  },
  {
   "cell_type": "code",
   "execution_count": 2542,
   "metadata": {},
   "outputs": [
    {
     "data": {
      "text/plain": [
       "True"
      ]
     },
     "execution_count": 2542,
     "metadata": {},
     "output_type": "execute_result"
    }
   ],
   "source": [
    "Contract.functions.AccessData(test_address3, test_address13).call()"
   ]
  },
  {
   "cell_type": "code",
   "execution_count": 2543,
   "metadata": {},
   "outputs": [],
   "source": [
    "#endTimeDataRequesterAccessData3_13 = datetime.now()\n",
    "#elapsedTimeDataRequesterAccessData3_13 = endTimeDataRequesterAccessData3_13 - startTime3_13\n",
    "#print(\"elapsedTimeDataRequesterAccessData3_13\", elapsedTimeDataRequesterAccessData3_13)"
   ]
  },
  {
   "cell_type": "code",
   "execution_count": 2544,
   "metadata": {},
   "outputs": [],
   "source": [
    "#startTime3_14 = datetime.now()"
   ]
  },
  {
   "cell_type": "code",
   "execution_count": 2545,
   "metadata": {},
   "outputs": [
    {
     "data": {
      "text/plain": [
       "False"
      ]
     },
     "execution_count": 2545,
     "metadata": {},
     "output_type": "execute_result"
    }
   ],
   "source": [
    "Contract.functions.AccessData(test_address3, test_address14).call()"
   ]
  },
  {
   "cell_type": "code",
   "execution_count": 2546,
   "metadata": {},
   "outputs": [],
   "source": [
    "#endTimeDataRequesterAccessData3_14 = datetime.now()\n",
    "#elapsedTimeDataRequesterAccessData3_14 = endTimeDataRequesterAccessData3_14 - startTime3_14\n",
    "#print(\"elapsedTimeDataRequesterAccessData3_14\", elapsedTimeDataRequesterAccessData3_14)"
   ]
  },
  {
   "cell_type": "code",
   "execution_count": 2547,
   "metadata": {},
   "outputs": [],
   "source": [
    "#startTime3_15 = datetime.now()"
   ]
  },
  {
   "cell_type": "code",
   "execution_count": 2548,
   "metadata": {},
   "outputs": [
    {
     "data": {
      "text/plain": [
       "False"
      ]
     },
     "execution_count": 2548,
     "metadata": {},
     "output_type": "execute_result"
    }
   ],
   "source": [
    "Contract.functions.AccessData(test_address3, test_address15).call()"
   ]
  },
  {
   "cell_type": "code",
   "execution_count": 2549,
   "metadata": {},
   "outputs": [],
   "source": [
    "#endTimeDataRequesterAccessData3_15 = datetime.now()\n",
    "#elapsedTimeDataRequesterAccessData3_15 = endTimeDataRequesterAccessData3_15 - startTime3_15\n",
    "#print(\"elapsedTimeDataRequesterAccessData3_15\", elapsedTimeDataRequesterAccessData3_15)"
   ]
  },
  {
   "cell_type": "code",
   "execution_count": 2550,
   "metadata": {},
   "outputs": [],
   "source": [
    "#startTime4 = datetime.now()"
   ]
  },
  {
   "cell_type": "code",
   "execution_count": 2551,
   "metadata": {},
   "outputs": [],
   "source": [
    "#Data provider consent (HMB research & non-profit making)\n",
    "#D-003 \n",
    "test_address4 = accounts[4]\n",
    "\n",
    "tx_hash = Contract.functions.UploadDataPrimaryCategory(test_address4, False, False, True, False, True).transact()\n",
    "tx_hash = Contract.functions.UploadDataRequirements(test_address4, False, True, False, False, False, False, False, False).transact()"
   ]
  },
  {
   "cell_type": "code",
   "execution_count": 2552,
   "metadata": {},
   "outputs": [],
   "source": [
    "#endTimeDataProvider4 = datetime.now()\n",
    "#elapsedTimeDataProvider4 = endTimeDataProvider4 - startTime4\n",
    "#print(\"elapsedTimeDataProvider4\", elapsedTimeDataProvider4)"
   ]
  },
  {
   "cell_type": "code",
   "execution_count": 2553,
   "metadata": {},
   "outputs": [],
   "source": [
    "#startTime4_13 = datetime.now()"
   ]
  },
  {
   "cell_type": "code",
   "execution_count": 2554,
   "metadata": {},
   "outputs": [
    {
     "data": {
      "text/plain": [
       "False"
      ]
     },
     "execution_count": 2554,
     "metadata": {},
     "output_type": "execute_result"
    }
   ],
   "source": [
    "Contract.functions.AccessData(test_address4, test_address13).call()"
   ]
  },
  {
   "cell_type": "code",
   "execution_count": 2555,
   "metadata": {},
   "outputs": [],
   "source": [
    "#endTimeDataRequesterAccessData4_13 = datetime.now()\n",
    "#elapsedTimeDataRequesterAccessData4_13 = endTimeDataRequesterAccessData4_13 - startTime4_13\n",
    "#print(\"elapsedTimeDataRequesterAccessData4_13\", elapsedTimeDataRequesterAccessData4_13)"
   ]
  },
  {
   "cell_type": "code",
   "execution_count": 2556,
   "metadata": {},
   "outputs": [],
   "source": [
    "#startTime4_14 = datetime.now()"
   ]
  },
  {
   "cell_type": "code",
   "execution_count": 2557,
   "metadata": {},
   "outputs": [
    {
     "data": {
      "text/plain": [
       "False"
      ]
     },
     "execution_count": 2557,
     "metadata": {},
     "output_type": "execute_result"
    }
   ],
   "source": [
    "Contract.functions.AccessData(test_address4, test_address14).call()"
   ]
  },
  {
   "cell_type": "code",
   "execution_count": 2558,
   "metadata": {},
   "outputs": [],
   "source": [
    "#endTimeDataRequesterAccessData4_14 = datetime.now()\n",
    "#elapsedTimeDataRequesterAccessData4_14 = endTimeDataRequesterAccessData4_14 - startTime4_14\n",
    "#print(\"elapsedTimeDataRequesterAccessData4_14\", elapsedTimeDataRequesterAccessData4_14)"
   ]
  },
  {
   "cell_type": "code",
   "execution_count": 2559,
   "metadata": {},
   "outputs": [],
   "source": [
    "#startTime4_15 = datetime.now()"
   ]
  },
  {
   "cell_type": "code",
   "execution_count": 2560,
   "metadata": {},
   "outputs": [
    {
     "data": {
      "text/plain": [
       "True"
      ]
     },
     "execution_count": 2560,
     "metadata": {},
     "output_type": "execute_result"
    }
   ],
   "source": [
    "Contract.functions.AccessData(test_address4, test_address15).call()"
   ]
  },
  {
   "cell_type": "code",
   "execution_count": 2561,
   "metadata": {},
   "outputs": [],
   "source": [
    "#endTimeDataRequesterAccessData4_15 = datetime.now()\n",
    "#elapsedTimeDataRequesterAccessData4_15 = endTimeDataRequesterAccessData4_15 - startTime4_15\n",
    "#print(\"elapsedTimeDataRequesterAccessData4_15\", elapsedTimeDataRequesterAccessData4_15)"
   ]
  },
  {
   "cell_type": "code",
   "execution_count": 2562,
   "metadata": {},
   "outputs": [],
   "source": [
    "startTime5 = datetime.now()"
   ]
  },
  {
   "cell_type": "code",
   "execution_count": 2563,
   "metadata": {},
   "outputs": [],
   "source": [
    "#Data provider consent (HMB research & profit making)\n",
    "#D-004 \n",
    "test_address5 = accounts[5]\n",
    "\n",
    "tx_hash = Contract.functions.UploadDataPrimaryCategory(test_address5, False, False, True, False, True).transact()"
   ]
  },
  {
   "cell_type": "code",
   "execution_count": 2564,
   "metadata": {},
   "outputs": [
    {
     "name": "stdout",
     "output_type": "stream",
     "text": [
      "elapsedTimeDataProvider5 0:00:00.068086\n"
     ]
    }
   ],
   "source": [
    "endTimeDataProvider5 = datetime.now()\n",
    "elapsedTimeDataProvider5 = endTimeDataProvider5 - startTime5\n",
    "print(\"elapsedTimeDataProvider5\", elapsedTimeDataProvider5)"
   ]
  },
  {
   "cell_type": "code",
   "execution_count": 2565,
   "metadata": {},
   "outputs": [],
   "source": [
    "startTime5_13 = datetime.now()"
   ]
  },
  {
   "cell_type": "code",
   "execution_count": 2566,
   "metadata": {},
   "outputs": [
    {
     "data": {
      "text/plain": [
       "False"
      ]
     },
     "execution_count": 2566,
     "metadata": {},
     "output_type": "execute_result"
    }
   ],
   "source": [
    "Contract.functions.AccessData(test_address5, test_address13).call()"
   ]
  },
  {
   "cell_type": "code",
   "execution_count": 2567,
   "metadata": {},
   "outputs": [
    {
     "name": "stdout",
     "output_type": "stream",
     "text": [
      "elapsedTimeDataRequesterAccessData5_13 0:00:00.030761\n"
     ]
    }
   ],
   "source": [
    "endTimeDataRequesterAccessData5_13 = datetime.now()\n",
    "elapsedTimeDataRequesterAccessData5_13 = endTimeDataRequesterAccessData5_13 - startTime5_13\n",
    "print(\"elapsedTimeDataRequesterAccessData5_13\", elapsedTimeDataRequesterAccessData5_13)"
   ]
  },
  {
   "cell_type": "code",
   "execution_count": 2568,
   "metadata": {},
   "outputs": [],
   "source": [
    "startTime5_14 = datetime.now()"
   ]
  },
  {
   "cell_type": "code",
   "execution_count": 2569,
   "metadata": {},
   "outputs": [
    {
     "data": {
      "text/plain": [
       "True"
      ]
     },
     "execution_count": 2569,
     "metadata": {},
     "output_type": "execute_result"
    }
   ],
   "source": [
    "Contract.functions.AccessData(test_address5, test_address14).call()"
   ]
  },
  {
   "cell_type": "code",
   "execution_count": 2570,
   "metadata": {},
   "outputs": [
    {
     "name": "stdout",
     "output_type": "stream",
     "text": [
      "elapsedTimeDataRequesterAccessData5_14 0:00:00.049857\n"
     ]
    }
   ],
   "source": [
    "endTimeDataRequesterAccessData5_14 = datetime.now()\n",
    "elapsedTimeDataRequesterAccessData5_14 = endTimeDataRequesterAccessData5_14 - startTime5_14\n",
    "print(\"elapsedTimeDataRequesterAccessData5_14\", elapsedTimeDataRequesterAccessData5_14)"
   ]
  },
  {
   "cell_type": "code",
   "execution_count": 2571,
   "metadata": {},
   "outputs": [],
   "source": [
    "startTime5_15 = datetime.now()"
   ]
  },
  {
   "cell_type": "code",
   "execution_count": 2572,
   "metadata": {},
   "outputs": [
    {
     "data": {
      "text/plain": [
       "True"
      ]
     },
     "execution_count": 2572,
     "metadata": {},
     "output_type": "execute_result"
    }
   ],
   "source": [
    "Contract.functions.AccessData(test_address5, test_address15).call()"
   ]
  },
  {
   "cell_type": "code",
   "execution_count": 2573,
   "metadata": {},
   "outputs": [
    {
     "name": "stdout",
     "output_type": "stream",
     "text": [
      "elapsedTimeDataRequesterAccessData5_15 0:00:00.043902\n"
     ]
    }
   ],
   "source": [
    "endTimeDataRequesterAccessData5_15 = datetime.now()\n",
    "elapsedTimeDataRequesterAccessData5_15 = endTimeDataRequesterAccessData5_15 - startTime5_15\n",
    "print(\"elapsedTimeDataRequesterAccessData5_15\", elapsedTimeDataRequesterAccessData5_15)"
   ]
  },
  {
   "cell_type": "code",
   "execution_count": 2574,
   "metadata": {},
   "outputs": [],
   "source": [
    "#Data provider consent (HMB research & non-profit making)\n",
    "#H-003 \n",
    "test_address6 = accounts[6]\n",
    "\n",
    "tx_hash = Contract.functions.UploadDataPrimaryCategory(test_address6, False, False, True, False, False).transact()\n",
    "tx_hash = Contract.functions.UploadDataRequirements(test_address6, False, True, False, False, False, False, False, False).transact()"
   ]
  },
  {
   "cell_type": "code",
   "execution_count": 2575,
   "metadata": {},
   "outputs": [
    {
     "data": {
      "text/plain": [
       "False"
      ]
     },
     "execution_count": 2575,
     "metadata": {},
     "output_type": "execute_result"
    }
   ],
   "source": [
    "Contract.functions.AccessData(test_address6, test_address13).call()"
   ]
  },
  {
   "cell_type": "code",
   "execution_count": 2576,
   "metadata": {},
   "outputs": [
    {
     "data": {
      "text/plain": [
       "False"
      ]
     },
     "execution_count": 2576,
     "metadata": {},
     "output_type": "execute_result"
    }
   ],
   "source": [
    "Contract.functions.AccessData(test_address6, test_address14).call()"
   ]
  },
  {
   "cell_type": "code",
   "execution_count": 2577,
   "metadata": {},
   "outputs": [
    {
     "data": {
      "text/plain": [
       "False"
      ]
     },
     "execution_count": 2577,
     "metadata": {},
     "output_type": "execute_result"
    }
   ],
   "source": [
    "Contract.functions.AccessData(test_address6, test_address15).call()"
   ]
  },
  {
   "cell_type": "code",
   "execution_count": 2578,
   "metadata": {},
   "outputs": [],
   "source": [
    "#Data provider consent (HMB research & profit making)\n",
    "#H-004 \n",
    "test_address7 = accounts[7]\n",
    "\n",
    "tx_hash = Contract.functions.UploadDataPrimaryCategory(test_address7, False, False, True, False, False).transact()"
   ]
  },
  {
   "cell_type": "code",
   "execution_count": 2579,
   "metadata": {},
   "outputs": [
    {
     "data": {
      "text/plain": [
       "False"
      ]
     },
     "execution_count": 2579,
     "metadata": {},
     "output_type": "execute_result"
    }
   ],
   "source": [
    "Contract.functions.AccessData(test_address7, test_address13).call()"
   ]
  },
  {
   "cell_type": "code",
   "execution_count": 2580,
   "metadata": {},
   "outputs": [
    {
     "data": {
      "text/plain": [
       "True"
      ]
     },
     "execution_count": 2580,
     "metadata": {},
     "output_type": "execute_result"
    }
   ],
   "source": [
    "Contract.functions.AccessData(test_address7, test_address14).call()"
   ]
  },
  {
   "cell_type": "code",
   "execution_count": 2581,
   "metadata": {},
   "outputs": [
    {
     "data": {
      "text/plain": [
       "False"
      ]
     },
     "execution_count": 2581,
     "metadata": {},
     "output_type": "execute_result"
    }
   ],
   "source": [
    "Contract.functions.AccessData(test_address7, test_address15).call()"
   ]
  },
  {
   "cell_type": "code",
   "execution_count": 2582,
   "metadata": {},
   "outputs": [],
   "source": [
    "startTime8 = datetime.now()"
   ]
  },
  {
   "cell_type": "code",
   "execution_count": 2583,
   "metadata": {},
   "outputs": [],
   "source": [
    "#Data provider consent (Disease-specific research & non-profit making)\n",
    "#D-005 \n",
    "test_address8 = accounts[8]\n",
    "\n",
    "tx_hash = Contract.functions.UploadDataPrimaryCategory(test_address8, False, False, False, False, True).transact()\n",
    "tx_hash = Contract.functions.UploadDataRequirements(test_address8, False, True, False, False, False, False, False, False).transact()"
   ]
  },
  {
   "cell_type": "code",
   "execution_count": 2584,
   "metadata": {},
   "outputs": [
    {
     "name": "stdout",
     "output_type": "stream",
     "text": [
      "elapsedTimeDataProvider8 0:00:00.150563\n"
     ]
    }
   ],
   "source": [
    "endTimeDataProvider8 = datetime.now()\n",
    "elapsedTimeDataProvider8 = endTimeDataProvider8 - startTime8\n",
    "print(\"elapsedTimeDataProvider8\", elapsedTimeDataProvider8)"
   ]
  },
  {
   "cell_type": "code",
   "execution_count": 2585,
   "metadata": {},
   "outputs": [],
   "source": [
    "startTime8_13 = datetime.now()"
   ]
  },
  {
   "cell_type": "code",
   "execution_count": 2586,
   "metadata": {},
   "outputs": [
    {
     "data": {
      "text/plain": [
       "False"
      ]
     },
     "execution_count": 2586,
     "metadata": {},
     "output_type": "execute_result"
    }
   ],
   "source": [
    "Contract.functions.AccessData(test_address8, test_address13).call()"
   ]
  },
  {
   "cell_type": "code",
   "execution_count": 2587,
   "metadata": {},
   "outputs": [
    {
     "name": "stdout",
     "output_type": "stream",
     "text": [
      "elapsedTimeDataRequesterAccessData8_13 0:00:00.028084\n"
     ]
    }
   ],
   "source": [
    "endTimeDataRequesterAccessData8_13 = datetime.now()\n",
    "elapsedTimeDataRequesterAccessData8_13 = endTimeDataRequesterAccessData8_13 - startTime8_13\n",
    "print(\"elapsedTimeDataRequesterAccessData8_13\", elapsedTimeDataRequesterAccessData8_13)"
   ]
  },
  {
   "cell_type": "code",
   "execution_count": 2588,
   "metadata": {},
   "outputs": [],
   "source": [
    "startTime8_14 = datetime.now()"
   ]
  },
  {
   "cell_type": "code",
   "execution_count": 2589,
   "metadata": {},
   "outputs": [
    {
     "data": {
      "text/plain": [
       "False"
      ]
     },
     "execution_count": 2589,
     "metadata": {},
     "output_type": "execute_result"
    }
   ],
   "source": [
    "Contract.functions.AccessData(test_address8, test_address14).call()"
   ]
  },
  {
   "cell_type": "code",
   "execution_count": 2590,
   "metadata": {},
   "outputs": [
    {
     "name": "stdout",
     "output_type": "stream",
     "text": [
      "elapsedTimeDataRequesterAccessData8_14 0:00:00.043044\n"
     ]
    }
   ],
   "source": [
    "endTimeDataRequesterAccessData8_14 = datetime.now()\n",
    "elapsedTimeDataRequesterAccessData8_14 = endTimeDataRequesterAccessData8_14 - startTime8_14\n",
    "print(\"elapsedTimeDataRequesterAccessData8_14\", elapsedTimeDataRequesterAccessData8_14)"
   ]
  },
  {
   "cell_type": "code",
   "execution_count": 2591,
   "metadata": {},
   "outputs": [],
   "source": [
    "startTime8_15 = datetime.now()"
   ]
  },
  {
   "cell_type": "code",
   "execution_count": 2592,
   "metadata": {},
   "outputs": [
    {
     "data": {
      "text/plain": [
       "True"
      ]
     },
     "execution_count": 2592,
     "metadata": {},
     "output_type": "execute_result"
    }
   ],
   "source": [
    "Contract.functions.AccessData(test_address8, test_address15).call()"
   ]
  },
  {
   "cell_type": "code",
   "execution_count": 2593,
   "metadata": {},
   "outputs": [
    {
     "name": "stdout",
     "output_type": "stream",
     "text": [
      "elapsedTimeDataRequesterAccessData8_15 0:00:00.053568\n"
     ]
    }
   ],
   "source": [
    "endTimeDataRequesterAccessData8_15 = datetime.now()\n",
    "elapsedTimeDataRequesterAccessData8_15 = endTimeDataRequesterAccessData8_15 - startTime8_15\n",
    "print(\"elapsedTimeDataRequesterAccessData8_15\", elapsedTimeDataRequesterAccessData8_15)"
   ]
  },
  {
   "cell_type": "code",
   "execution_count": 2594,
   "metadata": {},
   "outputs": [],
   "source": [
    "#Data provider consent (Disease-specific research & profit making)\n",
    "# D-006 \n",
    "test_address9 = accounts[9]\n",
    "\n",
    "tx_hash = Contract.functions.UploadDataPrimaryCategory(test_address9, False, False, False, False, True).transact()"
   ]
  },
  {
   "cell_type": "code",
   "execution_count": 2595,
   "metadata": {},
   "outputs": [
    {
     "data": {
      "text/plain": [
       "False"
      ]
     },
     "execution_count": 2595,
     "metadata": {},
     "output_type": "execute_result"
    }
   ],
   "source": [
    "Contract.functions.AccessData(test_address9, test_address13).call()"
   ]
  },
  {
   "cell_type": "code",
   "execution_count": 2596,
   "metadata": {},
   "outputs": [
    {
     "data": {
      "text/plain": [
       "False"
      ]
     },
     "execution_count": 2596,
     "metadata": {},
     "output_type": "execute_result"
    }
   ],
   "source": [
    "Contract.functions.AccessData(test_address9, test_address14).call()"
   ]
  },
  {
   "cell_type": "code",
   "execution_count": 2597,
   "metadata": {},
   "outputs": [
    {
     "data": {
      "text/plain": [
       "True"
      ]
     },
     "execution_count": 2597,
     "metadata": {},
     "output_type": "execute_result"
    }
   ],
   "source": [
    "Contract.functions.AccessData(test_address9, test_address15).call()"
   ]
  },
  {
   "cell_type": "code",
   "execution_count": 2598,
   "metadata": {},
   "outputs": [],
   "source": [
    "#Data provider consent (Disease-specific research & non-profit making)\n",
    "#H-005 \n",
    "test_address10 = accounts[10]\n",
    "\n",
    "tx_hash = Contract.functions.UploadDataPrimaryCategory(test_address10, False, False, False, False, False).transact()\n",
    "tx_hash = Contract.functions.UploadDataRequirements(test_address10, False, True, False, False, False, False, False, False).transact()"
   ]
  },
  {
   "cell_type": "code",
   "execution_count": 2599,
   "metadata": {},
   "outputs": [
    {
     "data": {
      "text/plain": [
       "False"
      ]
     },
     "execution_count": 2599,
     "metadata": {},
     "output_type": "execute_result"
    }
   ],
   "source": [
    "Contract.functions.AccessData(test_address10, test_address13).call()"
   ]
  },
  {
   "cell_type": "code",
   "execution_count": 2600,
   "metadata": {},
   "outputs": [
    {
     "data": {
      "text/plain": [
       "False"
      ]
     },
     "execution_count": 2600,
     "metadata": {},
     "output_type": "execute_result"
    }
   ],
   "source": [
    "Contract.functions.AccessData(test_address10, test_address14).call()"
   ]
  },
  {
   "cell_type": "code",
   "execution_count": 2601,
   "metadata": {},
   "outputs": [
    {
     "data": {
      "text/plain": [
       "False"
      ]
     },
     "execution_count": 2601,
     "metadata": {},
     "output_type": "execute_result"
    }
   ],
   "source": [
    "Contract.functions.AccessData(test_address10, test_address15).call()"
   ]
  },
  {
   "cell_type": "code",
   "execution_count": 2602,
   "metadata": {},
   "outputs": [],
   "source": [
    "#Data provider consent (Disease-specific research & profit making)\n",
    "#H-006 \n",
    "test_address11 = accounts[11]\n",
    "\n",
    "tx_hash = Contract.functions.UploadDataPrimaryCategory(test_address11, False, False, False, False, False).transact()"
   ]
  },
  {
   "cell_type": "code",
   "execution_count": 2603,
   "metadata": {},
   "outputs": [
    {
     "data": {
      "text/plain": [
       "False"
      ]
     },
     "execution_count": 2603,
     "metadata": {},
     "output_type": "execute_result"
    }
   ],
   "source": [
    "Contract.functions.AccessData(test_address11, test_address13).call()"
   ]
  },
  {
   "cell_type": "code",
   "execution_count": 2604,
   "metadata": {},
   "outputs": [
    {
     "data": {
      "text/plain": [
       "False"
      ]
     },
     "execution_count": 2604,
     "metadata": {},
     "output_type": "execute_result"
    }
   ],
   "source": [
    "Contract.functions.AccessData(test_address11, test_address14).call()"
   ]
  },
  {
   "cell_type": "code",
   "execution_count": 2605,
   "metadata": {},
   "outputs": [
    {
     "data": {
      "text/plain": [
       "False"
      ]
     },
     "execution_count": 2605,
     "metadata": {},
     "output_type": "execute_result"
    }
   ],
   "source": [
    "Contract.functions.AccessData(test_address11, test_address15).call()"
   ]
  },
  {
   "cell_type": "code",
   "execution_count": 2606,
   "metadata": {},
   "outputs": [
    {
     "name": "stdout",
     "output_type": "stream",
     "text": [
      "elapsedTime1 0:00:03.706441\n"
     ]
    }
   ],
   "source": [
    "endTime1 = datetime.now()\n",
    "elapsedTime1 = endTime1 - startTime\n",
    "print(\"elapsedTime1\", elapsedTime1)"
   ]
  },
  {
   "cell_type": "code",
   "execution_count": 2607,
   "metadata": {},
   "outputs": [],
   "source": [
    "#print(\"Gas\", Contract.functions.UploadDataPrimaryCategory(test_address0, False, True, True, True, True).estimateGas())print(\"Gas\", Contract.functions.UploadDataPrimaryCategory(test_address0, False, True, True, True, True).estimateGas())\n",
    "#print(\"Gas\", Contract.functions.UploadDataPrimaryCategory(test_address8, False, False, False, False, True).estimateGas())\n",
    "#print(\"Gas\", Contract.functions.UploadDataRequirements(test_address0, False, True, False, False, False, False, False, False).estimateGas())\n",
    "#print(\"Gas\", Contract.functions.giveResearchPurpose(test_address13, True, True, False, False, False).estimateGas())\n",
    "#print(\"Gas\", Contract.functions.givePerson(test_address13, True, False, True, False).estimateGas())\n",
    "#print(\"Gas\", Contract.functions.giveProfit(test_address13, True, False).estimateGas())\n",
    "#print(\"Gas\", Contract.functions.AccessData(test_address1, test_address13).estimateGas())\n",
    "#print(\"Gas\", Contract.functions.AccessData(test_address1, test_address14).estimateGas())\n",
    "#print(\"Gas\", Contract.functions.AccessData(test_address1, test_address15).estimateGas())"
   ]
  }
 ],
 "metadata": {
  "hide_input": false,
  "kernel_info": {
   "name": "python3"
  },
  "kernelspec": {
   "display_name": "Python 3",
   "language": "python",
   "name": "python3"
  },
  "language_info": {
   "codemirror_mode": {
    "name": "ipython",
    "version": 3
   },
   "file_extension": ".py",
   "mimetype": "text/x-python",
   "name": "python",
   "nbconvert_exporter": "python",
   "pygments_lexer": "ipython3",
   "version": "3.11.5"
  },
  "nteract": {
   "version": "0.14.3"
  },
  "toc": {
   "base_numbering": 1,
   "nav_menu": {},
   "number_sections": false,
   "sideBar": true,
   "skip_h1_title": false,
   "title_cell": "Table of Contents",
   "title_sidebar": "Contents",
   "toc_cell": false,
   "toc_position": {
    "height": "618px",
    "left": "214px",
    "top": "110px",
    "width": "288px"
   },
   "toc_section_display": true,
   "toc_window_display": true
  },
  "varInspector": {
   "cols": {
    "lenName": 16,
    "lenType": 16,
    "lenVar": 40
   },
   "kernels_config": {
    "python": {
     "delete_cmd_postfix": "",
     "delete_cmd_prefix": "del ",
     "library": "var_list.py",
     "varRefreshCmd": "print(var_dic_list())"
    },
    "r": {
     "delete_cmd_postfix": ") ",
     "delete_cmd_prefix": "rm(",
     "library": "var_list.r",
     "varRefreshCmd": "cat(var_dic_list()) "
    }
   },
   "types_to_exclude": [
    "module",
    "function",
    "builtin_function_or_method",
    "instance",
    "_Feature"
   ],
   "window_display": false
  }
 },
 "nbformat": 4,
 "nbformat_minor": 2
}
