{
 "cells": [
  {
   "cell_type": "code",
   "execution_count": 1,
   "metadata": {},
   "outputs": [
    {
     "data": {
      "text/plain": [
       "'c:\\\\Users\\\\teunh\\\\Anaconda3\\\\python.exe'"
      ]
     },
     "execution_count": 1,
     "metadata": {},
     "output_type": "execute_result"
    }
   ],
   "source": [
    "# Check that correct python kernel is running in Notebook\n",
    "import sys\n",
    "sys.executable\n",
    "#sys.prefix"
   ]
  },
  {
   "cell_type": "code",
   "execution_count": 2,
   "metadata": {},
   "outputs": [
    {
     "name": "stdout",
     "output_type": "stream",
     "text": [
      "Requirement already satisfied: web3 in c:\\users\\teunh\\anaconda3\\lib\\site-packages (6.11.4)\n",
      "Requirement already satisfied: aiohttp>=3.7.4.post0 in c:\\users\\teunh\\anaconda3\\lib\\site-packages (from web3) (3.8.5)\n",
      "Requirement already satisfied: eth-abi>=4.0.0 in c:\\users\\teunh\\anaconda3\\lib\\site-packages (from web3) (4.2.1)\n",
      "Requirement already satisfied: eth-account>=0.8.0 in c:\\users\\teunh\\anaconda3\\lib\\site-packages (from web3) (0.10.0)\n",
      "Requirement already satisfied: eth-hash[pycryptodome]>=0.5.1 in c:\\users\\teunh\\anaconda3\\lib\\site-packages (from web3) (0.5.2)\n",
      "Requirement already satisfied: eth-typing>=3.0.0 in c:\\users\\teunh\\anaconda3\\lib\\site-packages (from web3) (3.5.2)\n",
      "Requirement already satisfied: eth-utils>=2.1.0 in c:\\users\\teunh\\anaconda3\\lib\\site-packages (from web3) (2.3.1)\n",
      "Requirement already satisfied: hexbytes<0.4.0,>=0.1.0 in c:\\users\\teunh\\anaconda3\\lib\\site-packages (from web3) (0.3.1)\n",
      "Requirement already satisfied: jsonschema>=4.0.0 in c:\\users\\teunh\\anaconda3\\lib\\site-packages (from web3) (4.17.3)\n",
      "Requirement already satisfied: lru-dict<1.3.0,>=1.1.6 in c:\\users\\teunh\\anaconda3\\lib\\site-packages (from web3) (1.2.0)\n",
      "Requirement already satisfied: protobuf>=4.21.6 in c:\\users\\teunh\\anaconda3\\lib\\site-packages (from web3) (4.25.1)\n",
      "Requirement already satisfied: requests>=2.16.0 in c:\\users\\teunh\\anaconda3\\lib\\site-packages (from web3) (2.31.0)\n",
      "Requirement already satisfied: typing-extensions>=4.0.1 in c:\\users\\teunh\\anaconda3\\lib\\site-packages (from web3) (4.7.1)\n",
      "Requirement already satisfied: websockets>=10.0.0 in c:\\users\\teunh\\anaconda3\\lib\\site-packages (from web3) (12.0)\n",
      "Requirement already satisfied: pyunormalize>=15.0.0 in c:\\users\\teunh\\anaconda3\\lib\\site-packages (from web3) (15.1.0)\n",
      "Requirement already satisfied: pywin32>=223 in c:\\users\\teunh\\anaconda3\\lib\\site-packages (from web3) (305.1)\n",
      "Requirement already satisfied: attrs>=17.3.0 in c:\\users\\teunh\\anaconda3\\lib\\site-packages (from aiohttp>=3.7.4.post0->web3) (22.1.0)\n",
      "Requirement already satisfied: charset-normalizer<4.0,>=2.0 in c:\\users\\teunh\\anaconda3\\lib\\site-packages (from aiohttp>=3.7.4.post0->web3) (2.0.4)\n",
      "Requirement already satisfied: multidict<7.0,>=4.5 in c:\\users\\teunh\\anaconda3\\lib\\site-packages (from aiohttp>=3.7.4.post0->web3) (6.0.2)\n",
      "Requirement already satisfied: async-timeout<5.0,>=4.0.0a3 in c:\\users\\teunh\\anaconda3\\lib\\site-packages (from aiohttp>=3.7.4.post0->web3) (4.0.2)\n",
      "Requirement already satisfied: yarl<2.0,>=1.0 in c:\\users\\teunh\\anaconda3\\lib\\site-packages (from aiohttp>=3.7.4.post0->web3) (1.8.1)\n",
      "Requirement already satisfied: frozenlist>=1.1.1 in c:\\users\\teunh\\anaconda3\\lib\\site-packages (from aiohttp>=3.7.4.post0->web3) (1.3.3)\n",
      "Requirement already satisfied: aiosignal>=1.1.2 in c:\\users\\teunh\\anaconda3\\lib\\site-packages (from aiohttp>=3.7.4.post0->web3) (1.2.0)\n",
      "Requirement already satisfied: parsimonious<0.10.0,>=0.9.0 in c:\\users\\teunh\\anaconda3\\lib\\site-packages (from eth-abi>=4.0.0->web3) (0.9.0)\n",
      "Requirement already satisfied: bitarray>=2.4.0 in c:\\users\\teunh\\anaconda3\\lib\\site-packages (from eth-account>=0.8.0->web3) (2.8.4)\n",
      "Requirement already satisfied: eth-keyfile>=0.6.0 in c:\\users\\teunh\\anaconda3\\lib\\site-packages (from eth-account>=0.8.0->web3) (0.6.1)\n",
      "Requirement already satisfied: eth-keys>=0.4.0 in c:\\users\\teunh\\anaconda3\\lib\\site-packages (from eth-account>=0.8.0->web3) (0.4.0)\n",
      "Requirement already satisfied: eth-rlp>=0.3.0 in c:\\users\\teunh\\anaconda3\\lib\\site-packages (from eth-account>=0.8.0->web3) (0.3.0)\n",
      "Requirement already satisfied: rlp>=1.0.0 in c:\\users\\teunh\\anaconda3\\lib\\site-packages (from eth-account>=0.8.0->web3) (3.0.0)\n",
      "Requirement already satisfied: pycryptodome<4,>=3.6.6 in c:\\users\\teunh\\anaconda3\\lib\\site-packages (from eth-hash[pycryptodome]>=0.5.1->web3) (3.19.0)\n",
      "Requirement already satisfied: cytoolz>=0.10.1 in c:\\users\\teunh\\anaconda3\\lib\\site-packages (from eth-utils>=2.1.0->web3) (0.12.0)\n",
      "Requirement already satisfied: pyrsistent!=0.17.0,!=0.17.1,!=0.17.2,>=0.14.0 in c:\\users\\teunh\\anaconda3\\lib\\site-packages (from jsonschema>=4.0.0->web3) (0.18.0)\n",
      "Requirement already satisfied: idna<4,>=2.5 in c:\\users\\teunh\\anaconda3\\lib\\site-packages (from requests>=2.16.0->web3) (3.4)\n",
      "Requirement already satisfied: urllib3<3,>=1.21.1 in c:\\users\\teunh\\anaconda3\\lib\\site-packages (from requests>=2.16.0->web3) (1.26.16)\n",
      "Requirement already satisfied: certifi>=2017.4.17 in c:\\users\\teunh\\anaconda3\\lib\\site-packages (from requests>=2.16.0->web3) (2023.7.22)\n",
      "Requirement already satisfied: toolz>=0.8.0 in c:\\users\\teunh\\anaconda3\\lib\\site-packages (from cytoolz>=0.10.1->eth-utils>=2.1.0->web3) (0.12.0)\n",
      "Requirement already satisfied: regex>=2022.3.15 in c:\\users\\teunh\\anaconda3\\lib\\site-packages (from parsimonious<0.10.0,>=0.9.0->eth-abi>=4.0.0->web3) (2022.7.9)\n"
     ]
    }
   ],
   "source": [
    "#import all important libraries\n",
    "# Install Python Web3 package\n",
    "!{sys.executable} -m pip install web3"
   ]
  },
  {
   "cell_type": "markdown",
   "metadata": {},
   "source": [
    "The contract was deployed in Remix, using the ganache connection, these were the hashes found."
   ]
  },
  {
   "cell_type": "code",
   "execution_count": 89,
   "metadata": {},
   "outputs": [],
   "source": [
    "import time\n",
    "from web3 import Web3, HTTPProvider\n",
    "\n",
    "# Contract address from Ganache\n",
    "contract_address     = \"0x36Bc8DFf346294BAC79d3C6D353efabCaeB98a2B\"\n",
    "contract_address_cs = Web3.to_checksum_address(contract_address)\n",
    "# Private key obtained via Metamask\n",
    "wallet_private_key   = \"0x45c758ee44303da19bb2f4b24992b0969f9c8d9e2c559cb4c1f66f20432709fc\"\n",
    "\n",
    "# Wallet address from Metamask\n",
    "wallet_address       = \"0x89EfbC7394888D9aD1faB5Dd4cb6a6c492EeA543\"\n",
    "\n",
    "# Ganache Connection\n",
    "w3 = Web3(Web3.HTTPProvider(\"HTTP://127.0.0.1:7545\"))\n"
   ]
  },
  {
   "cell_type": "code",
   "execution_count": 90,
   "metadata": {},
   "outputs": [
    {
     "data": {
      "text/plain": [
       "AttributeDict({'hash': HexBytes('0x108506f40adc7efeb8cee04dc3c09ce89e85ae4f78c85c0e18d8e36d8458c360'),\n",
       " 'parentHash': HexBytes('0xe2201d39da8d0629db39514caff7e88f7e170bb6c8564f6cedee9cf1c73543f1'),\n",
       " 'sha3Uncles': HexBytes('0x1dcc4de8dec75d7aab85b567b6ccd41ad312451b948a7413f0a142fd40d49347'),\n",
       " 'miner': '0x0000000000000000000000000000000000000000',\n",
       " 'stateRoot': HexBytes('0x9ef7c9f079e1987e3f17602cc2139145c4fa3294bca20c4fcb71ce5dea7ed27e'),\n",
       " 'transactionsRoot': HexBytes('0xc01777a75616da792ba04a2deac5b50b678f7e5851d48d3a76ba966397ecf65a'),\n",
       " 'receiptsRoot': HexBytes('0x001028c5dbb657b485ed034baaa0fc600869df274b5739a2888aaaacd8e17f82'),\n",
       " 'logsBloom': HexBytes('0x00000000000000000000000000000000000000000000000000000000000000000000000000000000000000000000000000000000000000000000000000000000000000000000000000000000000000000000000000000000000000000000000000000000000000000000000000000000000000000000000000000000000000000000000000000000000000000000000000000000000000000000000000000000000000000000000000000000000000000000000000000000000000000000000000000000000000000000000000000000000000000000000000000000000000000000000000000000000000000000000000000000000000000000000000000000'),\n",
       " 'difficulty': 0,\n",
       " 'number': 28,\n",
       " 'gasLimit': 672197500,\n",
       " 'gasUsed': 3345506,\n",
       " 'timestamp': 1705924733,\n",
       " 'extraData': HexBytes('0x'),\n",
       " 'mixHash': HexBytes('0xed716009be16be6a1ddff0f3e1cf6cc29789ea8ed0dd0198b8f6a5383fd62f74'),\n",
       " 'nonce': HexBytes('0x0000000000000000'),\n",
       " 'totalDifficulty': 0,\n",
       " 'baseFeePerGas': 106402755,\n",
       " 'size': 15414,\n",
       " 'transactions': [HexBytes('0x204c799ac22f154a60b0324b17e0021f93428aaf95fd34c886e85174bfea3d93')],\n",
       " 'uncles': []})"
      ]
     },
     "execution_count": 90,
     "metadata": {},
     "output_type": "execute_result"
    }
   ],
   "source": [
    "block = w3.eth.get_block('latest')\n",
    "block"
   ]
  },
  {
   "cell_type": "code",
   "execution_count": 91,
   "metadata": {},
   "outputs": [],
   "source": [
    "import json\n",
    "\n",
    "# Specify the path to your ABI JSON file\n",
    "abi_file_path = 'C:\\/Users/teunh/Documents/year 5/project 2-1/DecentralizedHealthcareBackend-master/luce_vm/brownie/build/contracts/Model.json'\n",
    "\n",
    "# Read ABI from the JSON file\n",
    "with open(abi_file_path, 'r') as file:\n",
    "    abi = json.load(file)\n",
    "\n",
    "# Instantiate web3 contract object using the contract address & ABI from the JSON file\n",
    "contract = w3.eth.contract(address=contract_address_cs, abi=abi)"
   ]
  },
  {
   "cell_type": "code",
   "execution_count": 92,
   "metadata": {},
   "outputs": [
    {
     "data": {
      "text/plain": [
       "['0x89EfbC7394888D9aD1faB5Dd4cb6a6c492EeA543',\n",
       " '0xF148FE2015AA66DD480a5bAFfF5B7e846D0b1fAC',\n",
       " '0x881EfB2fC9F9497880759FAA03E2fAB991887FB3',\n",
       " '0xDaec1d0c35B9977Ed6aC04109FEE985dd2080D7B',\n",
       " '0xd0dF23bacEFB9616B2210608381a0223e76B64f7',\n",
       " '0x8c8382E7cA5D072FA3D4b1d5DcC8925da989c6F0',\n",
       " '0xEc6DCe6edFE667D1400DC02Ce7e1DFC59B188b6d',\n",
       " '0x82071998c3a97898ea7840363B47F44b089ba984',\n",
       " '0xF42bd053dc08e94498796fd5DCc64177Fd0e2aF5',\n",
       " '0x37f7194B870a984AD9fDf1ca6EfDFf0851Ab70f6']"
      ]
     },
     "execution_count": 92,
     "metadata": {},
     "output_type": "execute_result"
    }
   ],
   "source": [
    "accounts = w3.eth.accounts\n",
    "accounts"
   ]
  },
  {
   "cell_type": "code",
   "execution_count": 95,
   "metadata": {},
   "outputs": [
    {
     "ename": "ValueError",
     "evalue": "{'message': 'VM Exception while processing transaction: revert Only owner can edit this', 'stack': 'CallError: VM Exception while processing transaction: revert Only owner can edit this\\n    at Blockchain.simulateTransaction (C:\\\\Users\\\\teunh\\\\AppData\\\\Local\\\\Programs\\\\Ganache\\\\resources\\\\static\\\\node\\\\node_modules\\\\ganache\\\\dist\\\\node\\\\1.js:2:72658)', 'code': -32000, 'name': 'CallError', 'data': '0x08c379a0000000000000000000000000000000000000000000000000000000000000002000000000000000000000000000000000000000000000000000000000000000184f6e6c79206f776e65722063616e206564697420746869730000000000000000'}",
     "output_type": "error",
     "traceback": [
      "\u001b[1;31m---------------------------------------------------------------------------\u001b[0m",
      "\u001b[1;31mValueError\u001b[0m                                Traceback (most recent call last)",
      "Cell \u001b[1;32mIn[95], line 2\u001b[0m\n\u001b[0;32m      1\u001b[0m \u001b[38;5;66;03m# Call a read-only function\u001b[39;00m\n\u001b[1;32m----> 2\u001b[0m contract\u001b[38;5;241m.\u001b[39mfunctions\u001b[38;5;241m.\u001b[39maddCertifier(accounts[\u001b[38;5;241m1\u001b[39m])\u001b[38;5;241m.\u001b[39mcall()\n",
      "File \u001b[1;32mc:\\Users\\teunh\\Anaconda3\\Lib\\site-packages\\web3\\contract\\contract.py:305\u001b[0m, in \u001b[0;36mContractFunction.call\u001b[1;34m(self, transaction, block_identifier, state_override, ccip_read_enabled)\u001b[0m\n\u001b[0;32m    301\u001b[0m call_transaction \u001b[38;5;241m=\u001b[39m \u001b[38;5;28mself\u001b[39m\u001b[38;5;241m.\u001b[39m_get_call_txparams(transaction)\n\u001b[0;32m    303\u001b[0m block_id \u001b[38;5;241m=\u001b[39m parse_block_identifier(\u001b[38;5;28mself\u001b[39m\u001b[38;5;241m.\u001b[39mw3, block_identifier)\n\u001b[1;32m--> 305\u001b[0m \u001b[38;5;28;01mreturn\u001b[39;00m call_contract_function(\n\u001b[0;32m    306\u001b[0m     \u001b[38;5;28mself\u001b[39m\u001b[38;5;241m.\u001b[39mw3,\n\u001b[0;32m    307\u001b[0m     \u001b[38;5;28mself\u001b[39m\u001b[38;5;241m.\u001b[39maddress,\n\u001b[0;32m    308\u001b[0m     \u001b[38;5;28mself\u001b[39m\u001b[38;5;241m.\u001b[39m_return_data_normalizers,\n\u001b[0;32m    309\u001b[0m     \u001b[38;5;28mself\u001b[39m\u001b[38;5;241m.\u001b[39mfunction_identifier,\n\u001b[0;32m    310\u001b[0m     call_transaction,\n\u001b[0;32m    311\u001b[0m     block_id,\n\u001b[0;32m    312\u001b[0m     \u001b[38;5;28mself\u001b[39m\u001b[38;5;241m.\u001b[39mcontract_abi,\n\u001b[0;32m    313\u001b[0m     \u001b[38;5;28mself\u001b[39m\u001b[38;5;241m.\u001b[39mabi,\n\u001b[0;32m    314\u001b[0m     state_override,\n\u001b[0;32m    315\u001b[0m     ccip_read_enabled,\n\u001b[0;32m    316\u001b[0m     \u001b[38;5;28mself\u001b[39m\u001b[38;5;241m.\u001b[39mdecode_tuples,\n\u001b[0;32m    317\u001b[0m     \u001b[38;5;241m*\u001b[39m\u001b[38;5;28mself\u001b[39m\u001b[38;5;241m.\u001b[39margs,\n\u001b[0;32m    318\u001b[0m     \u001b[38;5;241m*\u001b[39m\u001b[38;5;241m*\u001b[39m\u001b[38;5;28mself\u001b[39m\u001b[38;5;241m.\u001b[39mkwargs,\n\u001b[0;32m    319\u001b[0m )\n",
      "File \u001b[1;32mc:\\Users\\teunh\\Anaconda3\\Lib\\site-packages\\web3\\contract\\utils.py:96\u001b[0m, in \u001b[0;36mcall_contract_function\u001b[1;34m(w3, address, normalizers, function_identifier, transaction, block_id, contract_abi, fn_abi, state_override, ccip_read_enabled, decode_tuples, *args, **kwargs)\u001b[0m\n\u001b[0;32m     81\u001b[0m \u001b[38;5;250m\u001b[39m\u001b[38;5;124;03m\"\"\"\u001b[39;00m\n\u001b[0;32m     82\u001b[0m \u001b[38;5;124;03mHelper function for interacting with a contract function using the\u001b[39;00m\n\u001b[0;32m     83\u001b[0m \u001b[38;5;124;03m`eth_call` API.\u001b[39;00m\n\u001b[0;32m     84\u001b[0m \u001b[38;5;124;03m\"\"\"\u001b[39;00m\n\u001b[0;32m     85\u001b[0m call_transaction \u001b[38;5;241m=\u001b[39m prepare_transaction(\n\u001b[0;32m     86\u001b[0m     address,\n\u001b[0;32m     87\u001b[0m     w3,\n\u001b[1;32m   (...)\u001b[0m\n\u001b[0;32m     93\u001b[0m     fn_kwargs\u001b[38;5;241m=\u001b[39mkwargs,\n\u001b[0;32m     94\u001b[0m )\n\u001b[1;32m---> 96\u001b[0m return_data \u001b[38;5;241m=\u001b[39m w3\u001b[38;5;241m.\u001b[39meth\u001b[38;5;241m.\u001b[39mcall(\n\u001b[0;32m     97\u001b[0m     call_transaction,\n\u001b[0;32m     98\u001b[0m     block_identifier\u001b[38;5;241m=\u001b[39mblock_id,\n\u001b[0;32m     99\u001b[0m     state_override\u001b[38;5;241m=\u001b[39mstate_override,\n\u001b[0;32m    100\u001b[0m     ccip_read_enabled\u001b[38;5;241m=\u001b[39mccip_read_enabled,\n\u001b[0;32m    101\u001b[0m )\n\u001b[0;32m    103\u001b[0m \u001b[38;5;28;01mif\u001b[39;00m fn_abi \u001b[38;5;129;01mis\u001b[39;00m \u001b[38;5;28;01mNone\u001b[39;00m:\n\u001b[0;32m    104\u001b[0m     fn_abi \u001b[38;5;241m=\u001b[39m find_matching_fn_abi(\n\u001b[0;32m    105\u001b[0m         contract_abi, w3\u001b[38;5;241m.\u001b[39mcodec, function_identifier, args, kwargs\n\u001b[0;32m    106\u001b[0m     )\n",
      "File \u001b[1;32mc:\\Users\\teunh\\Anaconda3\\Lib\\site-packages\\web3\\eth\\eth.py:256\u001b[0m, in \u001b[0;36mEth.call\u001b[1;34m(self, transaction, block_identifier, state_override, ccip_read_enabled)\u001b[0m\n\u001b[0;32m    246\u001b[0m ccip_read_enabled_on_provider \u001b[38;5;241m=\u001b[39m \u001b[38;5;28mself\u001b[39m\u001b[38;5;241m.\u001b[39mw3\u001b[38;5;241m.\u001b[39mprovider\u001b[38;5;241m.\u001b[39mglobal_ccip_read_enabled\n\u001b[0;32m    247\u001b[0m \u001b[38;5;28;01mif\u001b[39;00m (\n\u001b[0;32m    248\u001b[0m     \u001b[38;5;66;03m# default conditions:\u001b[39;00m\n\u001b[0;32m    249\u001b[0m     ccip_read_enabled_on_provider\n\u001b[1;32m   (...)\u001b[0m\n\u001b[0;32m    254\u001b[0m     \u001b[38;5;129;01mand\u001b[39;00m ccip_read_enabled \u001b[38;5;129;01mis\u001b[39;00m \u001b[38;5;28;01mTrue\u001b[39;00m\n\u001b[0;32m    255\u001b[0m ):\n\u001b[1;32m--> 256\u001b[0m     \u001b[38;5;28;01mreturn\u001b[39;00m \u001b[38;5;28mself\u001b[39m\u001b[38;5;241m.\u001b[39m_durin_call(transaction, block_identifier, state_override)\n\u001b[0;32m    258\u001b[0m \u001b[38;5;28;01mreturn\u001b[39;00m \u001b[38;5;28mself\u001b[39m\u001b[38;5;241m.\u001b[39m_call(transaction, block_identifier, state_override)\n",
      "File \u001b[1;32mc:\\Users\\teunh\\Anaconda3\\Lib\\site-packages\\web3\\eth\\eth.py:275\u001b[0m, in \u001b[0;36mEth._durin_call\u001b[1;34m(self, transaction, block_identifier, state_override)\u001b[0m\n\u001b[0;32m    273\u001b[0m \u001b[38;5;28;01mfor\u001b[39;00m _ \u001b[38;5;129;01min\u001b[39;00m \u001b[38;5;28mrange\u001b[39m(max_redirects):\n\u001b[0;32m    274\u001b[0m     \u001b[38;5;28;01mtry\u001b[39;00m:\n\u001b[1;32m--> 275\u001b[0m         \u001b[38;5;28;01mreturn\u001b[39;00m \u001b[38;5;28mself\u001b[39m\u001b[38;5;241m.\u001b[39m_call(transaction, block_identifier, state_override)\n\u001b[0;32m    276\u001b[0m     \u001b[38;5;28;01mexcept\u001b[39;00m OffchainLookup \u001b[38;5;28;01mas\u001b[39;00m offchain_lookup:\n\u001b[0;32m    277\u001b[0m         durin_calldata \u001b[38;5;241m=\u001b[39m handle_offchain_lookup(\n\u001b[0;32m    278\u001b[0m             offchain_lookup\u001b[38;5;241m.\u001b[39mpayload, transaction\n\u001b[0;32m    279\u001b[0m         )\n",
      "File \u001b[1;32mc:\\Users\\teunh\\Anaconda3\\Lib\\site-packages\\web3\\module.py:75\u001b[0m, in \u001b[0;36mretrieve_blocking_method_call_fn.<locals>.caller\u001b[1;34m(*args, **kwargs)\u001b[0m\n\u001b[0;32m     68\u001b[0m     \u001b[38;5;28;01mreturn\u001b[39;00m LogFilter(eth_module\u001b[38;5;241m=\u001b[39mmodule, filter_id\u001b[38;5;241m=\u001b[39merr\u001b[38;5;241m.\u001b[39mfilter_id)\n\u001b[0;32m     70\u001b[0m (\n\u001b[0;32m     71\u001b[0m     result_formatters,\n\u001b[0;32m     72\u001b[0m     error_formatters,\n\u001b[0;32m     73\u001b[0m     null_result_formatters,\n\u001b[0;32m     74\u001b[0m ) \u001b[38;5;241m=\u001b[39m response_formatters\n\u001b[1;32m---> 75\u001b[0m result \u001b[38;5;241m=\u001b[39m w3\u001b[38;5;241m.\u001b[39mmanager\u001b[38;5;241m.\u001b[39mrequest_blocking(\n\u001b[0;32m     76\u001b[0m     method_str, params, error_formatters, null_result_formatters\n\u001b[0;32m     77\u001b[0m )\n\u001b[0;32m     78\u001b[0m \u001b[38;5;28;01mreturn\u001b[39;00m apply_result_formatters(result_formatters, result)\n",
      "File \u001b[1;32mc:\\Users\\teunh\\Anaconda3\\Lib\\site-packages\\web3\\manager.py:325\u001b[0m, in \u001b[0;36mRequestManager.request_blocking\u001b[1;34m(self, method, params, error_formatters, null_result_formatters)\u001b[0m\n\u001b[0;32m    321\u001b[0m \u001b[38;5;250m\u001b[39m\u001b[38;5;124;03m\"\"\"\u001b[39;00m\n\u001b[0;32m    322\u001b[0m \u001b[38;5;124;03mMake a synchronous request using the provider\u001b[39;00m\n\u001b[0;32m    323\u001b[0m \u001b[38;5;124;03m\"\"\"\u001b[39;00m\n\u001b[0;32m    324\u001b[0m response \u001b[38;5;241m=\u001b[39m \u001b[38;5;28mself\u001b[39m\u001b[38;5;241m.\u001b[39m_make_request(method, params)\n\u001b[1;32m--> 325\u001b[0m \u001b[38;5;28;01mreturn\u001b[39;00m \u001b[38;5;28mself\u001b[39m\u001b[38;5;241m.\u001b[39mformatted_response(\n\u001b[0;32m    326\u001b[0m     response, params, error_formatters, null_result_formatters\n\u001b[0;32m    327\u001b[0m )\n",
      "File \u001b[1;32mc:\\Users\\teunh\\Anaconda3\\Lib\\site-packages\\web3\\manager.py:288\u001b[0m, in \u001b[0;36mRequestManager.formatted_response\u001b[1;34m(response, params, error_formatters, null_result_formatters)\u001b[0m\n\u001b[0;32m    282\u001b[0m         _raise_bad_response_format(\n\u001b[0;32m    283\u001b[0m             response, \u001b[38;5;124m\"\u001b[39m\u001b[38;5;124merror[\u001b[39m\u001b[38;5;124m'\u001b[39m\u001b[38;5;124mmessage\u001b[39m\u001b[38;5;124m'\u001b[39m\u001b[38;5;124m] must be a string\u001b[39m\u001b[38;5;124m\"\u001b[39m\n\u001b[0;32m    284\u001b[0m         )\n\u001b[0;32m    286\u001b[0m     apply_error_formatters(error_formatters, response)\n\u001b[1;32m--> 288\u001b[0m     \u001b[38;5;28;01mraise\u001b[39;00m \u001b[38;5;167;01mValueError\u001b[39;00m(error)\n\u001b[0;32m    290\u001b[0m \u001b[38;5;66;03m# Format and validate results\u001b[39;00m\n\u001b[0;32m    291\u001b[0m \u001b[38;5;28;01melif\u001b[39;00m \u001b[38;5;124m\"\u001b[39m\u001b[38;5;124mresult\u001b[39m\u001b[38;5;124m\"\u001b[39m \u001b[38;5;129;01min\u001b[39;00m response:\n\u001b[0;32m    292\u001b[0m     \u001b[38;5;66;03m# Null values for result should apply null_result_formatters\u001b[39;00m\n\u001b[0;32m    293\u001b[0m     \u001b[38;5;66;03m# Skip when result not present in the response (fallback to False)\u001b[39;00m\n",
      "\u001b[1;31mValueError\u001b[0m: {'message': 'VM Exception while processing transaction: revert Only owner can edit this', 'stack': 'CallError: VM Exception while processing transaction: revert Only owner can edit this\\n    at Blockchain.simulateTransaction (C:\\\\Users\\\\teunh\\\\AppData\\\\Local\\\\Programs\\\\Ganache\\\\resources\\\\static\\\\node\\\\node_modules\\\\ganache\\\\dist\\\\node\\\\1.js:2:72658)', 'code': -32000, 'name': 'CallError', 'data': '0x08c379a0000000000000000000000000000000000000000000000000000000000000002000000000000000000000000000000000000000000000000000000000000000184f6e6c79206f776e65722063616e206564697420746869730000000000000000'}"
     ]
    }
   ],
   "source": [
    "# Call a read-only function\n",
    "contract.functions.addCertifier(accounts[1]).call()\n",
    "#print(result)\n",
    "#result = contract.functions.contractBalance().call()\n",
    "#print(result)\n",
    "# Send a transaction to a state-changing function\n",
    "#transaction_hash = contract.functions.myStateChangingFunction(parameter_value).transact({'from': wallet_address, 'gas': 1000000})\n",
    "#print(transaction_hash)"
   ]
  },
  {
   "cell_type": "code",
   "execution_count": null,
   "metadata": {},
   "outputs": [
    {
     "data": {
      "text/plain": [
       "<Function getLink() bound to ()>"
      ]
     },
     "execution_count": 34,
     "metadata": {},
     "output_type": "execute_result"
    }
   ],
   "source": []
  }
 ],
 "metadata": {
  "kernelspec": {
   "display_name": "base",
   "language": "python",
   "name": "python3"
  },
  "language_info": {
   "codemirror_mode": {
    "name": "ipython",
    "version": 3
   },
   "file_extension": ".py",
   "mimetype": "text/x-python",
   "name": "python",
   "nbconvert_exporter": "python",
   "pygments_lexer": "ipython3",
   "version": "3.11.5"
  }
 },
 "nbformat": 4,
 "nbformat_minor": 2
}
