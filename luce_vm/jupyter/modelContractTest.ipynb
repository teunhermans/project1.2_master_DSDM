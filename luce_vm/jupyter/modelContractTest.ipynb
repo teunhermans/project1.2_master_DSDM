{
 "cells": [
  {
   "cell_type": "markdown",
   "metadata": {},
   "source": [
    "### Deploy and Interact with Consent based Smart Contract\n",
    "The aim of this notebook is to compile, deploy and interact with consent based smart contract"
   ]
  },
  {
   "cell_type": "markdown",
   "metadata": {},
   "source": [
    "### Compile contract from file"
   ]
  },
  {
   "cell_type": "code",
   "execution_count": 1,
   "metadata": {
    "inputHidden": false,
    "outputHidden": false
   },
   "outputs": [],
   "source": [
    "import json\n",
    "import web3\n",
    "from datetime import datetime\n",
    "from web3 import Web3\n",
    "from solcx import compile_source\n",
    "import solcx\n",
    "#from web3.contract import ConciseContract"
   ]
  },
  {
   "cell_type": "code",
   "execution_count": 2,
   "metadata": {},
   "outputs": [],
   "source": [
    "# Read in Model contract code\n",
    "with open('./data/Model.sol', 'r') as file:\n",
    "    contract_source_code = file.read()"
   ]
  },
  {
   "cell_type": "code",
   "execution_count": 3,
   "metadata": {},
   "outputs": [],
   "source": [
    "solcx.install_solc('0.6.2')\n",
    "# Compile & Store Compiled source code\n",
    "compiled_sol = solcx.compile_source(contract_source_code,solc_version='0.6.2')"
   ]
  },
  {
   "cell_type": "code",
   "execution_count": 4,
   "metadata": {},
   "outputs": [],
   "source": [
    "#solcx.install_solc('0.6.2')"
   ]
  },
  {
   "cell_type": "code",
   "execution_count": 5,
   "metadata": {},
   "outputs": [],
   "source": [
    "#compiled_sol"
   ]
  },
  {
   "cell_type": "code",
   "execution_count": 6,
   "metadata": {},
   "outputs": [],
   "source": [
    "# Extract full interface as dict from compiled contract\n",
    "contract_interface = compiled_sol['<stdin>:Model']"
   ]
  },
  {
   "cell_type": "code",
   "execution_count": 7,
   "metadata": {},
   "outputs": [],
   "source": [
    "#contract_interface"
   ]
  },
  {
   "cell_type": "code",
   "execution_count": 8,
   "metadata": {},
   "outputs": [],
   "source": [
    "# Extract abi and bytecode\n",
    "abi = contract_interface['abi']\n",
    "bytecode = contract_interface['bin']"
   ]
  },
  {
   "cell_type": "markdown",
   "metadata": {},
   "source": [
    "### Deploy"
   ]
  },
  {
   "cell_type": "code",
   "execution_count": 9,
   "metadata": {},
   "outputs": [],
   "source": [
    "# Use Ganache for web3 instance\n",
    "w3 = Web3(Web3.HTTPProvider(\"HTTP://127.0.0.1:7545\"))"
   ]
  },
  {
   "cell_type": "code",
   "execution_count": 10,
   "metadata": {},
   "outputs": [],
   "source": [
    "# Use local Ganache GUI on macOS\n",
    "#w3 = Web3(Web3.HTTPProvider(\"HTTP://192.168.72.1:7545\"))"
   ]
  },
  {
   "cell_type": "code",
   "execution_count": 11,
   "metadata": {},
   "outputs": [],
   "source": [
    "# Set pre-funded ganache account #0 as sender\n",
    "w3.eth.defaultAccount = w3.eth.accounts[0]"
   ]
  },
  {
   "cell_type": "code",
   "execution_count": 12,
   "metadata": {},
   "outputs": [
    {
     "data": {
      "text/plain": [
       "['0x23cA5505ca6D97f439C66AaA6b371216406CDE4F',\n",
       " '0xe6Cf0B440a3a1Eb03dD8fE8007c8D770FF050002',\n",
       " '0x31be7A34eb0bc2e93c7764397E926d2Fbc04dAa9',\n",
       " '0xeF7e89b08d4ed534F1d693a1DAB081475F741526',\n",
       " '0x0ECeCc018538979248fbC7060262EB2C7e6FeE34',\n",
       " '0x1aDe578ad2a1dE610e4287683365c8660f8FB6fb',\n",
       " '0xC7034366279A7BA40F9f5925A5AFe5117f723300',\n",
       " '0xF3E92676BF29f956Dca7C6cb7C90dA985e3FdC4D',\n",
       " '0xe08B8414EB168b8f3EA3B118132B4eeECabb761D',\n",
       " '0x452cE57A1e9Ef53077Fa1F61e7cD0B6a4b416165']"
      ]
     },
     "execution_count": 12,
     "metadata": {},
     "output_type": "execute_result"
    }
   ],
   "source": [
    "w3.eth.accounts"
   ]
  },
  {
   "cell_type": "code",
   "execution_count": 13,
   "metadata": {},
   "outputs": [
    {
     "data": {
      "text/plain": [
       "'0x23cA5505ca6D97f439C66AaA6b371216406CDE4F'"
      ]
     },
     "execution_count": 13,
     "metadata": {},
     "output_type": "execute_result"
    }
   ],
   "source": [
    "w3.eth.accounts[0]"
   ]
  },
  {
   "cell_type": "markdown",
   "metadata": {},
   "source": [
    "The default `eth.defaultAccount` address is used as the default \"from\" property for transaction dictionaries if no other explicit \"from\" property is specified."
   ]
  },
  {
   "cell_type": "code",
   "execution_count": 14,
   "metadata": {},
   "outputs": [],
   "source": [
    "# Create contract blueprint\n",
    "Contract = w3.eth.contract(abi=abi, bytecode=bytecode)"
   ]
  },
  {
   "cell_type": "code",
   "execution_count": 15,
   "metadata": {},
   "outputs": [],
   "source": [
    "# Submit the transaction that deploys the contract\n",
    "tx_hash = Contract.constructor().transact({\"from\": w3.eth.accounts[0]})"
   ]
  },
  {
   "cell_type": "code",
   "execution_count": 16,
   "metadata": {},
   "outputs": [
    {
     "data": {
      "text/plain": [
       "HexBytes('0x4a2ae0e5f01033ff8190048b1bab6fb40d5a3704414afa4d6497c7b557a14036')"
      ]
     },
     "execution_count": 16,
     "metadata": {},
     "output_type": "execute_result"
    }
   ],
   "source": [
    "tx_hash"
   ]
  },
  {
   "cell_type": "markdown",
   "metadata": {},
   "source": [
    "### Obtain Transcation Receipt"
   ]
  },
  {
   "cell_type": "code",
   "execution_count": 17,
   "metadata": {},
   "outputs": [],
   "source": [
    "# Wait for the transaction to be mined, and get the transaction receipt\n",
    "tx_receipt = w3.eth.wait_for_transaction_receipt(tx_hash)"
   ]
  },
  {
   "cell_type": "code",
   "execution_count": 18,
   "metadata": {},
   "outputs": [
    {
     "name": "stdout",
     "output_type": "stream",
     "text": [
      "The contract is deployed with block number 69 .\n"
     ]
    }
   ],
   "source": [
    "# We obtain the block number under which it is deployed \n",
    "global contract_block\n",
    "contract_block = w3.eth.block_number\n",
    "print(\"The contract is deployed with block number\",contract_block,\".\")"
   ]
  },
  {
   "cell_type": "code",
   "execution_count": 19,
   "metadata": {},
   "outputs": [
    {
     "name": "stdout",
     "output_type": "stream",
     "text": [
      "The contract has the address 0x1B50F4E5b9a39c81805264AEB889e5d93389Df48 .\n"
     ]
    }
   ],
   "source": [
    "# With obtain the final address of the contract \n",
    "global contract_address\n",
    "contract_address = tx_receipt.contractAddress\n",
    "print(\"The contract has the address\", contract_address,\".\")"
   ]
  },
  {
   "cell_type": "markdown",
   "metadata": {},
   "source": [
    "### Interact with contract"
   ]
  },
  {
   "cell_type": "code",
   "execution_count": 20,
   "metadata": {},
   "outputs": [],
   "source": [
    "# Create python instance of deployed contract\n",
    "Contract = w3.eth.contract(\n",
    "    address=tx_receipt.contractAddress,\n",
    "    abi=contract_interface['abi'],\n",
    ")"
   ]
  },
  {
   "cell_type": "code",
   "execution_count": 21,
   "metadata": {},
   "outputs": [],
   "source": [
    "# Extract default accounts created by ganache\n",
    "accounts = w3.eth.accounts"
   ]
  },
  {
   "cell_type": "code",
   "execution_count": 22,
   "metadata": {},
   "outputs": [
    {
     "data": {
      "text/plain": [
       "['0x23cA5505ca6D97f439C66AaA6b371216406CDE4F',\n",
       " '0xe6Cf0B440a3a1Eb03dD8fE8007c8D770FF050002',\n",
       " '0x31be7A34eb0bc2e93c7764397E926d2Fbc04dAa9',\n",
       " '0xeF7e89b08d4ed534F1d693a1DAB081475F741526',\n",
       " '0x0ECeCc018538979248fbC7060262EB2C7e6FeE34',\n",
       " '0x1aDe578ad2a1dE610e4287683365c8660f8FB6fb',\n",
       " '0xC7034366279A7BA40F9f5925A5AFe5117f723300',\n",
       " '0xF3E92676BF29f956Dca7C6cb7C90dA985e3FdC4D',\n",
       " '0xe08B8414EB168b8f3EA3B118132B4eeECabb761D',\n",
       " '0x452cE57A1e9Ef53077Fa1F61e7cD0B6a4b416165']"
      ]
     },
     "execution_count": 22,
     "metadata": {},
     "output_type": "execute_result"
    }
   ],
   "source": [
    "accounts"
   ]
  },
  {
   "cell_type": "markdown",
   "metadata": {},
   "source": [
    "**Certification**  \n",
    "```solidity\n",
    "\n",
    "        function addCertifier(address newCertifier) public onlyOwner {}\n",
    "        function deleteCertifier(address oldCertifier) public onlyOwner {}\n",
    "        function checkIfCertified(address certified) public view returns(bool) {}\n",
    "```"
   ]
  },
  {
   "cell_type": "code",
   "execution_count": 23,
   "metadata": {},
   "outputs": [],
   "source": [
    "#print(\"Gas\", Contract.functions.UploadDataPrimaryCategory(test_address0, False, True, True, True, True).estimateGas())\n",
    "startTime = datetime.now()\n",
    "#adding an event listener so we can check the eventss\n",
    "event_filter = Contract.events['publishedModel'].create_filter(fromBlock='latest')\n"
   ]
  },
  {
   "cell_type": "code",
   "execution_count": 24,
   "metadata": {},
   "outputs": [
    {
     "name": "stdout",
     "output_type": "stream",
     "text": [
      "before adding, certified = False\n",
      "after adding, certified = True\n"
     ]
    }
   ],
   "source": [
    "#checking if adding a new account to the certification works, we need to set an account from which the transact comes from as this function can only be called by the owner.\n",
    "tx_hash = Contract.functions.checkIfCertified(accounts[1]).call()\n",
    "print(\"before adding, certified = \" + str(tx_hash))\n",
    "tx_hash = Contract.functions.addCertifier(accounts[1]).transact({'from':accounts[0]})\n",
    "tx_hash = Contract.functions.checkIfCertified(accounts[1]).call()\n",
    "print(\"after adding, certified = \" + str(tx_hash))"
   ]
  },
  {
   "cell_type": "code",
   "execution_count": 25,
   "metadata": {},
   "outputs": [
    {
     "name": "stdout",
     "output_type": "stream",
     "text": [
      "before removing, certified = True\n",
      "after removing, certified = False\n"
     ]
    }
   ],
   "source": [
    "#checking if removing a certifier also works, we need to set an account from which the transact comes from as this function can only be called by the owner.\n",
    "tx_hash = Contract.functions.checkIfCertified(accounts[1]).call()\n",
    "print(\"before removing, certified = \" + str(tx_hash))\n",
    "tx_hash = Contract.functions.deleteCertifier(accounts[1]).transact({'from':accounts[0]})\n",
    "tx_hash = Contract.functions.checkIfCertified(accounts[1]).call()\n",
    "print(\"after removing, certified = \" + str(tx_hash))"
   ]
  },
  {
   "cell_type": "code",
   "execution_count": 26,
   "metadata": {},
   "outputs": [
    {
     "name": "stdout",
     "output_type": "stream",
     "text": [
      "AttributeDict({'hash': HexBytes('0x772a8931c763efbb09a111279a6a16bbcb9dc45876f5e0686db72a80b6381a09'), 'parentHash': HexBytes('0xbb27d1a0760d8f3aa661830dd88ad71e4dd8eda9643db9428afa485b93562fb9'), 'sha3Uncles': HexBytes('0x1dcc4de8dec75d7aab85b567b6ccd41ad312451b948a7413f0a142fd40d49347'), 'miner': '0x0000000000000000000000000000000000000000', 'stateRoot': HexBytes('0x618193a4650f053334f9a7475e545033ac9f3ae0c637c60c73e81e8c80444ac0'), 'transactionsRoot': HexBytes('0x7c3ca74933c28878b4b2b5372732a55d01377569f0bfb8fc74b6eee46992b323'), 'receiptsRoot': HexBytes('0xf4b08aeccec4c3ac186956b0303ad0f848a910c60f4c057efdd4efe7bc467e96'), 'logsBloom': HexBytes('0x00000000000000000000000000000000000000000000000000000000000000000000000000000000000000000000000000000000000000000000000000000000000000000000000000000000000000000000000000000000000000000000000000000000000000000000000000000000000000000000000000000000000000000000000000000000000000000000000000000000000000000000000000000000000000000000000000000000000000000000000000000000000000000000000000000000000000000000000000000000000000000000000000000000000000000000000000000000000000000000000000000000000000000000000000000000'), 'difficulty': 0, 'number': 71, 'gasLimit': 6721975, 'gasUsed': 24249, 'timestamp': 1706089239, 'extraData': HexBytes('0x'), 'mixHash': HexBytes('0x00f683488c77dd5ceee36c1581d622a21ca1185785ee09f0d6ad8a808205d23c'), 'nonce': HexBytes('0x0000000000000000'), 'totalDifficulty': 0, 'baseFeePerGas': 679546, 'size': 662, 'transactions': [HexBytes('0xe6d4c19bd0847d1d82c1d26e15eaa27bdad27a18982d786015151ed1bb55c702')], 'uncles': []})\n"
     ]
    }
   ],
   "source": [
    "print(w3.eth.get_block('latest'))"
   ]
  },
  {
   "cell_type": "code",
   "execution_count": 27,
   "metadata": {},
   "outputs": [
    {
     "name": "stdout",
     "output_type": "stream",
     "text": [
      "elapsedTimeDataProvider 0:00:03.223675\n"
     ]
    }
   ],
   "source": [
    "endTimeDataProvider = datetime.now()\n",
    "elapsedTimeDataProvider = endTimeDataProvider - startTime\n",
    "print(\"elapsedTimeDataProvider\", elapsedTimeDataProvider)"
   ]
  },
  {
   "cell_type": "code",
   "execution_count": 28,
   "metadata": {},
   "outputs": [],
   "source": [
    "#tx_hash"
   ]
  },
  {
   "cell_type": "markdown",
   "metadata": {},
   "source": [
    "**Adding models**  \n",
    "```solidity\n",
    "        function publishModel(\n",
    "                string memory _link,\n",
    "                bytes memory _hash) public onlyOwner providerGasCost\n",
    "```\n",
    "\n",
    "**Updating Models**  \n",
    "```solidity\n",
    "        function updateHash(\n",
    "                string memory _link,\n",
    "                bytes memory newHash) public onlyOwner providerGasCost\n",
    "```\n",
    "\n",
    "**Certifying models**  \n",
    "```solidity\n",
    "        function certifyModel(bytes memory _hash) public certifier\n",
    "```\n"
   ]
  },
  {
   "cell_type": "markdown",
   "metadata": {},
   "source": [
    "**Getters and Setters for variables**  \n",
    "```solidity\n",
    "        function getVersion(bytes32 _hash)public view returns(uint256){}\n",
    "        function getCertfication(uint256 _version) public view returns(bool){}\n",
    "        function setLink(string memory _link) public onlyOwner(){}\n",
    "        function getLink() public view returns(string memory){}\n",
    "        function getModelCardHash() public view returns(bytes32){}\n"
   ]
  },
  {
   "cell_type": "code",
   "execution_count": null,
   "metadata": {},
   "outputs": [],
   "source": []
  },
  {
   "cell_type": "code",
   "execution_count": 29,
   "metadata": {},
   "outputs": [
    {
     "name": "stdout",
     "output_type": "stream",
     "text": [
      "https/:www.somelinktomodel.com, the link to the model\n",
      "the model is certified: False\n"
     ]
    }
   ],
   "source": [
    "#Lets look at how the functions work whenever we are trying to upload a model,\n",
    "#In here im using a test hash, this does not refer to a real hash, //you can add a real model here \n",
    "\n",
    "test_hash = Web3.to_bytes(text = '0x05416460deb76d57af601be17e777b93592d8d4d4a4096c57876a91c84f4a712')\n",
    "#basically if model card hash is not 32 bytes needs to be changed\n",
    "test_link = 'https/:www.somelinktomodel.com'\n",
    "#please let me know if you have any troubles with this part, it might be that the model card is not a bytes32 hash, in that case i need to change the smart contract,\n",
    "tx_hash = Contract.functions.publishModel(test_link, test_hash).transact({'from': accounts[0]})\n",
    "#this model is not callable twice on the same contract, as it will recognise that the contract is published, keep that in mind while testing other functions in the same cell\n",
    "\n",
    "#lets see if everything prints accordingly\n",
    "print(Contract.functions.getLink().call() + \", the link to the model\")\n",
    "m_version = Contract.functions.getVersion(test_hash).call()\n",
    "print(\"the model is certified: \" + str(Contract.functions.getCertfication(m_version).call()))"
   ]
  },
  {
   "cell_type": "code",
   "execution_count": 31,
   "metadata": {},
   "outputs": [
    {
     "name": "stdout",
     "output_type": "stream",
     "text": [
      "Event: AttributeDict({'args': AttributeDict({'sender': '0x23cA5505ca6D97f439C66AaA6b371216406CDE4F', 'link': 'https/:www.somelinktomodel.com', 'modelCardHash': b'0x05416460deb76d57af601be17e777b93592d8d4d4a4096c57876a91c84f4a712', 'version': 1}), 'event': 'publishedModel', 'logIndex': 0, 'transactionIndex': 0, 'transactionHash': HexBytes('0x1fb6d62ea13731007feaf8f9b5359ceef36219128dedb6205bc72c508a64aaa0'), 'address': '0x1B50F4E5b9a39c81805264AEB889e5d93389Df48', 'blockHash': HexBytes('0x26a09d34e5420556bfc5543480031b9e20e8c725e92e83db5b2e6d4e0c0c6c41'), 'blockNumber': 72})\n"
     ]
    }
   ],
   "source": [
    "#lets see if we can print the event\n",
    "def handle_event(event):\n",
    "    print(\"Event:\", event)\n",
    "\n",
    "# Start event listener\n",
    "for event in event_filter.get_all_entries():\n",
    "    handle_event(event)"
   ]
  },
  {
   "cell_type": "markdown",
   "metadata": {},
   "source": [
    "As we can see, important properties are saved in the event, it is possible for anyone that has access to the blockchain to check the link, modelcardhash and the version of a certain model by checking the event. The event is for anyone to check. Other events include model certification and updating the model."
   ]
  },
  {
   "cell_type": "code",
   "execution_count": 284,
   "metadata": {},
   "outputs": [
    {
     "name": "stdout",
     "output_type": "stream",
     "text": [
      "the model is certified: True\n"
     ]
    }
   ],
   "source": [
    "#let's see if we can certify the model, let's certify an account\n",
    "tx_hash = Contract.functions.addCertifier(accounts[1]).transact({'from': accounts[0]})\n",
    "tx_hash = Contract.functions.certifyModel(test_hash).transact({'from': accounts[1]})\n",
    "m_version = Contract.functions.getVersion(test_hash).call()\n",
    "print(\"the model is certified: \" + str(Contract.functions.getCertfication(m_version).call()))"
   ]
  },
  {
   "cell_type": "code",
   "execution_count": 302,
   "metadata": {},
   "outputs": [
    {
     "name": "stdout",
     "output_type": "stream",
     "text": [
      "https/:www.somelinktonewmodel.com, the link to the model\n",
      "the 1th version of model is certified: True\n",
      "the 15th version of model is certified: False\n"
     ]
    }
   ],
   "source": [
    "#Models can get certified, lets update a model\n",
    "new_hash = Web3.to_bytes(text = '0x05416460deb76d57af601be17e777b93592d8d4d4sfdssc57876a91c84f4a712')\n",
    "new_link = 'https/:www.somelinktonewmodel.com'\n",
    "tx_hash = Contract.functions.updateHash(new_link, new_hash).transact({'from': accounts[0]})\n",
    "print(Contract.functions.getLink().call() + \", the link to the model\")\n",
    "m_version = Contract.functions.getVersion(test_hash).call()\n",
    "print(\"the \" + str(m_version) + \"th version of model is certified: \" + str(Contract.functions.getCertfication(m_version).call()))\n",
    "m_version_new = Contract.functions.getVersion(new_hash).call()\n",
    "print(\"the \" + str(m_version_new) + \"th version of model is certified: \" + str(Contract.functions.getCertfication(m_version_new).call()))\n",
    "#making sure that the hash from the contract is the same as the input\n",
    "assert str(Contract.functions.getMostRecentModelCardHash().call()) == str(new_hash)\n"
   ]
  },
  {
   "cell_type": "code",
   "execution_count": 251,
   "metadata": {},
   "outputs": [
    {
     "name": "stdout",
     "output_type": "stream",
     "text": [
      "elapsedTime1 0:12:59.385628\n"
     ]
    }
   ],
   "source": [
    "endTime1 = datetime.now()\n",
    "elapsedTime1 = endTime1 - startTime\n",
    "print(\"elapsedTime1\", elapsedTime1)"
   ]
  },
  {
   "cell_type": "code",
   "execution_count": null,
   "metadata": {},
   "outputs": [],
   "source": [
    "#print(\"Gas\", Contract.functions.UploadDataPrimaryCategory(test_address0, False, True, True, True, True).estimateGas())print(\"Gas\", Contract.functions.UploadDataPrimaryCategory(test_address0, False, True, True, True, True).estimateGas())\n",
    "#print(\"Gas\", Contract.functions.UploadDataPrimaryCategory(test_address8, False, False, False, False, True).estimateGas())\n",
    "#print(\"Gas\", Contract.functions.UploadDataRequirements(test_address0, False, True, False, False, False, False, False, False).estimateGas())\n",
    "#print(\"Gas\", Contract.functions.giveResearchPurpose(test_address13, True, True, False, False, False).estimateGas())\n",
    "#print(\"Gas\", Contract.functions.givePerson(test_address13, True, False, True, False).estimateGas())\n",
    "#print(\"Gas\", Contract.functions.giveProfit(test_address13, True, False).estimateGas())\n",
    "#print(\"Gas\", Contract.functions.AccessData(test_address1, test_address13).estimateGas())\n",
    "#print(\"Gas\", Contract.functions.AccessData(test_address1, test_address14).estimateGas())\n",
    "#print(\"Gas\", Contract.functions.AccessData(test_address1, test_address15).estimateGas())"
   ]
  }
 ],
 "metadata": {
  "hide_input": false,
  "kernel_info": {
   "name": "python3"
  },
  "kernelspec": {
   "display_name": "Python 3",
   "language": "python",
   "name": "python3"
  },
  "language_info": {
   "codemirror_mode": {
    "name": "ipython",
    "version": 3
   },
   "file_extension": ".py",
   "mimetype": "text/x-python",
   "name": "python",
   "nbconvert_exporter": "python",
   "pygments_lexer": "ipython3",
   "version": "3.11.5"
  },
  "nteract": {
   "version": "0.14.3"
  },
  "toc": {
   "base_numbering": 1,
   "nav_menu": {},
   "number_sections": false,
   "sideBar": true,
   "skip_h1_title": false,
   "title_cell": "Table of Contents",
   "title_sidebar": "Contents",
   "toc_cell": false,
   "toc_position": {
    "height": "618px",
    "left": "214px",
    "top": "110px",
    "width": "288px"
   },
   "toc_section_display": true,
   "toc_window_display": true
  },
  "varInspector": {
   "cols": {
    "lenName": 16,
    "lenType": 16,
    "lenVar": 40
   },
   "kernels_config": {
    "python": {
     "delete_cmd_postfix": "",
     "delete_cmd_prefix": "del ",
     "library": "var_list.py",
     "varRefreshCmd": "print(var_dic_list())"
    },
    "r": {
     "delete_cmd_postfix": ") ",
     "delete_cmd_prefix": "rm(",
     "library": "var_list.r",
     "varRefreshCmd": "cat(var_dic_list()) "
    }
   },
   "types_to_exclude": [
    "module",
    "function",
    "builtin_function_or_method",
    "instance",
    "_Feature"
   ],
   "window_display": false
  }
 },
 "nbformat": 4,
 "nbformat_minor": 2
}
