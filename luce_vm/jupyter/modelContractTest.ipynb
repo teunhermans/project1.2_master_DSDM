{
 "cells": [
  {
   "cell_type": "markdown",
   "metadata": {},
   "source": [
    "### Deploy and Interact with Consent based Smart Contract\n",
    "The aim of this notebook is to compile, deploy and interact with consent based smart contract"
   ]
  },
  {
   "cell_type": "markdown",
   "metadata": {},
   "source": [
    "### Compile contract from file"
   ]
  },
  {
   "cell_type": "code",
   "execution_count": 32,
   "metadata": {
    "inputHidden": false,
    "outputHidden": false
   },
   "outputs": [],
   "source": [
    "import json\n",
    "import web3\n",
    "from datetime import datetime\n",
    "from web3 import Web3\n",
    "from solcx import compile_source\n",
    "import solcx\n",
    "#from web3.contract import ConciseContract"
   ]
  },
  {
   "cell_type": "code",
   "execution_count": 33,
   "metadata": {},
   "outputs": [],
   "source": [
    "# Read in Model contract code\n",
    "with open('./data/Model.sol', 'r') as file:\n",
    "    contract_source_code = file.read()"
   ]
  },
  {
   "cell_type": "code",
   "execution_count": 34,
   "metadata": {},
   "outputs": [],
   "source": [
    "solcx.install_solc('0.6.2')\n",
    "# Compile & Store Compiled source code\n",
    "compiled_sol = solcx.compile_source(contract_source_code,solc_version='0.6.2')"
   ]
  },
  {
   "cell_type": "code",
   "execution_count": 35,
   "metadata": {},
   "outputs": [],
   "source": [
    "#solcx.install_solc('0.6.2')"
   ]
  },
  {
   "cell_type": "code",
   "execution_count": 36,
   "metadata": {},
   "outputs": [],
   "source": [
    "#compiled_sol"
   ]
  },
  {
   "cell_type": "code",
   "execution_count": 37,
   "metadata": {},
   "outputs": [],
   "source": [
    "# Extract full interface as dict from compiled contract\n",
    "contract_interface = compiled_sol['<stdin>:Model']"
   ]
  },
  {
   "cell_type": "code",
   "execution_count": 38,
   "metadata": {},
   "outputs": [],
   "source": [
    "#contract_interface"
   ]
  },
  {
   "cell_type": "code",
   "execution_count": 39,
   "metadata": {},
   "outputs": [],
   "source": [
    "# Extract abi and bytecode\n",
    "abi = contract_interface['abi']\n",
    "bytecode = contract_interface['bin']"
   ]
  },
  {
   "cell_type": "markdown",
   "metadata": {},
   "source": [
    "### Deploy"
   ]
  },
  {
   "cell_type": "code",
   "execution_count": 40,
   "metadata": {},
   "outputs": [],
   "source": [
    "# Use Ganache for web3 instance\n",
    "w3 = Web3(Web3.HTTPProvider(\"HTTP://127.0.0.1:7545\"))"
   ]
  },
  {
   "cell_type": "code",
   "execution_count": 41,
   "metadata": {},
   "outputs": [],
   "source": [
    "# Use local Ganache GUI on macOS\n",
    "#w3 = Web3(Web3.HTTPProvider(\"HTTP://192.168.72.1:7545\"))"
   ]
  },
  {
   "cell_type": "code",
   "execution_count": 42,
   "metadata": {},
   "outputs": [],
   "source": [
    "# Set pre-funded ganache account #0 as sender\n",
    "w3.eth.defaultAccount = w3.eth.accounts[0]"
   ]
  },
  {
   "cell_type": "code",
   "execution_count": 43,
   "metadata": {},
   "outputs": [
    {
     "data": {
      "text/plain": [
       "['0x23cA5505ca6D97f439C66AaA6b371216406CDE4F',\n",
       " '0xe6Cf0B440a3a1Eb03dD8fE8007c8D770FF050002',\n",
       " '0x31be7A34eb0bc2e93c7764397E926d2Fbc04dAa9',\n",
       " '0xeF7e89b08d4ed534F1d693a1DAB081475F741526',\n",
       " '0x0ECeCc018538979248fbC7060262EB2C7e6FeE34',\n",
       " '0x1aDe578ad2a1dE610e4287683365c8660f8FB6fb',\n",
       " '0xC7034366279A7BA40F9f5925A5AFe5117f723300',\n",
       " '0xF3E92676BF29f956Dca7C6cb7C90dA985e3FdC4D',\n",
       " '0xe08B8414EB168b8f3EA3B118132B4eeECabb761D',\n",
       " '0x452cE57A1e9Ef53077Fa1F61e7cD0B6a4b416165']"
      ]
     },
     "execution_count": 43,
     "metadata": {},
     "output_type": "execute_result"
    }
   ],
   "source": [
    "w3.eth.accounts"
   ]
  },
  {
   "cell_type": "code",
   "execution_count": 44,
   "metadata": {},
   "outputs": [
    {
     "data": {
      "text/plain": [
       "'0x23cA5505ca6D97f439C66AaA6b371216406CDE4F'"
      ]
     },
     "execution_count": 44,
     "metadata": {},
     "output_type": "execute_result"
    }
   ],
   "source": [
    "w3.eth.accounts[0]"
   ]
  },
  {
   "cell_type": "markdown",
   "metadata": {},
   "source": [
    "The default `eth.defaultAccount` address is used as the default \"from\" property for transaction dictionaries if no other explicit \"from\" property is specified."
   ]
  },
  {
   "cell_type": "code",
   "execution_count": 45,
   "metadata": {},
   "outputs": [],
   "source": [
    "# Create contract blueprint\n",
    "Contract = w3.eth.contract(abi=abi, bytecode=bytecode)"
   ]
  },
  {
   "cell_type": "code",
   "execution_count": 46,
   "metadata": {},
   "outputs": [],
   "source": [
    "# Submit the transaction that deploys the contract\n",
    "tx_hash = Contract.constructor().transact({\"from\": w3.eth.accounts[0]})"
   ]
  },
  {
   "cell_type": "code",
   "execution_count": 47,
   "metadata": {},
   "outputs": [
    {
     "data": {
      "text/plain": [
       "HexBytes('0x38b870a9b3f09f6a24d1d0e6dd8214e849e204db73a4674e6575eb8580014c24')"
      ]
     },
     "execution_count": 47,
     "metadata": {},
     "output_type": "execute_result"
    }
   ],
   "source": [
    "tx_hash"
   ]
  },
  {
   "cell_type": "markdown",
   "metadata": {},
   "source": [
    "### Obtain Transcation Receipt"
   ]
  },
  {
   "cell_type": "code",
   "execution_count": 48,
   "metadata": {},
   "outputs": [],
   "source": [
    "# Wait for the transaction to be mined, and get the transaction receipt\n",
    "tx_receipt = w3.eth.wait_for_transaction_receipt(tx_hash)"
   ]
  },
  {
   "cell_type": "code",
   "execution_count": 49,
   "metadata": {},
   "outputs": [
    {
     "name": "stdout",
     "output_type": "stream",
     "text": [
      "The contract is deployed with block number 73 .\n"
     ]
    }
   ],
   "source": [
    "# We obtain the block number under which it is deployed \n",
    "global contract_block\n",
    "contract_block = w3.eth.block_number\n",
    "print(\"The contract is deployed with block number\",contract_block,\".\")"
   ]
  },
  {
   "cell_type": "code",
   "execution_count": 50,
   "metadata": {},
   "outputs": [
    {
     "name": "stdout",
     "output_type": "stream",
     "text": [
      "The contract has the address 0x6Da5800336B730723B2b9242c12b0ADb6467dA6A .\n"
     ]
    }
   ],
   "source": [
    "# With obtain the final address of the contract \n",
    "global contract_address\n",
    "contract_address = tx_receipt.contractAddress\n",
    "print(\"The contract has the address\", contract_address,\".\")"
   ]
  },
  {
   "cell_type": "markdown",
   "metadata": {},
   "source": [
    "### Interact with contract"
   ]
  },
  {
   "cell_type": "code",
   "execution_count": 51,
   "metadata": {},
   "outputs": [],
   "source": [
    "# Create python instance of deployed contract\n",
    "Contract = w3.eth.contract(\n",
    "    address=tx_receipt.contractAddress,\n",
    "    abi=contract_interface['abi'],\n",
    ")"
   ]
  },
  {
   "cell_type": "code",
   "execution_count": 52,
   "metadata": {},
   "outputs": [],
   "source": [
    "# Extract default accounts created by ganache\n",
    "accounts = w3.eth.accounts"
   ]
  },
  {
   "cell_type": "code",
   "execution_count": 53,
   "metadata": {},
   "outputs": [
    {
     "data": {
      "text/plain": [
       "['0x23cA5505ca6D97f439C66AaA6b371216406CDE4F',\n",
       " '0xe6Cf0B440a3a1Eb03dD8fE8007c8D770FF050002',\n",
       " '0x31be7A34eb0bc2e93c7764397E926d2Fbc04dAa9',\n",
       " '0xeF7e89b08d4ed534F1d693a1DAB081475F741526',\n",
       " '0x0ECeCc018538979248fbC7060262EB2C7e6FeE34',\n",
       " '0x1aDe578ad2a1dE610e4287683365c8660f8FB6fb',\n",
       " '0xC7034366279A7BA40F9f5925A5AFe5117f723300',\n",
       " '0xF3E92676BF29f956Dca7C6cb7C90dA985e3FdC4D',\n",
       " '0xe08B8414EB168b8f3EA3B118132B4eeECabb761D',\n",
       " '0x452cE57A1e9Ef53077Fa1F61e7cD0B6a4b416165']"
      ]
     },
     "execution_count": 53,
     "metadata": {},
     "output_type": "execute_result"
    }
   ],
   "source": [
    "accounts"
   ]
  },
  {
   "cell_type": "markdown",
   "metadata": {},
   "source": [
    "**Certification**  \n",
    "```solidity\n",
    "\n",
    "        function addCertifier(address newCertifier) public onlyOwner {}\n",
    "        function deleteCertifier(address oldCertifier) public onlyOwner {}\n",
    "        function checkIfCertified(address certified) public view returns(bool) {}\n",
    "```"
   ]
  },
  {
   "cell_type": "code",
   "execution_count": 54,
   "metadata": {},
   "outputs": [],
   "source": [
    "#print(\"Gas\", Contract.functions.UploadDataPrimaryCategory(test_address0, False, True, True, True, True).estimateGas())\n",
    "startTime = datetime.now()\n",
    "#adding an event listener so we can check the eventss\n",
    "event_filter = Contract.events['publishedModel'].create_filter(fromBlock='latest')\n"
   ]
  },
  {
   "cell_type": "code",
   "execution_count": 55,
   "metadata": {},
   "outputs": [
    {
     "name": "stdout",
     "output_type": "stream",
     "text": [
      "before adding, certified = False\n",
      "after adding, certified = True\n"
     ]
    }
   ],
   "source": [
    "#checking if adding a new account to the certification works, we need to set an account from which the transact comes from as this function can only be called by the owner.\n",
    "tx_hash = Contract.functions.checkIfCertified(accounts[1]).call()\n",
    "print(\"before adding, certified = \" + str(tx_hash))\n",
    "tx_hash = Contract.functions.addCertifier(accounts[1]).transact({'from':accounts[0]})\n",
    "tx_hash = Contract.functions.checkIfCertified(accounts[1]).call()\n",
    "print(\"after adding, certified = \" + str(tx_hash))"
   ]
  },
  {
   "cell_type": "code",
   "execution_count": 56,
   "metadata": {},
   "outputs": [
    {
     "name": "stdout",
     "output_type": "stream",
     "text": [
      "before removing, certified = True\n",
      "after removing, certified = False\n"
     ]
    }
   ],
   "source": [
    "#checking if removing a certifier also works, we need to set an account from which the transact comes from as this function can only be called by the owner.\n",
    "tx_hash = Contract.functions.checkIfCertified(accounts[1]).call()\n",
    "print(\"before removing, certified = \" + str(tx_hash))\n",
    "tx_hash = Contract.functions.deleteCertifier(accounts[1]).transact({'from':accounts[0]})\n",
    "tx_hash = Contract.functions.checkIfCertified(accounts[1]).call()\n",
    "print(\"after removing, certified = \" + str(tx_hash))"
   ]
  },
  {
   "cell_type": "code",
   "execution_count": 57,
   "metadata": {},
   "outputs": [
    {
     "name": "stdout",
     "output_type": "stream",
     "text": [
      "AttributeDict({'hash': HexBytes('0x32f77031f83c3e4c9e47c9370c95bab6402b3e3b66f9364f590970df959995c4'), 'parentHash': HexBytes('0x945387bd0a3a9269e474f03a398e9d86fb2b15971b12111c63bb1da0b2a822c4'), 'sha3Uncles': HexBytes('0x1dcc4de8dec75d7aab85b567b6ccd41ad312451b948a7413f0a142fd40d49347'), 'miner': '0x0000000000000000000000000000000000000000', 'stateRoot': HexBytes('0x3b8ab6c81b2993a73e52c74b7991fa6abe7f6f9c422ef17b97a5678e0cb2e908'), 'transactionsRoot': HexBytes('0xab2ecea8d1931bf56e3ca013796e8feb15ace5e427a592d9ee4fa2677b76925f'), 'receiptsRoot': HexBytes('0x76b5d9bdb72b9ae5bd41b7fa634c1309f7cd22ee80fbe7d797180e94b7b73843'), 'logsBloom': HexBytes('0x00000000000000000000000000000000000000000000000000000000000000000000000000000000000000000000000000000000000000000000000000000000000000000000000000000000000000000000000000000000000000000000000000000000000000000000000000000000000000000000000000000000000000000000000000000000000000000000000000000000000000000000000000000000000000000000000000000000000000000000000000000000000000000000000000000000000000000000000000000000000000000000000000000000000000000000000000000000000000000000000000000000000000000000000000000000'), 'difficulty': 0, 'number': 75, 'gasLimit': 6721975, 'gasUsed': 24271, 'timestamp': 1706092947, 'extraData': HexBytes('0x'), 'mixHash': HexBytes('0x9a6a7372ef9e1d23028797fe098b2a744daebb36156de37ab0441ce746dc1302'), 'nonce': HexBytes('0x0000000000000000'), 'totalDifficulty': 0, 'baseFeePerGas': 474959, 'size': 662, 'transactions': [HexBytes('0x86246025a2c01ec3d436a2d04ec1b4d2ba69e8ac137ecd26687e3a97476b7577')], 'uncles': []})\n"
     ]
    }
   ],
   "source": [
    "print(w3.eth.get_block('latest'))"
   ]
  },
  {
   "cell_type": "code",
   "execution_count": 58,
   "metadata": {},
   "outputs": [
    {
     "name": "stdout",
     "output_type": "stream",
     "text": [
      "elapsedTimeDataProvider 0:00:04.481975\n"
     ]
    }
   ],
   "source": [
    "endTimeDataProvider = datetime.now()\n",
    "elapsedTimeDataProvider = endTimeDataProvider - startTime\n",
    "print(\"elapsedTimeDataProvider\", elapsedTimeDataProvider)"
   ]
  },
  {
   "cell_type": "code",
   "execution_count": 59,
   "metadata": {},
   "outputs": [],
   "source": [
    "#tx_hash"
   ]
  },
  {
   "cell_type": "markdown",
   "metadata": {},
   "source": [
    "**Adding models**  \n",
    "```solidity\n",
    "        function publishModel(\n",
    "                string memory _link,\n",
    "                bytes memory _hash) public onlyOwner providerGasCost\n",
    "```\n",
    "\n",
    "**Updating Models**  \n",
    "```solidity\n",
    "        function updateModel(\n",
    "                string memory _link,\n",
    "                bytes memory newHash) public onlyOwner providerGasCost\n",
    "```\n",
    "\n",
    "**Certifying models**  \n",
    "```solidity\n",
    "        function certifyModel(bytes memory _hash) public certifier\n",
    "```\n"
   ]
  },
  {
   "cell_type": "markdown",
   "metadata": {},
   "source": [
    "**Getters and Setters for variables**  \n",
    "```solidity\n",
    "        function getVersion(bytes32 _hash)public view returns(uint256){}\n",
    "        function getCertfication(uint256 _version) public view returns(bool){}\n",
    "        function setLink(string memory _link) public onlyOwner(){}\n",
    "        function getLink() public view returns(string memory){}\n",
    "        function getModelCardHash() public view returns(bytes32){}\n"
   ]
  },
  {
   "cell_type": "code",
   "execution_count": null,
   "metadata": {},
   "outputs": [],
   "source": []
  },
  {
   "cell_type": "code",
   "execution_count": 61,
   "metadata": {},
   "outputs": [
    {
     "name": "stdout",
     "output_type": "stream",
     "text": [
      "https/:www.somelinktomodel.com, the link to the model\n",
      "the model is certified: False\n"
     ]
    }
   ],
   "source": [
    "#Lets look at how the functions work whenever we are trying to upload a model,\n",
    "#In here im using a test hash, this does not refer to a real hash, //you can add a real model here \n",
    "\n",
    "test_hash = Web3.to_bytes(text = '0x05416460deb76d57af601be17e777b93592d8d4d4a4096c57876a91c84f4a712')\n",
    "#basically if model card hash is not 32 bytes needs to be changed\n",
    "test_link = 'https/:www.somelinktomodel.com'\n",
    "#please let me know if you have any troubles with this part, it might be that the model card is not a bytes32 hash, in that case i need to change the smart contract,\n",
    "tx_hash = Contract.functions.publishModel(test_link, test_hash).transact({'from': accounts[0]})\n",
    "#this model is not callable twice on the same contract, as it will recognise that the contract is published, keep that in mind while testing other functions in the same cell\n",
    "\n",
    "#lets see if everything prints accordingly\n",
    "print(Contract.functions.getLink().call() + \", the link to the model\")\n",
    "m_version = Contract.functions.getVersion(test_hash).call()\n",
    "print(\"the model is certified: \" + str(Contract.functions.getCertfication(m_version).call()))"
   ]
  },
  {
   "cell_type": "code",
   "execution_count": 62,
   "metadata": {},
   "outputs": [
    {
     "name": "stdout",
     "output_type": "stream",
     "text": [
      "Event: AttributeDict({'args': AttributeDict({'sender': '0x23cA5505ca6D97f439C66AaA6b371216406CDE4F', 'link': 'https/:www.somelinktomodel.com', 'modelCardHash': b'0x05416460deb76d57af601be17e777b93592d8d4d4a4096c57876a91c84f4a712', 'version': 1}), 'event': 'publishedModel', 'logIndex': 0, 'transactionIndex': 0, 'transactionHash': HexBytes('0x3dfba5ab6910982e9a9198d55949cdbe88cdc103ba8837e400a4adf4634ecae1'), 'address': '0x6Da5800336B730723B2b9242c12b0ADb6467dA6A', 'blockHash': HexBytes('0x931ae5d984e74c5a1eb272aea179dba8435ecc0f46d726d4788246f6a6698172'), 'blockNumber': 76})\n"
     ]
    }
   ],
   "source": [
    "#lets see if we can print the event\n",
    "def handle_event(event):\n",
    "    print(\"Event:\", event)\n",
    "\n",
    "# Start event listener\n",
    "for event in event_filter.get_all_entries():\n",
    "    handle_event(event)"
   ]
  },
  {
   "cell_type": "markdown",
   "metadata": {},
   "source": [
    "As we can see, important properties are saved in the event, it is possible for anyone that has access to the blockchain to check the link, modelcardhash and the version of a certain model by checking the event. The event is for anyone to check. Other events include model certification and updating the model."
   ]
  },
  {
   "cell_type": "code",
   "execution_count": 63,
   "metadata": {},
   "outputs": [
    {
     "name": "stdout",
     "output_type": "stream",
     "text": [
      "the model is certified: True\n"
     ]
    }
   ],
   "source": [
    "#let's see if we can certify the model, let's certify an account\n",
    "tx_hash = Contract.functions.addCertifier(accounts[1]).transact({'from': accounts[0]})\n",
    "tx_hash = Contract.functions.certifyModel(test_hash).transact({'from': accounts[1]})\n",
    "m_version = Contract.functions.getVersion(test_hash).call()\n",
    "print(\"the model is certified: \" + str(Contract.functions.getCertfication(m_version).call()))"
   ]
  },
  {
   "cell_type": "code",
   "execution_count": 67,
   "metadata": {},
   "outputs": [
    {
     "name": "stdout",
     "output_type": "stream",
     "text": [
      "https/:www.somelinktonewmodel.com, the link to the model\n",
      "the 1th version of model is certified: True\n",
      "the 3th version of model is certified: False\n"
     ]
    }
   ],
   "source": [
    "#Models can get certified, lets update a model\n",
    "new_hash = Web3.to_bytes(text = '0x05416460deb76sd7af601be17e777b93592d8d4d4sfdssc57876a91c84f4a712')\n",
    "new_link = 'https/:www.somelinktonewmodel.com'\n",
    "tx_hash = Contract.functions.updateModel(new_link, new_hash).transact({'from': accounts[0]})\n",
    "print(Contract.functions.getLink().call() + \", the link to the model\")\n",
    "m_version = Contract.functions.getVersion(test_hash).call()\n",
    "print(\"the \" + str(m_version) + \"th version of model is certified: \" + str(Contract.functions.getCertfication(m_version).call()))\n",
    "m_version_new = Contract.functions.getVersion(new_hash).call()\n",
    "print(\"the \" + str(m_version_new) + \"th version of model is certified: \" + str(Contract.functions.getCertfication(m_version_new).call()))\n",
    "#making sure that the hash from the contract is the same as the input\n",
    "assert str(Contract.functions.getMostRecentModelCardHash().call()) == str(new_hash)\n"
   ]
  },
  {
   "cell_type": "code",
   "execution_count": 68,
   "metadata": {},
   "outputs": [
    {
     "name": "stdout",
     "output_type": "stream",
     "text": [
      "elapsedTime1 0:02:00.676639\n"
     ]
    }
   ],
   "source": [
    "endTime1 = datetime.now()\n",
    "elapsedTime1 = endTime1 - startTime\n",
    "print(\"elapsedTime1\", elapsedTime1)"
   ]
  },
  {
   "cell_type": "code",
   "execution_count": 90,
   "metadata": {},
   "outputs": [
    {
     "data": {
      "text/plain": [
       "AttributeDict({'hash': HexBytes('0x0ae8bef0c610c11674e43a2b73ffbf5a0be8e4f218570f1dbbc28d15ead63c45'),\n",
       " 'parentHash': HexBytes('0x1c758f41364ce953a9c1f0443783ae47bcc3d5e6fd3bbf5fa10348f38f1ee390'),\n",
       " 'sha3Uncles': HexBytes('0x1dcc4de8dec75d7aab85b567b6ccd41ad312451b948a7413f0a142fd40d49347'),\n",
       " 'miner': '0x0000000000000000000000000000000000000000',\n",
       " 'stateRoot': HexBytes('0xa19e566cd11ac3e90d4a18e95011c00242e9a8640ff350b4d8a57b5a4cd1cd24'),\n",
       " 'transactionsRoot': HexBytes('0x5e08176545350625ab818d60be8ff57169ea9eae07ff4c71b08617ecb84e3b03'),\n",
       " 'receiptsRoot': HexBytes('0x25667a4590ec11ad7ecebcbbf6d2cdde9031eb5f56d4c488133f19c231b7a928'),\n",
       " 'logsBloom': HexBytes('0x00000000000000000000000000000000000000000000000000000000000000000000000000000000000000000000000000000000000000000000000000000000000000000000000000000000000000000000000000000000000000000000020000000000000000000000000000008000020000000000000000000000000000000000000000000000000000000000000000000000000100000000000000000000000000000000000000000000000000000200000000000000000000000000000000000200000000000000000000000000000000000000000000000000000000000000000000000000000000000000000000000000000000000000000000000000'),\n",
       " 'difficulty': 0,\n",
       " 'number': 84,\n",
       " 'gasLimit': 6721975,\n",
       " 'gasUsed': 180683,\n",
       " 'timestamp': 1706098290,\n",
       " 'extraData': HexBytes('0x'),\n",
       " 'mixHash': HexBytes('0x715f8a89039c532825fb6f411ed67d167739afd46e862817241e04c3337c3272'),\n",
       " 'nonce': HexBytes('0x0000000000000000'),\n",
       " 'totalDifficulty': 0,\n",
       " 'baseFeePerGas': 151372,\n",
       " 'size': 923,\n",
       " 'transactions': [HexBytes('0xbd2504541892f4fffdb9b628cb92ceeb2a55e59ece4276989d67f987137acdb3')],\n",
       " 'uncles': []})"
      ]
     },
     "execution_count": 90,
     "metadata": {},
     "output_type": "execute_result"
    }
   ],
   "source": [
    "#check the block of updating a model\n",
    "event_filter = Contract.events['updatedModel'].create_filter(fromBlock='latest')\n",
    "new_hash = Web3.to_bytes(text = '0x05416463deb79sd8af2401be17e777b93592d8d4d4sfdssc57876a91c84f4a712')\n",
    "new_link = 'https/:www.somelinktonewmodelblock.com'\n",
    "\n",
    "tx_hash = Contract.functions.updateModel(new_link, new_hash).transact({'from': accounts[0]})\n",
    "block = w3.eth.get_block('latest')\n",
    "block"
   ]
  },
  {
   "cell_type": "code",
   "execution_count": 107,
   "metadata": {},
   "outputs": [
    {
     "name": "stdout",
     "output_type": "stream",
     "text": [
      "The contract is deployed with block number 98 .\n",
      "The contract has the address 0x942d49585f29B130d3E823Ea5081405494b0419C .\n"
     ]
    }
   ],
   "source": [
    "#lets create a new contract to estimate the gas costs of the functions\n",
    "ContractGasCheck = w3.eth.contract(abi=abi, bytecode=bytecode)\n",
    "tx_hash = ContractGasCheck.constructor().transact({\"from\": w3.eth.accounts[0]})\n",
    "tx_receipt = w3.eth.wait_for_transaction_receipt(tx_hash)\n",
    "# We obtain the block number under which it is deployed \n",
    "global contract_block\n",
    "contract_block = w3.eth.block_number\n",
    "print(\"The contract is deployed with block number\",contract_block,\".\")\n",
    "global contract_address\n",
    "contract_address = tx_receipt.contractAddress\n",
    "print(\"The contract has the address\", contract_address,\".\")\n",
    "\n",
    "ContractGasCheck = w3.eth.contract(\n",
    "    address=tx_receipt.contractAddress,\n",
    "    abi=contract_interface['abi'],\n",
    ")\n",
    "\n",
    "#original hash/link\n",
    "test_hash = Web3.to_bytes(text = '0x05416460deb76d57af601be17e777c93592d8d4d4a4096c57876a91c84f4a712')\n",
    "test_link = 'https/:www.somelinktomodel.com'\n",
    "\n",
    "#new hash/link for updating model\n",
    "new_hash = Web3.to_bytes(text = '0x05416463deb79sd8af2401be17e777b94592d8d4d4sfdssc57876a91c84f4a712')\n",
    "new_link = 'https/:www.somelinktonewmodelblock.com'\n",
    "\n",
    "#calculating the gast cost in ETH.\n",
    "gas_add_cert = ContractGasCheck.functions.addCertifier(accounts[1]).estimate_gas({'from':accounts[0]})\n",
    "gas_del_cert = ContractGasCheck.functions.deleteCertifier(accounts[1]).estimate_gas({'from':accounts[0]})\n",
    "\n",
    "gas_upload = ContractGasCheck.functions.publishModel(test_link, test_hash).estimate_gas({'from': accounts[0]})\n",
    "tx_hash = ContractGasCheck.functions.publishModel(test_link, test_hash).transact({'from': accounts[0]})\n",
    "gas_update = ContractGasCheck.functions.updateModel(new_link, new_hash).estimate_gas({'from': accounts[0]})\n",
    "gas_certify = ContractGasCheck.functions.certifyModel(test_hash).estimate_gas({'from': accounts[0]})\n"
   ]
  },
  {
   "cell_type": "code",
   "execution_count": 108,
   "metadata": {},
   "outputs": [
    {
     "name": "stdout",
     "output_type": "stream",
     "text": [
      "gas prices in gwei\n",
      "adding certifier  46215\n",
      "deleting certifier  28459\n",
      "uploading model  291220\n",
      "updating model  231002\n",
      "certifying model  56725\n",
      "gas prices in ETH\n",
      "adding certifier  0.00046215\n",
      "deleting certifier  0.00028459\n",
      "uploading model  0.0029122\n",
      "updating model  0.00231002\n",
      "certifying model  0.00056725\n",
      "gas prices in EUR\n",
      "adding certifier  0.9504345825\n",
      "deleting certifier  0.5852735645\n",
      "uploading model  5.989084910000001\n",
      "updating model  4.750671631\n",
      "certifying model  1.1665779875000002\n"
     ]
    }
   ],
   "source": [
    "#printing gas prices in gwei, eth and euro\n",
    "print('gas prices in gwei')\n",
    "print('adding certifier ', gas_add_cert)\n",
    "print('deleting certifier ', gas_del_cert)\n",
    "print('uploading model ', gas_upload)\n",
    "print('updating model ',gas_update )\n",
    "print('certifying model ', gas_certify)\n",
    "\n",
    "print('gas prices in ETH')\n",
    "print('adding certifier ', gas_add_cert* 10e-9)\n",
    "print('deleting certifier ', gas_del_cert* 10e-9)\n",
    "print('uploading model ', gas_upload* 10e-9)\n",
    "print('updating model ',gas_update * 10e-9)\n",
    "print('certifying model ', gas_certify* 10e-9)\n",
    "\n",
    "#1 eth is 2055 euro at the moment\n",
    "print('gas prices in EUR')\n",
    "print('adding certifier ', gas_add_cert* 10e-9*2056.55)\n",
    "print('deleting certifier ', gas_del_cert* 10e-9*2056.55)\n",
    "print('uploading model ', gas_upload* 10e-9*2056.55)\n",
    "print('updating model ',gas_update * 10e-9*2056.55)\n",
    "print('certifying model ', gas_certify* 10e-9*2056.55)\n"
   ]
  },
  {
   "cell_type": "code",
   "execution_count": 101,
   "metadata": {},
   "outputs": [
    {
     "data": {
      "text/plain": [
       "AttributeDict({'hash': HexBytes('0xf179b78f9b96b65650bb05e60056f582773b06ae364637c45b48e0c0798c8140'),\n",
       " 'parentHash': HexBytes('0x15734bcee66eb91cf229d6384c4af32da3c3cf38d071e9407b05f6e88fe09494'),\n",
       " 'sha3Uncles': HexBytes('0x1dcc4de8dec75d7aab85b567b6ccd41ad312451b948a7413f0a142fd40d49347'),\n",
       " 'miner': '0x0000000000000000000000000000000000000000',\n",
       " 'stateRoot': HexBytes('0x1f66c67c44daa31f9e9ce2ba1f2b10f0073baae639801389b19fdb274f0fa73c'),\n",
       " 'transactionsRoot': HexBytes('0xa144c1a71ee4c365a5aebf8ed6b8af077c60e895bf26f3589e021b054fa04635'),\n",
       " 'receiptsRoot': HexBytes('0x2cc6258c98485f62df10b422f8b8e86d4b3c28ad8252e2b0c2322fca22f5cc3c'),\n",
       " 'logsBloom': HexBytes('0x00000000000000000000000000000000000000000000000000000000000000000000000000000000000000000000000000000000000000000000000000000000000000000000000000000000000000000000000000000000000000000000000000000000000000000000000000000000000000000000000000000000000000000000000000000000000000000000000000000000000000000000000000000000000000000000000000000000000000000000000000000000000000000000000000000000000000000000000000000000000000000000000000000000000000000000000000000000000000000000000000000000000000000000000000000000'),\n",
       " 'difficulty': 0,\n",
       " 'number': 91,\n",
       " 'gasLimit': 6721975,\n",
       " 'gasUsed': 4104461,\n",
       " 'timestamp': 1706099139,\n",
       " 'extraData': HexBytes('0x'),\n",
       " 'mixHash': HexBytes('0x34c00444700d461cc7f358f7ad1d4b81a5997c74b3e0135427b36499d4e8fa0b'),\n",
       " 'nonce': HexBytes('0x0000000000000000'),\n",
       " 'totalDifficulty': 0,\n",
       " 'baseFeePerGas': 135480,\n",
       " 'size': 18937,\n",
       " 'transactions': [HexBytes('0xea28c02956dc6bd3837ff4117c883071f4afd11c80c4bcc84fe987e1902bd5cd')],\n",
       " 'uncles': []})"
      ]
     },
     "execution_count": 101,
     "metadata": {},
     "output_type": "execute_result"
    }
   ],
   "source": [
    "block = w3.eth.get_block(91)\n",
    "block "
   ]
  },
  {
   "cell_type": "code",
   "execution_count": null,
   "metadata": {},
   "outputs": [],
   "source": []
  }
 ],
 "metadata": {
  "hide_input": false,
  "kernel_info": {
   "name": "python3"
  },
  "kernelspec": {
   "display_name": "Python 3",
   "language": "python",
   "name": "python3"
  },
  "language_info": {
   "codemirror_mode": {
    "name": "ipython",
    "version": 3
   },
   "file_extension": ".py",
   "mimetype": "text/x-python",
   "name": "python",
   "nbconvert_exporter": "python",
   "pygments_lexer": "ipython3",
   "version": "3.11.5"
  },
  "nteract": {
   "version": "0.14.3"
  },
  "toc": {
   "base_numbering": 1,
   "nav_menu": {},
   "number_sections": false,
   "sideBar": true,
   "skip_h1_title": false,
   "title_cell": "Table of Contents",
   "title_sidebar": "Contents",
   "toc_cell": false,
   "toc_position": {
    "height": "618px",
    "left": "214px",
    "top": "110px",
    "width": "288px"
   },
   "toc_section_display": true,
   "toc_window_display": true
  },
  "varInspector": {
   "cols": {
    "lenName": 16,
    "lenType": 16,
    "lenVar": 40
   },
   "kernels_config": {
    "python": {
     "delete_cmd_postfix": "",
     "delete_cmd_prefix": "del ",
     "library": "var_list.py",
     "varRefreshCmd": "print(var_dic_list())"
    },
    "r": {
     "delete_cmd_postfix": ") ",
     "delete_cmd_prefix": "rm(",
     "library": "var_list.r",
     "varRefreshCmd": "cat(var_dic_list()) "
    }
   },
   "types_to_exclude": [
    "module",
    "function",
    "builtin_function_or_method",
    "instance",
    "_Feature"
   ],
   "window_display": false
  }
 },
 "nbformat": 4,
 "nbformat_minor": 2
}
